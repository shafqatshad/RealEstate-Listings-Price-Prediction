{
 "cells": [
  {
   "cell_type": "markdown",
   "metadata": {},
   "source": [
    "# Real Estate Listings Price Prediction"
   ]
  },
  {
   "cell_type": "markdown",
   "metadata": {},
   "source": [
    "#### Senior Project 2020-21\n",
    "#### Kelsey Dinndorf"
   ]
  },
  {
   "cell_type": "code",
   "execution_count": 2,
   "metadata": {},
   "outputs": [
    {
     "data": {
      "text/plain": [
       "'\\nMotivation: There is a lot of variation in the prices of real estate, and it is often difficult to know whether \\nor not you are paying a fair price for a house. It is often difficult for people to know if the real estate price \\nlisted online truly reflects the value of the house, especially for people who do not know much about real estate. \\nThis uncertainty is even more frustrating for people looking for a house during the pandemic. I am interested in \\nuncovering the factors that contribute most to the price of a house and how that price is determined. \\nI aim to help inform people more about what determines the prices of real estate.\\n\\nGoal: Implement a Multiple Linear Regression Model to predict price and determine which factors are most significant \\nin deciding the price of a house.\\n'"
      ]
     },
     "execution_count": 2,
     "metadata": {},
     "output_type": "execute_result"
    }
   ],
   "source": [
    "'''\n",
    "Motivation: There is a lot of variation in the prices of real estate, and it is often difficult to know whether \n",
    "or not you are paying a fair price for a house. It is often difficult for people to know if the real estate price \n",
    "listed online truly reflects the value of the house, especially for people who do not know much about real estate. \n",
    "This uncertainty is even more frustrating for people looking for a house during the pandemic. I am interested in \n",
    "uncovering the factors that contribute most to the price of a house and how that price is determined. \n",
    "I aim to help inform people more about what determines the prices of real estate.\n",
    "\n",
    "Goal: Implement a Multiple Linear Regression Model to predict price and determine which factors are most significant \n",
    "in deciding the price of a house.\n",
    "'''"
   ]
  },
  {
   "cell_type": "code",
   "execution_count": 1,
   "metadata": {},
   "outputs": [
    {
     "data": {
      "text/plain": [
       "'\\n\\nReal Estate Data:  https://www.kaggle.com/promptcloud/real-estate-data-from-trulia\\n\\nPre-processed data found on Kaggle’s website\\nScraped from Trulia, a subsidiary of Zillow, in 2019\\nContains various real estate listings from multiple cities/states in the United States\\n68 attributes including price, size, location, style, year built, features, years listed on Trulia, and more.\\n30,000 records\\n\\n'"
      ]
     },
     "execution_count": 1,
     "metadata": {},
     "output_type": "execute_result"
    }
   ],
   "source": [
    "'''\n",
    "\n",
    "Real Estate Data:  https://www.kaggle.com/promptcloud/real-estate-data-from-trulia\n",
    "\n",
    "Pre-processed data found on Kaggle’s website\n",
    "Scraped from Trulia, a subsidiary of Zillow, in 2019\n",
    "Contains various real estate listings from multiple cities/states in the United States\n",
    "68 attributes including price, size, location, style, year built, features, years listed on Trulia, and more.\n",
    "30,000 records\n",
    "\n",
    "'''"
   ]
  },
  {
   "cell_type": "code",
   "execution_count": 1,
   "metadata": {},
   "outputs": [],
   "source": [
    "# Import libraries\n",
    "import pandas as pd\n",
    "import numpy as np\n",
    "import matplotlib.pyplot as plt\n",
    "import seaborn as sb\n",
    "import scipy.stats as stat\n",
    "import sklearn as sk\n",
    "from sklearn.linear_model import LinearRegression\n",
    "from sklearn.preprocessing import PolynomialFeatures\n",
    "from sklearn.preprocessing import StandardScaler\n",
    "from sklearn.pipeline import Pipeline\n",
    "from sklearn.metrics import mean_squared_error"
   ]
  },
  {
   "cell_type": "code",
   "execution_count": 5,
   "metadata": {},
   "outputs": [
    {
     "name": "stdout",
     "output_type": "stream",
     "text": [
      "Collecting wordcloud\n",
      "  Downloading wordcloud-1.8.1-cp37-cp37m-manylinux1_x86_64.whl (366 kB)\n",
      "\u001b[K     |████████████████████████████████| 366 kB 13.6 MB/s eta 0:00:01\n",
      "\u001b[?25hRequirement already satisfied: pillow in /opt/conda/envs/Python-3.7-main/lib/python3.7/site-packages (from wordcloud) (7.2.0)\n",
      "Requirement already satisfied: matplotlib in /opt/conda/envs/Python-3.7-main/lib/python3.7/site-packages (from wordcloud) (3.2.2)\n",
      "Requirement already satisfied: numpy>=1.6.1 in /opt/conda/envs/Python-3.7-main/lib/python3.7/site-packages (from wordcloud) (1.18.5)\n",
      "Requirement already satisfied: pyparsing!=2.0.4,!=2.1.2,!=2.1.6,>=2.0.1 in /opt/conda/envs/Python-3.7-main/lib/python3.7/site-packages (from matplotlib->wordcloud) (2.4.7)\n",
      "Requirement already satisfied: kiwisolver>=1.0.1 in /opt/conda/envs/Python-3.7-main/lib/python3.7/site-packages (from matplotlib->wordcloud) (1.2.0)\n",
      "Requirement already satisfied: cycler>=0.10 in /opt/conda/envs/Python-3.7-main/lib/python3.7/site-packages (from matplotlib->wordcloud) (0.10.0)\n",
      "Requirement already satisfied: python-dateutil>=2.1 in /opt/conda/envs/Python-3.7-main/lib/python3.7/site-packages (from matplotlib->wordcloud) (2.8.1)\n",
      "Requirement already satisfied: six in /opt/conda/envs/Python-3.7-main/lib/python3.7/site-packages (from cycler>=0.10->matplotlib->wordcloud) (1.15.0)\n",
      "Installing collected packages: wordcloud\n",
      "Successfully installed wordcloud-1.8.1\n"
     ]
    }
   ],
   "source": [
    "!pip install wordcloud\n",
    "from wordcloud import WordCloud, STOPWORDS, ImageColorGenerator"
   ]
  },
  {
   "cell_type": "code",
   "execution_count": null,
   "metadata": {},
   "outputs": [],
   "source": []
  },
  {
   "cell_type": "code",
   "execution_count": 2,
   "metadata": {},
   "outputs": [
    {
     "data": {
      "text/html": [
       "<div>\n",
       "<style scoped>\n",
       "    .dataframe tbody tr th:only-of-type {\n",
       "        vertical-align: middle;\n",
       "    }\n",
       "\n",
       "    .dataframe tbody tr th {\n",
       "        vertical-align: top;\n",
       "    }\n",
       "\n",
       "    .dataframe thead th {\n",
       "        text-align: right;\n",
       "    }\n",
       "</style>\n",
       "<table border=\"1\" class=\"dataframe\">\n",
       "  <thead>\n",
       "    <tr style=\"text-align: right;\">\n",
       "      <th></th>\n",
       "      <th>Uniq Id</th>\n",
       "      <th>Crawl Timestamp</th>\n",
       "      <th>Url</th>\n",
       "      <th>Title</th>\n",
       "      <th>Description</th>\n",
       "      <th>Price</th>\n",
       "      <th>Image Url</th>\n",
       "      <th>Style</th>\n",
       "      <th>Sqr Ft</th>\n",
       "      <th>Longitude</th>\n",
       "      <th>...</th>\n",
       "      <th>Image 16</th>\n",
       "      <th>Image 17</th>\n",
       "      <th>Image 18</th>\n",
       "      <th>Image 19</th>\n",
       "      <th>Image 20</th>\n",
       "      <th>Image 21</th>\n",
       "      <th>Image 22</th>\n",
       "      <th>Image 23</th>\n",
       "      <th>Image 24</th>\n",
       "      <th>Image 25</th>\n",
       "    </tr>\n",
       "  </thead>\n",
       "  <tbody>\n",
       "    <tr>\n",
       "      <th>0</th>\n",
       "      <td>d6521bac40600f17287f0a5a8b3efc8d</td>\n",
       "      <td>2019-09-19 05:40:24 +0000</td>\n",
       "      <td>https://www.trulia.com/p/az/phoenix/630-w-echo...</td>\n",
       "      <td>630 W Echo Ln Phoenix, AZ 85021</td>\n",
       "      <td>NEW CONSTRUCTION in the North Central Corrido...</td>\n",
       "      <td>$895,900</td>\n",
       "      <td>https://static.trulia-cdn.com/pictures/thumbs_...</td>\n",
       "      <td>4 Beds / 4.5 Baths</td>\n",
       "      <td>3,447 sqft</td>\n",
       "      <td>-112.081985</td>\n",
       "      <td>...</td>\n",
       "      <td>NaN</td>\n",
       "      <td>NaN</td>\n",
       "      <td>NaN</td>\n",
       "      <td>NaN</td>\n",
       "      <td>NaN</td>\n",
       "      <td>NaN</td>\n",
       "      <td>NaN</td>\n",
       "      <td>NaN</td>\n",
       "      <td>NaN</td>\n",
       "      <td>NaN</td>\n",
       "    </tr>\n",
       "    <tr>\n",
       "      <th>1</th>\n",
       "      <td>659d62537d940a76e3349bd39a72bd92</td>\n",
       "      <td>2019-09-19 03:48:41 +0000</td>\n",
       "      <td>https://www.trulia.com/p/tx/dallas/2367-highwo...</td>\n",
       "      <td>2367 Highwood Dr Dallas, TX 75228</td>\n",
       "      <td>UPDATED EAST DALLAS HOME READY FOR MOVE-IN. H...</td>\n",
       "      <td>$247,000</td>\n",
       "      <td>https://static.trulia-cdn.com/pictures/thumbs_...</td>\n",
       "      <td>3 Beds / 2 Baths</td>\n",
       "      <td>1,767 sqft</td>\n",
       "      <td>-96.676250</td>\n",
       "      <td>...</td>\n",
       "      <td>https://static.trulia-cdn.com/pictures/thumbs_...</td>\n",
       "      <td>https://static.trulia-cdn.com/pictures/thumbs_...</td>\n",
       "      <td>https://static.trulia-cdn.com/pictures/thumbs_...</td>\n",
       "      <td>https://static.trulia-cdn.com/pictures/thumbs_...</td>\n",
       "      <td>https://static.trulia-cdn.com/pictures/thumbs_...</td>\n",
       "      <td>https://static.trulia-cdn.com/pictures/thumbs_...</td>\n",
       "      <td>https://static.trulia-cdn.com/pictures/thumbs_...</td>\n",
       "      <td>https://static.trulia-cdn.com/pictures/thumbs_...</td>\n",
       "      <td>https://static.trulia-cdn.com/pictures/thumbs_...</td>\n",
       "      <td>https://static.trulia-cdn.com/pictures/thumbs_...</td>\n",
       "    </tr>\n",
       "    <tr>\n",
       "      <th>2</th>\n",
       "      <td>a003f7017e34b3c8486ffd54cecf9f0d</td>\n",
       "      <td>2019-09-19 09:33:07 +0000</td>\n",
       "      <td>https://www.trulia.com/p/ny/buffalo/30-hurlock...</td>\n",
       "      <td>30 Hurlock Ave Buffalo, NY 14211</td>\n",
       "      <td>This single-family home is located at 30 Hurl...</td>\n",
       "      <td>$44,900</td>\n",
       "      <td>https://static.trulia-cdn.com/pictures/thumbs_...</td>\n",
       "      <td>3 Beds / 1 Bath</td>\n",
       "      <td>1,232 sqft</td>\n",
       "      <td>-78.825190</td>\n",
       "      <td>...</td>\n",
       "      <td>NaN</td>\n",
       "      <td>NaN</td>\n",
       "      <td>NaN</td>\n",
       "      <td>NaN</td>\n",
       "      <td>NaN</td>\n",
       "      <td>NaN</td>\n",
       "      <td>NaN</td>\n",
       "      <td>NaN</td>\n",
       "      <td>NaN</td>\n",
       "      <td>NaN</td>\n",
       "    </tr>\n",
       "    <tr>\n",
       "      <th>3</th>\n",
       "      <td>bfee8b2ccc4ceaa91ebd92379b9ab73c</td>\n",
       "      <td>2019-09-22 01:08:10 +0000</td>\n",
       "      <td>https://www.trulia.com/p/ny/flushing/6416-alde...</td>\n",
       "      <td>6416 Alderton St Flushing, NY 11374</td>\n",
       "      <td>Beautiful semi detached, ranch type corner ho...</td>\n",
       "      <td>$959,000</td>\n",
       "      <td>https://static.trulia-cdn.com/pictures/thumbs_...</td>\n",
       "      <td>3 Beds / 2 Baths</td>\n",
       "      <td>1,417 sqft</td>\n",
       "      <td>-73.860170</td>\n",
       "      <td>...</td>\n",
       "      <td>https://static.trulia-cdn.com/pictures/thumbs_...</td>\n",
       "      <td>https://static.trulia-cdn.com/pictures/thumbs_...</td>\n",
       "      <td>https://static.trulia-cdn.com/pictures/thumbs_...</td>\n",
       "      <td>https://static.trulia-cdn.com/pictures/thumbs_...</td>\n",
       "      <td>https://static.trulia-cdn.com/pictures/thumbs_...</td>\n",
       "      <td>https://static.trulia-cdn.com/pictures/thumbs_...</td>\n",
       "      <td>https://static.trulia-cdn.com/pictures/thumbs_...</td>\n",
       "      <td>https://static.trulia-cdn.com/pictures/thumbs_...</td>\n",
       "      <td>https://static.trulia-cdn.com/pictures/thumbs_...</td>\n",
       "      <td>https://static.trulia-cdn.com/pictures/thumbs_...</td>\n",
       "    </tr>\n",
       "    <tr>\n",
       "      <th>4</th>\n",
       "      <td>01078a918e94a5d7975c66f9f679727a</td>\n",
       "      <td>2019-10-22 01:06:43 +0000</td>\n",
       "      <td>https://www.trulia.com/p/fl/miami-gardens/251-...</td>\n",
       "      <td>251 NW 177th St #A-123 Miami Gardens, FL 33169</td>\n",
       "      <td>great investor opportunity!!! , beautiful stu...</td>\n",
       "      <td>$83,500</td>\n",
       "      <td>https://static.trulia-cdn.com/pictures/thumbs_...</td>\n",
       "      <td>Studio / 1 Bath</td>\n",
       "      <td>440 sqft</td>\n",
       "      <td>-80.206314</td>\n",
       "      <td>...</td>\n",
       "      <td>NaN</td>\n",
       "      <td>NaN</td>\n",
       "      <td>NaN</td>\n",
       "      <td>NaN</td>\n",
       "      <td>NaN</td>\n",
       "      <td>NaN</td>\n",
       "      <td>NaN</td>\n",
       "      <td>NaN</td>\n",
       "      <td>NaN</td>\n",
       "      <td>NaN</td>\n",
       "    </tr>\n",
       "  </tbody>\n",
       "</table>\n",
       "<p>5 rows × 68 columns</p>\n",
       "</div>"
      ],
      "text/plain": [
       "                            Uniq Id            Crawl Timestamp  \\\n",
       "0  d6521bac40600f17287f0a5a8b3efc8d  2019-09-19 05:40:24 +0000   \n",
       "1  659d62537d940a76e3349bd39a72bd92  2019-09-19 03:48:41 +0000   \n",
       "2  a003f7017e34b3c8486ffd54cecf9f0d  2019-09-19 09:33:07 +0000   \n",
       "3  bfee8b2ccc4ceaa91ebd92379b9ab73c  2019-09-22 01:08:10 +0000   \n",
       "4  01078a918e94a5d7975c66f9f679727a  2019-10-22 01:06:43 +0000   \n",
       "\n",
       "                                                 Url  \\\n",
       "0  https://www.trulia.com/p/az/phoenix/630-w-echo...   \n",
       "1  https://www.trulia.com/p/tx/dallas/2367-highwo...   \n",
       "2  https://www.trulia.com/p/ny/buffalo/30-hurlock...   \n",
       "3  https://www.trulia.com/p/ny/flushing/6416-alde...   \n",
       "4  https://www.trulia.com/p/fl/miami-gardens/251-...   \n",
       "\n",
       "                                              Title  \\\n",
       "0                  630 W Echo Ln Phoenix, AZ 85021    \n",
       "1                2367 Highwood Dr Dallas, TX 75228    \n",
       "2                 30 Hurlock Ave Buffalo, NY 14211    \n",
       "3              6416 Alderton St Flushing, NY 11374    \n",
       "4   251 NW 177th St #A-123 Miami Gardens, FL 33169    \n",
       "\n",
       "                                         Description      Price  \\\n",
       "0   NEW CONSTRUCTION in the North Central Corrido...  $895,900    \n",
       "1   UPDATED EAST DALLAS HOME READY FOR MOVE-IN. H...  $247,000    \n",
       "2   This single-family home is located at 30 Hurl...   $44,900    \n",
       "3   Beautiful semi detached, ranch type corner ho...  $959,000    \n",
       "4   great investor opportunity!!! , beautiful stu...   $83,500    \n",
       "\n",
       "                                           Image Url               Style  \\\n",
       "0  https://static.trulia-cdn.com/pictures/thumbs_...  4 Beds / 4.5 Baths   \n",
       "1  https://static.trulia-cdn.com/pictures/thumbs_...    3 Beds / 2 Baths   \n",
       "2  https://static.trulia-cdn.com/pictures/thumbs_...     3 Beds / 1 Bath   \n",
       "3  https://static.trulia-cdn.com/pictures/thumbs_...    3 Beds / 2 Baths   \n",
       "4  https://static.trulia-cdn.com/pictures/thumbs_...     Studio / 1 Bath   \n",
       "\n",
       "       Sqr Ft   Longitude  ...  \\\n",
       "0  3,447 sqft -112.081985  ...   \n",
       "1  1,767 sqft  -96.676250  ...   \n",
       "2  1,232 sqft  -78.825190  ...   \n",
       "3  1,417 sqft  -73.860170  ...   \n",
       "4    440 sqft  -80.206314  ...   \n",
       "\n",
       "                                            Image 16  \\\n",
       "0                                                NaN   \n",
       "1  https://static.trulia-cdn.com/pictures/thumbs_...   \n",
       "2                                                NaN   \n",
       "3  https://static.trulia-cdn.com/pictures/thumbs_...   \n",
       "4                                                NaN   \n",
       "\n",
       "                                            Image 17  \\\n",
       "0                                                NaN   \n",
       "1  https://static.trulia-cdn.com/pictures/thumbs_...   \n",
       "2                                                NaN   \n",
       "3  https://static.trulia-cdn.com/pictures/thumbs_...   \n",
       "4                                                NaN   \n",
       "\n",
       "                                            Image 18  \\\n",
       "0                                                NaN   \n",
       "1  https://static.trulia-cdn.com/pictures/thumbs_...   \n",
       "2                                                NaN   \n",
       "3  https://static.trulia-cdn.com/pictures/thumbs_...   \n",
       "4                                                NaN   \n",
       "\n",
       "                                            Image 19  \\\n",
       "0                                                NaN   \n",
       "1  https://static.trulia-cdn.com/pictures/thumbs_...   \n",
       "2                                                NaN   \n",
       "3  https://static.trulia-cdn.com/pictures/thumbs_...   \n",
       "4                                                NaN   \n",
       "\n",
       "                                            Image 20  \\\n",
       "0                                                NaN   \n",
       "1  https://static.trulia-cdn.com/pictures/thumbs_...   \n",
       "2                                                NaN   \n",
       "3  https://static.trulia-cdn.com/pictures/thumbs_...   \n",
       "4                                                NaN   \n",
       "\n",
       "                                            Image 21  \\\n",
       "0                                                NaN   \n",
       "1  https://static.trulia-cdn.com/pictures/thumbs_...   \n",
       "2                                                NaN   \n",
       "3  https://static.trulia-cdn.com/pictures/thumbs_...   \n",
       "4                                                NaN   \n",
       "\n",
       "                                            Image 22  \\\n",
       "0                                                NaN   \n",
       "1  https://static.trulia-cdn.com/pictures/thumbs_...   \n",
       "2                                                NaN   \n",
       "3  https://static.trulia-cdn.com/pictures/thumbs_...   \n",
       "4                                                NaN   \n",
       "\n",
       "                                            Image 23  \\\n",
       "0                                                NaN   \n",
       "1  https://static.trulia-cdn.com/pictures/thumbs_...   \n",
       "2                                                NaN   \n",
       "3  https://static.trulia-cdn.com/pictures/thumbs_...   \n",
       "4                                                NaN   \n",
       "\n",
       "                                            Image 24  \\\n",
       "0                                                NaN   \n",
       "1  https://static.trulia-cdn.com/pictures/thumbs_...   \n",
       "2                                                NaN   \n",
       "3  https://static.trulia-cdn.com/pictures/thumbs_...   \n",
       "4                                                NaN   \n",
       "\n",
       "                                            Image 25  \n",
       "0                                                NaN  \n",
       "1  https://static.trulia-cdn.com/pictures/thumbs_...  \n",
       "2                                                NaN  \n",
       "3  https://static.trulia-cdn.com/pictures/thumbs_...  \n",
       "4                                                NaN  \n",
       "\n",
       "[5 rows x 68 columns]"
      ]
     },
     "execution_count": 2,
     "metadata": {},
     "output_type": "execute_result"
    }
   ],
   "source": [
    "#import data\n",
    "import types\n",
    "from botocore.client import Config\n",
    "import ibm_boto3\n",
    "\n",
    "def __iter__(self): return 0\n",
    "\n",
    "# @hidden_cell\n",
    "# The following code accesses a file in your IBM Cloud Object Storage. It includes your credentials.\n",
    "# You might want to remove those credentials before you share the notebook.\n",
    "client_5a7f0d32e3f74da881228669190705da = ibm_boto3.client(service_name='s3',\n",
    "    ibm_api_key_id='d9GnnkKQVvMXW5ZW8Gwh_62JvBA6cy47uvCw8KCnxxkh',\n",
    "    ibm_auth_endpoint=\"https://iam.cloud.ibm.com/oidc/token\",\n",
    "    config=Config(signature_version='oauth'),\n",
    "    endpoint_url='https://s3-api.us-geo.objectstorage.service.networklayer.com')\n",
    "\n",
    "body = client_5a7f0d32e3f74da881228669190705da.get_object(Bucket='seniorproject-donotdelete-pr-6dm4jsyzpqluep',Key='marketing_sample_for_trulia_com-real_estate__20190901_20191031__30k_data.csv')['Body']\n",
    "# add missing __iter__ method, so pandas accepts body as file-like object\n",
    "if not hasattr(body, \"__iter__\"): body.__iter__ = types.MethodType( __iter__, body )\n",
    "\n",
    "df = pd.read_csv(body)\n",
    "df.head()\n"
   ]
  },
  {
   "cell_type": "code",
   "execution_count": 3,
   "metadata": {},
   "outputs": [
    {
     "data": {
      "text/plain": [
       "(30006, 68)"
      ]
     },
     "execution_count": 3,
     "metadata": {},
     "output_type": "execute_result"
    }
   ],
   "source": [
    "#Shape of data\n",
    "\n",
    "df.shape\n",
    "#30006 rows, 68 columns/attributes"
   ]
  },
  {
   "cell_type": "code",
   "execution_count": 4,
   "metadata": {},
   "outputs": [
    {
     "name": "stdout",
     "output_type": "stream",
     "text": [
      "Uniq Id                object\n",
      "Crawl Timestamp        object\n",
      "Url                    object\n",
      "Title                  object\n",
      "Description            object\n",
      "Price                  object\n",
      "Image Url              object\n",
      "Style                  object\n",
      "Sqr Ft                 object\n",
      "Lot Size               object\n",
      "Price Sqr Ft           object\n",
      "Features               object\n",
      "Last Sold For          object\n",
      "Last Tax Assestment    object\n",
      "Address                object\n",
      "City                   object\n",
      "State                  object\n",
      "Property Type          object\n",
      "Address Full           object\n",
      "Facts                  object\n",
      "Image 1                object\n",
      "Image 2                object\n",
      "Image 3                object\n",
      "Image 4                object\n",
      "Image 5                object\n",
      "Image 6                object\n",
      "Image 7                object\n",
      "Image 8                object\n",
      "Image 9                object\n",
      "Image 10               object\n",
      "Image 11               object\n",
      "Image 12               object\n",
      "Image 13               object\n",
      "Image 14               object\n",
      "Image 15               object\n",
      "Image 16               object\n",
      "Image 17               object\n",
      "Image 18               object\n",
      "Image 19               object\n",
      "Image 20               object\n",
      "Image 21               object\n",
      "Image 22               object\n",
      "Image 23               object\n",
      "Image 24               object\n",
      "Image 25               object\n",
      "dtype: object\n",
      "Longitude                   float64\n",
      "Latitude                    float64\n",
      "Home Id                     float64\n",
      "Beds                        float64\n",
      "Bath                        float64\n",
      "Year Built                  float64\n",
      "Last Sold Year              float64\n",
      "Last Tax Year               float64\n",
      "Zipcode                     float64\n",
      "Days On Trulia              float64\n",
      "Listing Agent Name          float64\n",
      "Listing Agent Contact No    float64\n",
      "Agent Name 1                float64\n",
      "Agent Contact No 1          float64\n",
      "Agent Name 2                float64\n",
      "Agent Contact No 2          float64\n",
      "Agent Name 3                float64\n",
      "Agent Contact No 3          float64\n",
      "Agent Name 4                float64\n",
      "Agent Contact No 4          float64\n",
      "Agent Name 5                float64\n",
      "Agent Contact No 5          float64\n",
      "Brokername                  float64\n",
      "dtype: object\n"
     ]
    }
   ],
   "source": [
    "#prints dataframe attributes data types in series\n",
    "print(df.dtypes[df.dtypes == 'object'])\n",
    "#not object\n",
    "print(df.dtypes[df.dtypes != 'object'])\n",
    "\n",
    "#All attributes are objects or float64"
   ]
  },
  {
   "cell_type": "code",
   "execution_count": 5,
   "metadata": {},
   "outputs": [
    {
     "name": "stdout",
     "output_type": "stream",
     "text": [
      "                                 Uniq Id            Crawl Timestamp  \\\n",
      "count                              30006                      30006   \n",
      "unique                             30006                      27461   \n",
      "top     6956a21f458ee535b6f4e242801a3b9a  2019-10-19 02:02:22 +0000   \n",
      "freq                                   1                          4   \n",
      "mean                                 NaN                        NaN   \n",
      "std                                  NaN                        NaN   \n",
      "min                                  NaN                        NaN   \n",
      "25%                                  NaN                        NaN   \n",
      "50%                                  NaN                        NaN   \n",
      "75%                                  NaN                        NaN   \n",
      "max                                  NaN                        NaN   \n",
      "\n",
      "                                                      Url  \\\n",
      "count                                               30006   \n",
      "unique                                              30006   \n",
      "top     https://www.trulia.com/builder-community/Tusca...   \n",
      "freq                                                    1   \n",
      "mean                                                  NaN   \n",
      "std                                                   NaN   \n",
      "min                                                   NaN   \n",
      "25%                                                   NaN   \n",
      "50%                                                   NaN   \n",
      "75%                                                   NaN   \n",
      "max                                                   NaN   \n",
      "\n",
      "                                      Title  \\\n",
      "count                                 30006   \n",
      "unique                                29964   \n",
      "top      17850 N 68th St Phoenix, AZ 85054    \n",
      "freq                                      4   \n",
      "mean                                    NaN   \n",
      "std                                     NaN   \n",
      "min                                     NaN   \n",
      "25%                                     NaN   \n",
      "50%                                     NaN   \n",
      "75%                                     NaN   \n",
      "max                                     NaN   \n",
      "\n",
      "                                              Description  \\\n",
      "count                                               29984   \n",
      "unique                                              29458   \n",
      "top     This property is no longer available to rent o...   \n",
      "freq                                                   23   \n",
      "mean                                                  NaN   \n",
      "std                                                   NaN   \n",
      "min                                                   NaN   \n",
      "25%                                                   NaN   \n",
      "50%                                                   NaN   \n",
      "75%                                                   NaN   \n",
      "max                                                   NaN   \n",
      "\n",
      "                       Price  \\\n",
      "count                  30006   \n",
      "unique                  6058   \n",
      "top     Contact For Estimate   \n",
      "freq                     226   \n",
      "mean                     NaN   \n",
      "std                      NaN   \n",
      "min                      NaN   \n",
      "25%                      NaN   \n",
      "50%                      NaN   \n",
      "75%                      NaN   \n",
      "max                      NaN   \n",
      "\n",
      "                                                Image Url             Style  \\\n",
      "count                                               28577             27637   \n",
      "unique                                              28437               193   \n",
      "top     https://static.trulia-cdn.com/pictures/thumbs_...  3 Beds / 2 Baths   \n",
      "freq                                                    4              5225   \n",
      "mean                                                  NaN               NaN   \n",
      "std                                                   NaN               NaN   \n",
      "min                                                   NaN               NaN   \n",
      "25%                                                   NaN               NaN   \n",
      "50%                                                   NaN               NaN   \n",
      "75%                                                   NaN               NaN   \n",
      "max                                                   NaN               NaN   \n",
      "\n",
      "            Sqr Ft     Longitude  ...  \\\n",
      "count        27786  30006.000000  ...   \n",
      "unique        4871           NaN  ...   \n",
      "top     1,200 sqft           NaN  ...   \n",
      "freq           153           NaN  ...   \n",
      "mean           NaN    -95.167341  ...   \n",
      "std            NaN     15.454027  ...   \n",
      "min            NaN   -150.047160  ...   \n",
      "25%            NaN   -106.742751  ...   \n",
      "50%            NaN    -93.390977  ...   \n",
      "75%            NaN    -81.638904  ...   \n",
      "max            NaN    -70.997740  ...   \n",
      "\n",
      "                                                 Image 16  \\\n",
      "count                                               18474   \n",
      "unique                                              18422   \n",
      "top     https://static.trulia-cdn.com/pictures/thumbs_...   \n",
      "freq                                                    2   \n",
      "mean                                                  NaN   \n",
      "std                                                   NaN   \n",
      "min                                                   NaN   \n",
      "25%                                                   NaN   \n",
      "50%                                                   NaN   \n",
      "75%                                                   NaN   \n",
      "max                                                   NaN   \n",
      "\n",
      "                                                 Image 17  \\\n",
      "count                                               17856   \n",
      "unique                                              17807   \n",
      "top     https://static.trulia-cdn.com/pictures/thumbs_...   \n",
      "freq                                                    2   \n",
      "mean                                                  NaN   \n",
      "std                                                   NaN   \n",
      "min                                                   NaN   \n",
      "25%                                                   NaN   \n",
      "50%                                                   NaN   \n",
      "75%                                                   NaN   \n",
      "max                                                   NaN   \n",
      "\n",
      "                                                 Image 18  \\\n",
      "count                                               17234   \n",
      "unique                                              17189   \n",
      "top     https://static.trulia-cdn.com/pictures/thumbs_...   \n",
      "freq                                                    2   \n",
      "mean                                                  NaN   \n",
      "std                                                   NaN   \n",
      "min                                                   NaN   \n",
      "25%                                                   NaN   \n",
      "50%                                                   NaN   \n",
      "75%                                                   NaN   \n",
      "max                                                   NaN   \n",
      "\n",
      "                                                 Image 19  \\\n",
      "count                                               16550   \n",
      "unique                                              16505   \n",
      "top     https://static.trulia-cdn.com/pictures/thumbs_...   \n",
      "freq                                                    2   \n",
      "mean                                                  NaN   \n",
      "std                                                   NaN   \n",
      "min                                                   NaN   \n",
      "25%                                                   NaN   \n",
      "50%                                                   NaN   \n",
      "75%                                                   NaN   \n",
      "max                                                   NaN   \n",
      "\n",
      "                                                 Image 20  \\\n",
      "count                                               15902   \n",
      "unique                                              15859   \n",
      "top     https://static.trulia-cdn.com/pictures/thumbs_...   \n",
      "freq                                                    2   \n",
      "mean                                                  NaN   \n",
      "std                                                   NaN   \n",
      "min                                                   NaN   \n",
      "25%                                                   NaN   \n",
      "50%                                                   NaN   \n",
      "75%                                                   NaN   \n",
      "max                                                   NaN   \n",
      "\n",
      "                                                 Image 21  \\\n",
      "count                                               15053   \n",
      "unique                                              15013   \n",
      "top     https://static.trulia-cdn.com/pictures/thumbs_...   \n",
      "freq                                                    2   \n",
      "mean                                                  NaN   \n",
      "std                                                   NaN   \n",
      "min                                                   NaN   \n",
      "25%                                                   NaN   \n",
      "50%                                                   NaN   \n",
      "75%                                                   NaN   \n",
      "max                                                   NaN   \n",
      "\n",
      "                                                 Image 22  \\\n",
      "count                                               14347   \n",
      "unique                                              14308   \n",
      "top     https://static.trulia-cdn.com/pictures/thumbs_...   \n",
      "freq                                                    2   \n",
      "mean                                                  NaN   \n",
      "std                                                   NaN   \n",
      "min                                                   NaN   \n",
      "25%                                                   NaN   \n",
      "50%                                                   NaN   \n",
      "75%                                                   NaN   \n",
      "max                                                   NaN   \n",
      "\n",
      "                                                 Image 23  \\\n",
      "count                                               13591   \n",
      "unique                                              13554   \n",
      "top     https://static.trulia-cdn.com/pictures/thumbs_...   \n",
      "freq                                                    2   \n",
      "mean                                                  NaN   \n",
      "std                                                   NaN   \n",
      "min                                                   NaN   \n",
      "25%                                                   NaN   \n",
      "50%                                                   NaN   \n",
      "75%                                                   NaN   \n",
      "max                                                   NaN   \n",
      "\n",
      "                                                 Image 24  \\\n",
      "count                                               12880   \n",
      "unique                                              12846   \n",
      "top     https://static.trulia-cdn.com/pictures/thumbs_...   \n",
      "freq                                                    2   \n",
      "mean                                                  NaN   \n",
      "std                                                   NaN   \n",
      "min                                                   NaN   \n",
      "25%                                                   NaN   \n",
      "50%                                                   NaN   \n",
      "75%                                                   NaN   \n",
      "max                                                   NaN   \n",
      "\n",
      "                                                 Image 25  \n",
      "count                                               12033  \n",
      "unique                                              12004  \n",
      "top     https://static.trulia-cdn.com/pictures/thumbs_...  \n",
      "freq                                                    2  \n",
      "mean                                                  NaN  \n",
      "std                                                   NaN  \n",
      "min                                                   NaN  \n",
      "25%                                                   NaN  \n",
      "50%                                                   NaN  \n",
      "75%                                                   NaN  \n",
      "max                                                   NaN  \n",
      "\n",
      "[11 rows x 68 columns]\n"
     ]
    }
   ],
   "source": [
    "#Statistical analysis of data distribution\n",
    "print(df.describe(include=\"all\"))"
   ]
  },
  {
   "cell_type": "code",
   "execution_count": 6,
   "metadata": {},
   "outputs": [
    {
     "name": "stdout",
     "output_type": "stream",
     "text": [
      "<class 'pandas.core.frame.DataFrame'>\n",
      "RangeIndex: 30006 entries, 0 to 30005\n",
      "Data columns (total 68 columns):\n",
      " #   Column                    Non-Null Count  Dtype  \n",
      "---  ------                    --------------  -----  \n",
      " 0   Uniq Id                   30006 non-null  object \n",
      " 1   Crawl Timestamp           30006 non-null  object \n",
      " 2   Url                       30006 non-null  object \n",
      " 3   Title                     30006 non-null  object \n",
      " 4   Description               29984 non-null  object \n",
      " 5   Price                     30006 non-null  object \n",
      " 6   Image Url                 28577 non-null  object \n",
      " 7   Style                     27637 non-null  object \n",
      " 8   Sqr Ft                    27786 non-null  object \n",
      " 9   Longitude                 30006 non-null  float64\n",
      " 10  Latitude                  30006 non-null  float64\n",
      " 11  Home Id                   30004 non-null  float64\n",
      " 12  Lot Size                  25490 non-null  object \n",
      " 13  Beds                      27420 non-null  float64\n",
      " 14  Bath                      27496 non-null  float64\n",
      " 15  Year Built                26258 non-null  float64\n",
      " 16  Price Sqr Ft              27271 non-null  object \n",
      " 17  Features                  30006 non-null  object \n",
      " 18  Last Sold Year            14213 non-null  float64\n",
      " 19  Last Sold For             14213 non-null  object \n",
      " 20  Last Tax Assestment       18245 non-null  object \n",
      " 21  Last Tax Year             18168 non-null  float64\n",
      " 22  Address                   30006 non-null  object \n",
      " 23  City                      30006 non-null  object \n",
      " 24  State                     30006 non-null  object \n",
      " 25  Zipcode                   30003 non-null  float64\n",
      " 26  Property Type             64 non-null     object \n",
      " 27  Address Full              30006 non-null  object \n",
      " 28  Facts                     23038 non-null  object \n",
      " 29  Days On Trulia            24844 non-null  float64\n",
      " 30  Listing Agent Name        0 non-null      float64\n",
      " 31  Listing Agent Contact No  0 non-null      float64\n",
      " 32  Agent Name 1              0 non-null      float64\n",
      " 33  Agent Contact No 1        0 non-null      float64\n",
      " 34  Agent Name 2              0 non-null      float64\n",
      " 35  Agent Contact No 2        0 non-null      float64\n",
      " 36  Agent Name 3              0 non-null      float64\n",
      " 37  Agent Contact No 3        0 non-null      float64\n",
      " 38  Agent Name 4              0 non-null      float64\n",
      " 39  Agent Contact No 4        0 non-null      float64\n",
      " 40  Agent Name 5              0 non-null      float64\n",
      " 41  Agent Contact No 5        0 non-null      float64\n",
      " 42  Brokername                0 non-null      float64\n",
      " 43  Image 1                   28577 non-null  object \n",
      " 44  Image 2                   26980 non-null  object \n",
      " 45  Image 3                   26231 non-null  object \n",
      " 46  Image 4                   25614 non-null  object \n",
      " 47  Image 5                   25005 non-null  object \n",
      " 48  Image 6                   24169 non-null  object \n",
      " 49  Image 7                   23645 non-null  object \n",
      " 50  Image 8                   23134 non-null  object \n",
      " 51  Image 9                   22618 non-null  object \n",
      " 52  Image 10                  22103 non-null  object \n",
      " 53  Image 11                  21512 non-null  object \n",
      " 54  Image 12                  20901 non-null  object \n",
      " 55  Image 13                  20322 non-null  object \n",
      " 56  Image 14                  19780 non-null  object \n",
      " 57  Image 15                  19167 non-null  object \n",
      " 58  Image 16                  18474 non-null  object \n",
      " 59  Image 17                  17856 non-null  object \n",
      " 60  Image 18                  17234 non-null  object \n",
      " 61  Image 19                  16550 non-null  object \n",
      " 62  Image 20                  15902 non-null  object \n",
      " 63  Image 21                  15053 non-null  object \n",
      " 64  Image 22                  14347 non-null  object \n",
      " 65  Image 23                  13591 non-null  object \n",
      " 66  Image 24                  12880 non-null  object \n",
      " 67  Image 25                  12033 non-null  object \n",
      "dtypes: float64(23), object(45)\n",
      "memory usage: 15.6+ MB\n",
      "None\n"
     ]
    }
   ],
   "source": [
    "# Data attribute info/descriptions\n",
    "print(df.info())"
   ]
  },
  {
   "cell_type": "code",
   "execution_count": 7,
   "metadata": {},
   "outputs": [
    {
     "name": "stdout",
     "output_type": "stream",
     "text": [
      "(30006, 68)\n"
     ]
    }
   ],
   "source": [
    "#Check for duplicate rows\n",
    "\n",
    "df.drop_duplicates()\n",
    "print(df.shape)\n",
    "#No duplicate rows"
   ]
  },
  {
   "cell_type": "code",
   "execution_count": 8,
   "metadata": {},
   "outputs": [
    {
     "data": {
      "text/plain": [
       "Uniq Id                0\n",
       "Crawl Timestamp        0\n",
       "Url                    0\n",
       "Title                  0\n",
       "Description           22\n",
       "                   ...  \n",
       "Image 21           14953\n",
       "Image 22           15659\n",
       "Image 23           16415\n",
       "Image 24           17126\n",
       "Image 25           17973\n",
       "Length: 68, dtype: int64"
      ]
     },
     "execution_count": 8,
     "metadata": {},
     "output_type": "execute_result"
    }
   ],
   "source": [
    "#Find missing values\n",
    "df.isnull().sum()"
   ]
  },
  {
   "cell_type": "code",
   "execution_count": 9,
   "metadata": {},
   "outputs": [
    {
     "name": "stdout",
     "output_type": "stream",
     "text": [
      "                            Uniq Id      Price               Style  \\\n",
      "0  d6521bac40600f17287f0a5a8b3efc8d  $895,900   4 Beds / 4.5 Baths   \n",
      "1  659d62537d940a76e3349bd39a72bd92  $247,000     3 Beds / 2 Baths   \n",
      "2  a003f7017e34b3c8486ffd54cecf9f0d   $44,900      3 Beds / 1 Bath   \n",
      "3  bfee8b2ccc4ceaa91ebd92379b9ab73c  $959,000     3 Beds / 2 Baths   \n",
      "4  01078a918e94a5d7975c66f9f679727a   $83,500      Studio / 1 Bath   \n",
      "\n",
      "       Sqr Ft   Longitude   Latitude    Lot Size  Beds  Bath  Year Built  ...  \\\n",
      "0  3,447 sqft -112.081985  33.560055  7,895 sqft   4.0   4.5      2019.0  ...   \n",
      "1  1,767 sqft  -96.676250  32.829227  7,877 sqft   3.0   2.0      1954.0  ...   \n",
      "2  1,232 sqft  -78.825190  42.913000  3,510 sqft   3.0   1.0      1900.0  ...   \n",
      "3  1,417 sqft  -73.860170  40.722960  2,598 sqft   3.0   2.0      1939.0  ...   \n",
      "4    440 sqft  -80.206314  25.937965         NaN   NaN   1.0      1971.0  ...   \n",
      "\n",
      "                                            Image 16  \\\n",
      "0                                                NaN   \n",
      "1  https://static.trulia-cdn.com/pictures/thumbs_...   \n",
      "2                                                NaN   \n",
      "3  https://static.trulia-cdn.com/pictures/thumbs_...   \n",
      "4                                                NaN   \n",
      "\n",
      "                                            Image 17  \\\n",
      "0                                                NaN   \n",
      "1  https://static.trulia-cdn.com/pictures/thumbs_...   \n",
      "2                                                NaN   \n",
      "3  https://static.trulia-cdn.com/pictures/thumbs_...   \n",
      "4                                                NaN   \n",
      "\n",
      "                                            Image 18  \\\n",
      "0                                                NaN   \n",
      "1  https://static.trulia-cdn.com/pictures/thumbs_...   \n",
      "2                                                NaN   \n",
      "3  https://static.trulia-cdn.com/pictures/thumbs_...   \n",
      "4                                                NaN   \n",
      "\n",
      "                                            Image 19  \\\n",
      "0                                                NaN   \n",
      "1  https://static.trulia-cdn.com/pictures/thumbs_...   \n",
      "2                                                NaN   \n",
      "3  https://static.trulia-cdn.com/pictures/thumbs_...   \n",
      "4                                                NaN   \n",
      "\n",
      "                                            Image 20  \\\n",
      "0                                                NaN   \n",
      "1  https://static.trulia-cdn.com/pictures/thumbs_...   \n",
      "2                                                NaN   \n",
      "3  https://static.trulia-cdn.com/pictures/thumbs_...   \n",
      "4                                                NaN   \n",
      "\n",
      "                                            Image 21  \\\n",
      "0                                                NaN   \n",
      "1  https://static.trulia-cdn.com/pictures/thumbs_...   \n",
      "2                                                NaN   \n",
      "3  https://static.trulia-cdn.com/pictures/thumbs_...   \n",
      "4                                                NaN   \n",
      "\n",
      "                                            Image 22  \\\n",
      "0                                                NaN   \n",
      "1  https://static.trulia-cdn.com/pictures/thumbs_...   \n",
      "2                                                NaN   \n",
      "3  https://static.trulia-cdn.com/pictures/thumbs_...   \n",
      "4                                                NaN   \n",
      "\n",
      "                                            Image 23  \\\n",
      "0                                                NaN   \n",
      "1  https://static.trulia-cdn.com/pictures/thumbs_...   \n",
      "2                                                NaN   \n",
      "3  https://static.trulia-cdn.com/pictures/thumbs_...   \n",
      "4                                                NaN   \n",
      "\n",
      "                                            Image 24  \\\n",
      "0                                                NaN   \n",
      "1  https://static.trulia-cdn.com/pictures/thumbs_...   \n",
      "2                                                NaN   \n",
      "3  https://static.trulia-cdn.com/pictures/thumbs_...   \n",
      "4                                                NaN   \n",
      "\n",
      "                                            Image 25  \n",
      "0                                                NaN  \n",
      "1  https://static.trulia-cdn.com/pictures/thumbs_...  \n",
      "2                                                NaN  \n",
      "3  https://static.trulia-cdn.com/pictures/thumbs_...  \n",
      "4                                                NaN  \n",
      "\n",
      "[5 rows x 57 columns]\n"
     ]
    }
   ],
   "source": [
    "#drop uneeded columns/ columns with too many null values\n",
    "df.drop(\"Crawl Timestamp\", axis = 1, inplace=True)\n",
    "df.drop(\"Url\", axis = 1, inplace=True)\n",
    "df.drop(\"Title\", axis = 1, inplace=True)\n",
    "df.drop(\"Description\", axis = 1, inplace=True)\n",
    "df.drop(\"Image Url\", axis = 1, inplace=True)\n",
    "df.drop(\"Home Id\", axis = 1, inplace=True)\n",
    "df.drop(\"Address\", axis = 1, inplace=True)\n",
    "df.drop(\"Property Type\", axis = 1, inplace=True)\n",
    "df.drop(\"Address Full\", axis = 1, inplace=True)\n",
    "df.drop(\"Facts\", axis = 1, inplace=True)\n",
    "df.drop(\"Listing Agent Name\", axis = 1, inplace=True)\n",
    "df1=df\n",
    "print(df1.head())"
   ]
  },
  {
   "cell_type": "code",
   "execution_count": 10,
   "metadata": {},
   "outputs": [
    {
     "data": {
      "text/plain": [
       "19"
      ]
     },
     "execution_count": 10,
     "metadata": {},
     "output_type": "execute_result"
    }
   ],
   "source": [
    "#Find column number for \"Days on Trulia\" --want to get rid of all columns after this one (agents and images)\n",
    "df1.columns.get_loc(\"Days On Trulia\")"
   ]
  },
  {
   "cell_type": "code",
   "execution_count": 11,
   "metadata": {},
   "outputs": [
    {
     "name": "stdout",
     "output_type": "stream",
     "text": [
      "<class 'pandas.core.frame.DataFrame'>\n",
      "RangeIndex: 30006 entries, 0 to 30005\n",
      "Data columns (total 57 columns):\n",
      " #   Column                    Non-Null Count  Dtype  \n",
      "---  ------                    --------------  -----  \n",
      " 0   Uniq Id                   30006 non-null  object \n",
      " 1   Price                     30006 non-null  object \n",
      " 2   Style                     27637 non-null  object \n",
      " 3   Sqr Ft                    27786 non-null  object \n",
      " 4   Longitude                 30006 non-null  float64\n",
      " 5   Latitude                  30006 non-null  float64\n",
      " 6   Lot Size                  25490 non-null  object \n",
      " 7   Beds                      27420 non-null  float64\n",
      " 8   Bath                      27496 non-null  float64\n",
      " 9   Year Built                26258 non-null  float64\n",
      " 10  Price Sqr Ft              27271 non-null  object \n",
      " 11  Features                  30006 non-null  object \n",
      " 12  Last Sold Year            14213 non-null  float64\n",
      " 13  Last Sold For             14213 non-null  object \n",
      " 14  Last Tax Assestment       18245 non-null  object \n",
      " 15  Last Tax Year             18168 non-null  float64\n",
      " 16  City                      30006 non-null  object \n",
      " 17  State                     30006 non-null  object \n",
      " 18  Zipcode                   30003 non-null  float64\n",
      " 19  Days On Trulia            24844 non-null  float64\n",
      " 20  Listing Agent Contact No  0 non-null      float64\n",
      " 21  Agent Name 1              0 non-null      float64\n",
      " 22  Agent Contact No 1        0 non-null      float64\n",
      " 23  Agent Name 2              0 non-null      float64\n",
      " 24  Agent Contact No 2        0 non-null      float64\n",
      " 25  Agent Name 3              0 non-null      float64\n",
      " 26  Agent Contact No 3        0 non-null      float64\n",
      " 27  Agent Name 4              0 non-null      float64\n",
      " 28  Agent Contact No 4        0 non-null      float64\n",
      " 29  Agent Name 5              0 non-null      float64\n",
      " 30  Agent Contact No 5        0 non-null      float64\n",
      " 31  Brokername                0 non-null      float64\n",
      " 32  Image 1                   28577 non-null  object \n",
      " 33  Image 2                   26980 non-null  object \n",
      " 34  Image 3                   26231 non-null  object \n",
      " 35  Image 4                   25614 non-null  object \n",
      " 36  Image 5                   25005 non-null  object \n",
      " 37  Image 6                   24169 non-null  object \n",
      " 38  Image 7                   23645 non-null  object \n",
      " 39  Image 8                   23134 non-null  object \n",
      " 40  Image 9                   22618 non-null  object \n",
      " 41  Image 10                  22103 non-null  object \n",
      " 42  Image 11                  21512 non-null  object \n",
      " 43  Image 12                  20901 non-null  object \n",
      " 44  Image 13                  20322 non-null  object \n",
      " 45  Image 14                  19780 non-null  object \n",
      " 46  Image 15                  19167 non-null  object \n",
      " 47  Image 16                  18474 non-null  object \n",
      " 48  Image 17                  17856 non-null  object \n",
      " 49  Image 18                  17234 non-null  object \n",
      " 50  Image 19                  16550 non-null  object \n",
      " 51  Image 20                  15902 non-null  object \n",
      " 52  Image 21                  15053 non-null  object \n",
      " 53  Image 22                  14347 non-null  object \n",
      " 54  Image 23                  13591 non-null  object \n",
      " 55  Image 24                  12880 non-null  object \n",
      " 56  Image 25                  12033 non-null  object \n",
      "dtypes: float64(21), object(36)\n",
      "memory usage: 13.0+ MB\n"
     ]
    }
   ],
   "source": [
    "df1.info()"
   ]
  },
  {
   "cell_type": "code",
   "execution_count": 12,
   "metadata": {
    "scrolled": true
   },
   "outputs": [
    {
     "data": {
      "text/html": [
       "<div>\n",
       "<style scoped>\n",
       "    .dataframe tbody tr th:only-of-type {\n",
       "        vertical-align: middle;\n",
       "    }\n",
       "\n",
       "    .dataframe tbody tr th {\n",
       "        vertical-align: top;\n",
       "    }\n",
       "\n",
       "    .dataframe thead th {\n",
       "        text-align: right;\n",
       "    }\n",
       "</style>\n",
       "<table border=\"1\" class=\"dataframe\">\n",
       "  <thead>\n",
       "    <tr style=\"text-align: right;\">\n",
       "      <th></th>\n",
       "      <th>Uniq Id</th>\n",
       "      <th>Price</th>\n",
       "      <th>Style</th>\n",
       "      <th>Sqr Ft</th>\n",
       "      <th>Longitude</th>\n",
       "      <th>Latitude</th>\n",
       "      <th>Lot Size</th>\n",
       "      <th>Beds</th>\n",
       "      <th>Bath</th>\n",
       "      <th>Year Built</th>\n",
       "      <th>Price Sqr Ft</th>\n",
       "      <th>Features</th>\n",
       "      <th>Last Sold Year</th>\n",
       "      <th>Last Sold For</th>\n",
       "      <th>Last Tax Assestment</th>\n",
       "      <th>Last Tax Year</th>\n",
       "      <th>City</th>\n",
       "      <th>State</th>\n",
       "      <th>Zipcode</th>\n",
       "      <th>Days On Trulia</th>\n",
       "    </tr>\n",
       "  </thead>\n",
       "  <tbody>\n",
       "    <tr>\n",
       "      <th>0</th>\n",
       "      <td>d6521bac40600f17287f0a5a8b3efc8d</td>\n",
       "      <td>$895,900</td>\n",
       "      <td>4 Beds / 4.5 Baths</td>\n",
       "      <td>3,447 sqft</td>\n",
       "      <td>-112.081985</td>\n",
       "      <td>33.560055</td>\n",
       "      <td>7,895 sqft</td>\n",
       "      <td>4.0</td>\n",
       "      <td>4.5</td>\n",
       "      <td>2019.0</td>\n",
       "      <td>$260/sqft</td>\n",
       "      <td>Single Family Home | $260/sqft | Lot Size: 7,8...</td>\n",
       "      <td>NaN</td>\n",
       "      <td>NaN</td>\n",
       "      <td>$27,645</td>\n",
       "      <td>2018.0</td>\n",
       "      <td>Phoenix</td>\n",
       "      <td>AZ</td>\n",
       "      <td>85021.0</td>\n",
       "      <td>110.0</td>\n",
       "    </tr>\n",
       "    <tr>\n",
       "      <th>1</th>\n",
       "      <td>659d62537d940a76e3349bd39a72bd92</td>\n",
       "      <td>$247,000</td>\n",
       "      <td>3 Beds / 2 Baths</td>\n",
       "      <td>1,767 sqft</td>\n",
       "      <td>-96.676250</td>\n",
       "      <td>32.829227</td>\n",
       "      <td>7,877 sqft</td>\n",
       "      <td>3.0</td>\n",
       "      <td>2.0</td>\n",
       "      <td>1954.0</td>\n",
       "      <td>$140/sqft</td>\n",
       "      <td>Single Family Home | $140/sqft | Lot Size: 7,8...</td>\n",
       "      <td>NaN</td>\n",
       "      <td>NaN</td>\n",
       "      <td>NaN</td>\n",
       "      <td>NaN</td>\n",
       "      <td>Dallas</td>\n",
       "      <td>TX</td>\n",
       "      <td>75228.0</td>\n",
       "      <td>126.0</td>\n",
       "    </tr>\n",
       "    <tr>\n",
       "      <th>2</th>\n",
       "      <td>a003f7017e34b3c8486ffd54cecf9f0d</td>\n",
       "      <td>$44,900</td>\n",
       "      <td>3 Beds / 1 Bath</td>\n",
       "      <td>1,232 sqft</td>\n",
       "      <td>-78.825190</td>\n",
       "      <td>42.913000</td>\n",
       "      <td>3,510 sqft</td>\n",
       "      <td>3.0</td>\n",
       "      <td>1.0</td>\n",
       "      <td>1900.0</td>\n",
       "      <td>$36/sqft</td>\n",
       "      <td>Single Family Home | $36/sqft | Lot Size: 3,51...</td>\n",
       "      <td>NaN</td>\n",
       "      <td>NaN</td>\n",
       "      <td>$7,000</td>\n",
       "      <td>2016.0</td>\n",
       "      <td>Buffalo</td>\n",
       "      <td>NY</td>\n",
       "      <td>14211.0</td>\n",
       "      <td>44.0</td>\n",
       "    </tr>\n",
       "    <tr>\n",
       "      <th>3</th>\n",
       "      <td>bfee8b2ccc4ceaa91ebd92379b9ab73c</td>\n",
       "      <td>$959,000</td>\n",
       "      <td>3 Beds / 2 Baths</td>\n",
       "      <td>1,417 sqft</td>\n",
       "      <td>-73.860170</td>\n",
       "      <td>40.722960</td>\n",
       "      <td>2,598 sqft</td>\n",
       "      <td>3.0</td>\n",
       "      <td>2.0</td>\n",
       "      <td>1939.0</td>\n",
       "      <td>$677/sqft</td>\n",
       "      <td>Single Family Home | $677/sqft | Lot Size: 2,5...</td>\n",
       "      <td>2009.0</td>\n",
       "      <td>$532,000</td>\n",
       "      <td>$34,951</td>\n",
       "      <td>2018.0</td>\n",
       "      <td>Flushing</td>\n",
       "      <td>NY</td>\n",
       "      <td>11374.0</td>\n",
       "      <td>2.0</td>\n",
       "    </tr>\n",
       "    <tr>\n",
       "      <th>4</th>\n",
       "      <td>01078a918e94a5d7975c66f9f679727a</td>\n",
       "      <td>$83,500</td>\n",
       "      <td>Studio / 1 Bath</td>\n",
       "      <td>440 sqft</td>\n",
       "      <td>-80.206314</td>\n",
       "      <td>25.937965</td>\n",
       "      <td>NaN</td>\n",
       "      <td>NaN</td>\n",
       "      <td>1.0</td>\n",
       "      <td>1971.0</td>\n",
       "      <td>$190/sqft</td>\n",
       "      <td>Condo | $190/sqft | $140/monthly HOA | Built i...</td>\n",
       "      <td>2007.0</td>\n",
       "      <td>$52,000</td>\n",
       "      <td>$53,751</td>\n",
       "      <td>2018.0</td>\n",
       "      <td>Miami Gardens</td>\n",
       "      <td>FL</td>\n",
       "      <td>33169.0</td>\n",
       "      <td>NaN</td>\n",
       "    </tr>\n",
       "    <tr>\n",
       "      <th>...</th>\n",
       "      <td>...</td>\n",
       "      <td>...</td>\n",
       "      <td>...</td>\n",
       "      <td>...</td>\n",
       "      <td>...</td>\n",
       "      <td>...</td>\n",
       "      <td>...</td>\n",
       "      <td>...</td>\n",
       "      <td>...</td>\n",
       "      <td>...</td>\n",
       "      <td>...</td>\n",
       "      <td>...</td>\n",
       "      <td>...</td>\n",
       "      <td>...</td>\n",
       "      <td>...</td>\n",
       "      <td>...</td>\n",
       "      <td>...</td>\n",
       "      <td>...</td>\n",
       "      <td>...</td>\n",
       "      <td>...</td>\n",
       "    </tr>\n",
       "    <tr>\n",
       "      <th>30001</th>\n",
       "      <td>abea7de20e824a9060af2d724861d853</td>\n",
       "      <td>$300,000</td>\n",
       "      <td>1 Bed / 1 Bath</td>\n",
       "      <td>733 sqft</td>\n",
       "      <td>-80.187720</td>\n",
       "      <td>25.771372</td>\n",
       "      <td>NaN</td>\n",
       "      <td>1.0</td>\n",
       "      <td>1.0</td>\n",
       "      <td>2008.0</td>\n",
       "      <td>$409/sqft</td>\n",
       "      <td>Condo | $409/sqft | $604/monthly HOA | Built i...</td>\n",
       "      <td>2014.0</td>\n",
       "      <td>$345,000</td>\n",
       "      <td>$231,454</td>\n",
       "      <td>2018.0</td>\n",
       "      <td>Miami</td>\n",
       "      <td>FL</td>\n",
       "      <td>33131.0</td>\n",
       "      <td>90.0</td>\n",
       "    </tr>\n",
       "    <tr>\n",
       "      <th>30002</th>\n",
       "      <td>a530e0df4974dec23e72dd099c305b5a</td>\n",
       "      <td>$119,000</td>\n",
       "      <td>3 Beds / 2 Baths</td>\n",
       "      <td>1,716 sqft</td>\n",
       "      <td>-121.031560</td>\n",
       "      <td>37.680702</td>\n",
       "      <td>18.84 acres</td>\n",
       "      <td>3.0</td>\n",
       "      <td>2.0</td>\n",
       "      <td>1998.0</td>\n",
       "      <td>$69/sqft</td>\n",
       "      <td>Mobile Manufactured | $69/sqft | Lot Size: 18....</td>\n",
       "      <td>NaN</td>\n",
       "      <td>NaN</td>\n",
       "      <td>$44,900</td>\n",
       "      <td>2011.0</td>\n",
       "      <td>Modesto</td>\n",
       "      <td>CA</td>\n",
       "      <td>95350.0</td>\n",
       "      <td>NaN</td>\n",
       "    </tr>\n",
       "    <tr>\n",
       "      <th>30003</th>\n",
       "      <td>52e118249e9adfc74ca5404c3014b4bb</td>\n",
       "      <td>$210,000</td>\n",
       "      <td>NaN</td>\n",
       "      <td>NaN</td>\n",
       "      <td>-91.137700</td>\n",
       "      <td>30.440481</td>\n",
       "      <td>8276 sqft</td>\n",
       "      <td>NaN</td>\n",
       "      <td>NaN</td>\n",
       "      <td>NaN</td>\n",
       "      <td>NaN</td>\n",
       "      <td>Lot Land | Lot Size: 8276 sqft | 59 Days on Tr...</td>\n",
       "      <td>NaN</td>\n",
       "      <td>NaN</td>\n",
       "      <td>NaN</td>\n",
       "      <td>NaN</td>\n",
       "      <td>Baton Rouge</td>\n",
       "      <td>LA</td>\n",
       "      <td>70806.0</td>\n",
       "      <td>59.0</td>\n",
       "    </tr>\n",
       "    <tr>\n",
       "      <th>30004</th>\n",
       "      <td>dc40db1cf828bcc683950b6e9b1a3849</td>\n",
       "      <td>$329,000</td>\n",
       "      <td>7 Beds / 3 Baths</td>\n",
       "      <td>NaN</td>\n",
       "      <td>-73.913930</td>\n",
       "      <td>40.699930</td>\n",
       "      <td>NaN</td>\n",
       "      <td>7.0</td>\n",
       "      <td>3.0</td>\n",
       "      <td>2007.0</td>\n",
       "      <td>NaN</td>\n",
       "      <td>Multi Family | Built in 2007 | 2 Days on Truli...</td>\n",
       "      <td>NaN</td>\n",
       "      <td>NaN</td>\n",
       "      <td>NaN</td>\n",
       "      <td>NaN</td>\n",
       "      <td>Brooklyn</td>\n",
       "      <td>NY</td>\n",
       "      <td>11237.0</td>\n",
       "      <td>2.0</td>\n",
       "    </tr>\n",
       "    <tr>\n",
       "      <th>30005</th>\n",
       "      <td>2e81f29eb2c5daf0a05a5597957288f2</td>\n",
       "      <td>$4,500,000</td>\n",
       "      <td>4 Beds / 9 Baths</td>\n",
       "      <td>10,149 sqft</td>\n",
       "      <td>-78.603240</td>\n",
       "      <td>35.934372</td>\n",
       "      <td>5.28 acres</td>\n",
       "      <td>4.0</td>\n",
       "      <td>9.0</td>\n",
       "      <td>2004.0</td>\n",
       "      <td>$443/sqft</td>\n",
       "      <td>Single Family Home | $443/sqft | Lot Size: 5.2...</td>\n",
       "      <td>2018.0</td>\n",
       "      <td>$5,500,000</td>\n",
       "      <td>$3,275,328</td>\n",
       "      <td>2018.0</td>\n",
       "      <td>Raleigh</td>\n",
       "      <td>NC</td>\n",
       "      <td>27614.0</td>\n",
       "      <td>180.0</td>\n",
       "    </tr>\n",
       "  </tbody>\n",
       "</table>\n",
       "<p>30006 rows × 20 columns</p>\n",
       "</div>"
      ],
      "text/plain": [
       "                                Uniq Id        Price               Style  \\\n",
       "0      d6521bac40600f17287f0a5a8b3efc8d    $895,900   4 Beds / 4.5 Baths   \n",
       "1      659d62537d940a76e3349bd39a72bd92    $247,000     3 Beds / 2 Baths   \n",
       "2      a003f7017e34b3c8486ffd54cecf9f0d     $44,900      3 Beds / 1 Bath   \n",
       "3      bfee8b2ccc4ceaa91ebd92379b9ab73c    $959,000     3 Beds / 2 Baths   \n",
       "4      01078a918e94a5d7975c66f9f679727a     $83,500      Studio / 1 Bath   \n",
       "...                                 ...          ...                 ...   \n",
       "30001  abea7de20e824a9060af2d724861d853    $300,000       1 Bed / 1 Bath   \n",
       "30002  a530e0df4974dec23e72dd099c305b5a    $119,000     3 Beds / 2 Baths   \n",
       "30003  52e118249e9adfc74ca5404c3014b4bb    $210,000                  NaN   \n",
       "30004  dc40db1cf828bcc683950b6e9b1a3849    $329,000     7 Beds / 3 Baths   \n",
       "30005  2e81f29eb2c5daf0a05a5597957288f2  $4,500,000     4 Beds / 9 Baths   \n",
       "\n",
       "            Sqr Ft   Longitude   Latitude     Lot Size  Beds  Bath  \\\n",
       "0       3,447 sqft -112.081985  33.560055   7,895 sqft   4.0   4.5   \n",
       "1       1,767 sqft  -96.676250  32.829227   7,877 sqft   3.0   2.0   \n",
       "2       1,232 sqft  -78.825190  42.913000   3,510 sqft   3.0   1.0   \n",
       "3       1,417 sqft  -73.860170  40.722960   2,598 sqft   3.0   2.0   \n",
       "4         440 sqft  -80.206314  25.937965          NaN   NaN   1.0   \n",
       "...            ...         ...        ...          ...   ...   ...   \n",
       "30001     733 sqft  -80.187720  25.771372          NaN   1.0   1.0   \n",
       "30002   1,716 sqft -121.031560  37.680702  18.84 acres   3.0   2.0   \n",
       "30003          NaN  -91.137700  30.440481    8276 sqft   NaN   NaN   \n",
       "30004          NaN  -73.913930  40.699930          NaN   7.0   3.0   \n",
       "30005  10,149 sqft  -78.603240  35.934372   5.28 acres   4.0   9.0   \n",
       "\n",
       "       Year Built Price Sqr Ft  \\\n",
       "0          2019.0    $260/sqft   \n",
       "1          1954.0    $140/sqft   \n",
       "2          1900.0     $36/sqft   \n",
       "3          1939.0    $677/sqft   \n",
       "4          1971.0    $190/sqft   \n",
       "...           ...          ...   \n",
       "30001      2008.0    $409/sqft   \n",
       "30002      1998.0     $69/sqft   \n",
       "30003         NaN          NaN   \n",
       "30004      2007.0          NaN   \n",
       "30005      2004.0    $443/sqft   \n",
       "\n",
       "                                                Features  Last Sold Year  \\\n",
       "0      Single Family Home | $260/sqft | Lot Size: 7,8...             NaN   \n",
       "1      Single Family Home | $140/sqft | Lot Size: 7,8...             NaN   \n",
       "2      Single Family Home | $36/sqft | Lot Size: 3,51...             NaN   \n",
       "3      Single Family Home | $677/sqft | Lot Size: 2,5...          2009.0   \n",
       "4      Condo | $190/sqft | $140/monthly HOA | Built i...          2007.0   \n",
       "...                                                  ...             ...   \n",
       "30001  Condo | $409/sqft | $604/monthly HOA | Built i...          2014.0   \n",
       "30002  Mobile Manufactured | $69/sqft | Lot Size: 18....             NaN   \n",
       "30003  Lot Land | Lot Size: 8276 sqft | 59 Days on Tr...             NaN   \n",
       "30004  Multi Family | Built in 2007 | 2 Days on Truli...             NaN   \n",
       "30005  Single Family Home | $443/sqft | Lot Size: 5.2...          2018.0   \n",
       "\n",
       "      Last Sold For Last Tax Assestment  Last Tax Year           City State  \\\n",
       "0               NaN            $27,645          2018.0        Phoenix    AZ   \n",
       "1               NaN                 NaN            NaN         Dallas    TX   \n",
       "2               NaN             $7,000          2016.0        Buffalo    NY   \n",
       "3         $532,000             $34,951          2018.0       Flushing    NY   \n",
       "4          $52,000             $53,751          2018.0  Miami Gardens    FL   \n",
       "...             ...                 ...            ...            ...   ...   \n",
       "30001     $345,000            $231,454          2018.0          Miami    FL   \n",
       "30002           NaN            $44,900          2011.0        Modesto    CA   \n",
       "30003           NaN                 NaN            NaN    Baton Rouge    LA   \n",
       "30004           NaN                 NaN            NaN       Brooklyn    NY   \n",
       "30005   $5,500,000          $3,275,328          2018.0        Raleigh    NC   \n",
       "\n",
       "       Zipcode  Days On Trulia  \n",
       "0      85021.0           110.0  \n",
       "1      75228.0           126.0  \n",
       "2      14211.0            44.0  \n",
       "3      11374.0             2.0  \n",
       "4      33169.0             NaN  \n",
       "...        ...             ...  \n",
       "30001  33131.0            90.0  \n",
       "30002  95350.0             NaN  \n",
       "30003  70806.0            59.0  \n",
       "30004  11237.0             2.0  \n",
       "30005  27614.0           180.0  \n",
       "\n",
       "[30006 rows x 20 columns]"
      ]
     },
     "execution_count": 12,
     "metadata": {},
     "output_type": "execute_result"
    }
   ],
   "source": [
    "#drop all columns after column 20 (agents and image columns have too many missing values, not needed)\n",
    "df2 = df1.drop(df.columns[20:], axis=1)\n",
    "df2"
   ]
  },
  {
   "cell_type": "code",
   "execution_count": 13,
   "metadata": {},
   "outputs": [
    {
     "data": {
      "text/plain": [
       "Uniq Id                    0\n",
       "Price                      0\n",
       "Style                   2369\n",
       "Sqr Ft                  2220\n",
       "Longitude                  0\n",
       "Latitude                   0\n",
       "Lot Size                4516\n",
       "Beds                    2586\n",
       "Bath                    2510\n",
       "Year Built              3748\n",
       "Price Sqr Ft            2735\n",
       "Features                   0\n",
       "Last Sold Year         15793\n",
       "Last Sold For          15793\n",
       "Last Tax Assestment    11761\n",
       "Last Tax Year          11838\n",
       "City                       0\n",
       "State                      0\n",
       "Zipcode                    3\n",
       "Days On Trulia          5162\n",
       "dtype: int64"
      ]
     },
     "execution_count": 13,
     "metadata": {},
     "output_type": "execute_result"
    }
   ],
   "source": [
    "#how many null values under each attribute?\n",
    "df2.isnull().sum()"
   ]
  },
  {
   "cell_type": "code",
   "execution_count": 18,
   "metadata": {},
   "outputs": [],
   "source": [
    "#what to do with null values? Replace with average? Delete rows?"
   ]
  },
  {
   "cell_type": "code",
   "execution_count": 14,
   "metadata": {},
   "outputs": [
    {
     "data": {
      "text/plain": [
       "0         895900.0\n",
       "1         247000.0\n",
       "2          44900.0\n",
       "3         959000.0\n",
       "4          83500.0\n",
       "           ...    \n",
       "30001     300000.0\n",
       "30002     119000.0\n",
       "30003     210000.0\n",
       "30004     329000.0\n",
       "30005    4500000.0\n",
       "Name: Price, Length: 30006, dtype: float64"
      ]
     },
     "execution_count": 14,
     "metadata": {},
     "output_type": "execute_result"
    }
   ],
   "source": [
    "#Price is a string -- get rid of all sting values (, $), then convert to float\n",
    "df2['Price'] = df2['Price'].str.replace(\"[^0-9.]\",\"\")  #only keep numbers and decimal\n",
    "\n",
    "#convert to numeric\n",
    "df2[\"Price\"] = pd.to_numeric(df2[\"Price\"]) \n",
    "#round to 2 decimal places\n",
    "df2[\"Price\"] = df2[\"Price\"].round(decimals = 2)\n",
    "df2[\"Price\"]"
   ]
  },
  {
   "cell_type": "code",
   "execution_count": 15,
   "metadata": {},
   "outputs": [
    {
     "data": {
      "text/plain": [
       "0              NaN\n",
       "1              NaN\n",
       "2              NaN\n",
       "3         532000.0\n",
       "4          52000.0\n",
       "           ...    \n",
       "30001     345000.0\n",
       "30002          NaN\n",
       "30003          NaN\n",
       "30004          NaN\n",
       "30005    5500000.0\n",
       "Name: Last Sold For, Length: 30006, dtype: float64"
      ]
     },
     "execution_count": 15,
     "metadata": {},
     "output_type": "execute_result"
    }
   ],
   "source": [
    "#Last Sold For is a string -- get rid of all sting values (, $), then convert to float\n",
    "df2['Last Sold For'] = df2['Last Sold For'].str.replace(\"[^0-9.]\",\"\")\n",
    "\n",
    "#convert to numeric\n",
    "df2[\"Last Sold For\"] = pd.to_numeric(df2[\"Last Sold For\"]) \n",
    "#round to 2 decimal places\n",
    "df2[\"Last Sold For\"] = df2[\"Last Sold For\"].round(decimals = 2)\n",
    "df2[\"Last Sold For\"]"
   ]
  },
  {
   "cell_type": "code",
   "execution_count": 16,
   "metadata": {},
   "outputs": [
    {
     "data": {
      "text/plain": [
       "0          27645.0\n",
       "1              NaN\n",
       "2           7000.0\n",
       "3          34951.0\n",
       "4          53751.0\n",
       "           ...    \n",
       "30001     231454.0\n",
       "30002      44900.0\n",
       "30003          NaN\n",
       "30004          NaN\n",
       "30005    3275328.0\n",
       "Name: Last Tax Assestment, Length: 30006, dtype: float64"
      ]
     },
     "execution_count": 16,
     "metadata": {},
     "output_type": "execute_result"
    }
   ],
   "source": [
    "#Last Tax Assestment -- get rid of all sting values (, $), then convert to float\n",
    "df2['Last Tax Assestment'] = df2['Last Tax Assestment'].str.replace(\"[^0-9.]\",\"\") \n",
    "\n",
    "#convert to numeric\n",
    "df2[\"Last Tax Assestment\"] = pd.to_numeric(df2[\"Last Tax Assestment\"]) \n",
    "#round to 2 decimal places\n",
    "df2[\"Last Tax Assestment\"] = df2[\"Last Tax Assestment\"].round(decimals = 2)\n",
    "df2[\"Last Tax Assestment\"]"
   ]
  },
  {
   "cell_type": "code",
   "execution_count": 17,
   "metadata": {},
   "outputs": [
    {
     "data": {
      "text/plain": [
       "0         3447.0\n",
       "1         1767.0\n",
       "2         1232.0\n",
       "3         1417.0\n",
       "4          440.0\n",
       "          ...   \n",
       "30001      733.0\n",
       "30002     1716.0\n",
       "30003        NaN\n",
       "30004        NaN\n",
       "30005    10149.0\n",
       "Name: Sqr Ft, Length: 30006, dtype: float64"
      ]
     },
     "execution_count": 17,
     "metadata": {},
     "output_type": "execute_result"
    }
   ],
   "source": [
    "#Sqr Ft is a string -- convert to float (Total square feet of the home)\n",
    "df2['Sqr Ft'] = df2['Sqr Ft'].str.replace(\"[^0-9.]\",\"\")\n",
    "\n",
    "#convert to numeric\n",
    "df2[\"Sqr Ft\"] = pd.to_numeric(df2[\"Sqr Ft\"])    \n",
    "df2[\"Sqr Ft\"]"
   ]
  },
  {
   "cell_type": "code",
   "execution_count": 18,
   "metadata": {},
   "outputs": [],
   "source": [
    "#Lot Size is a string -- (Total lot size -> some are in square feet, some in acres)   1 acre = 43560 sq ft\n",
    "df2['LotSizenumbers'] = df2['Lot Size'].str.replace(\"[^0-9.]\",\"\")  #only keep the numbers and decimal point\n",
    "df2[\"LotSizenumbers\"] = pd.to_numeric(df2[\"LotSizenumbers\"])   #change from string to numeric\n",
    "acres = df2['LotSizenumbers'] * 43560                          #acres to sq ft\n",
    "Acrescontain = df2['Lot Size'].str.contains(\"acres\")           #observations that contain the string 'acres'"
   ]
  },
  {
   "cell_type": "code",
   "execution_count": 19,
   "metadata": {},
   "outputs": [
    {
     "data": {
      "text/plain": [
       "0        7895.00\n",
       "1        7877.00\n",
       "2        3510.00\n",
       "3        2598.00\n",
       "4            NaN\n",
       "          ...   \n",
       "30001        NaN\n",
       "30002      18.84\n",
       "30003    8276.00\n",
       "30004        NaN\n",
       "30005       5.28\n",
       "Name: LotSizenumbers, Length: 30006, dtype: float64"
      ]
     },
     "execution_count": 19,
     "metadata": {},
     "output_type": "execute_result"
    }
   ],
   "source": [
    "#check numbers for Lot Size after getting rid of text and converting to numeric\n",
    "df2['LotSizenumbers']"
   ]
  },
  {
   "cell_type": "code",
   "execution_count": 20,
   "metadata": {},
   "outputs": [
    {
     "data": {
      "text/html": [
       "<div>\n",
       "<style scoped>\n",
       "    .dataframe tbody tr th:only-of-type {\n",
       "        vertical-align: middle;\n",
       "    }\n",
       "\n",
       "    .dataframe tbody tr th {\n",
       "        vertical-align: top;\n",
       "    }\n",
       "\n",
       "    .dataframe thead th {\n",
       "        text-align: right;\n",
       "    }\n",
       "</style>\n",
       "<table border=\"1\" class=\"dataframe\">\n",
       "  <thead>\n",
       "    <tr style=\"text-align: right;\">\n",
       "      <th></th>\n",
       "      <th>Lot Size</th>\n",
       "      <th>LotSizenumbers</th>\n",
       "      <th>Lot Size_2</th>\n",
       "    </tr>\n",
       "  </thead>\n",
       "  <tbody>\n",
       "    <tr>\n",
       "      <th>0</th>\n",
       "      <td>7,895 sqft</td>\n",
       "      <td>7895.00</td>\n",
       "      <td>7895.0</td>\n",
       "    </tr>\n",
       "    <tr>\n",
       "      <th>1</th>\n",
       "      <td>7,877 sqft</td>\n",
       "      <td>7877.00</td>\n",
       "      <td>7877.0</td>\n",
       "    </tr>\n",
       "    <tr>\n",
       "      <th>2</th>\n",
       "      <td>3,510 sqft</td>\n",
       "      <td>3510.00</td>\n",
       "      <td>3510.0</td>\n",
       "    </tr>\n",
       "    <tr>\n",
       "      <th>3</th>\n",
       "      <td>2,598 sqft</td>\n",
       "      <td>2598.00</td>\n",
       "      <td>2598.0</td>\n",
       "    </tr>\n",
       "    <tr>\n",
       "      <th>4</th>\n",
       "      <td>NaN</td>\n",
       "      <td>NaN</td>\n",
       "      <td>NaN</td>\n",
       "    </tr>\n",
       "    <tr>\n",
       "      <th>...</th>\n",
       "      <td>...</td>\n",
       "      <td>...</td>\n",
       "      <td>...</td>\n",
       "    </tr>\n",
       "    <tr>\n",
       "      <th>30001</th>\n",
       "      <td>NaN</td>\n",
       "      <td>NaN</td>\n",
       "      <td>NaN</td>\n",
       "    </tr>\n",
       "    <tr>\n",
       "      <th>30002</th>\n",
       "      <td>18.84 acres</td>\n",
       "      <td>18.84</td>\n",
       "      <td>820670.4</td>\n",
       "    </tr>\n",
       "    <tr>\n",
       "      <th>30003</th>\n",
       "      <td>8276 sqft</td>\n",
       "      <td>8276.00</td>\n",
       "      <td>8276.0</td>\n",
       "    </tr>\n",
       "    <tr>\n",
       "      <th>30004</th>\n",
       "      <td>NaN</td>\n",
       "      <td>NaN</td>\n",
       "      <td>NaN</td>\n",
       "    </tr>\n",
       "    <tr>\n",
       "      <th>30005</th>\n",
       "      <td>5.28 acres</td>\n",
       "      <td>5.28</td>\n",
       "      <td>229996.8</td>\n",
       "    </tr>\n",
       "  </tbody>\n",
       "</table>\n",
       "<p>30006 rows × 3 columns</p>\n",
       "</div>"
      ],
      "text/plain": [
       "          Lot Size  LotSizenumbers  Lot Size_2\n",
       "0       7,895 sqft         7895.00      7895.0\n",
       "1       7,877 sqft         7877.00      7877.0\n",
       "2       3,510 sqft         3510.00      3510.0\n",
       "3       2,598 sqft         2598.00      2598.0\n",
       "4              NaN             NaN         NaN\n",
       "...            ...             ...         ...\n",
       "30001          NaN             NaN         NaN\n",
       "30002  18.84 acres           18.84    820670.4\n",
       "30003    8276 sqft         8276.00      8276.0\n",
       "30004          NaN             NaN         NaN\n",
       "30005   5.28 acres            5.28    229996.8\n",
       "\n",
       "[30006 rows x 3 columns]"
      ]
     },
     "execution_count": 20,
     "metadata": {},
     "output_type": "execute_result"
    }
   ],
   "source": [
    "#Create new column for lot size all in sq ft\n",
    "numbers = df2[\"LotSizenumbers\"]\n",
    "LotSize_2 = np.where(Acrescontain, acres, numbers)   #where cell contains 'acres', multiply by 43560, otherwise give original number(sq ft)\n",
    "df2['Lot Size_2'] = LotSize_2\n",
    "df2[['Lot Size', 'LotSizenumbers','Lot Size_2']]"
   ]
  },
  {
   "cell_type": "code",
   "execution_count": 21,
   "metadata": {},
   "outputs": [],
   "source": [
    "#rename new Lot Size column (all in sq ft)\n",
    "df2.rename(columns = {'Lot Size_2':'Lot Size(sqft)'}, inplace = True)"
   ]
  },
  {
   "cell_type": "code",
   "execution_count": 22,
   "metadata": {},
   "outputs": [
    {
     "data": {
      "text/html": [
       "<div>\n",
       "<style scoped>\n",
       "    .dataframe tbody tr th:only-of-type {\n",
       "        vertical-align: middle;\n",
       "    }\n",
       "\n",
       "    .dataframe tbody tr th {\n",
       "        vertical-align: top;\n",
       "    }\n",
       "\n",
       "    .dataframe thead th {\n",
       "        text-align: right;\n",
       "    }\n",
       "</style>\n",
       "<table border=\"1\" class=\"dataframe\">\n",
       "  <thead>\n",
       "    <tr style=\"text-align: right;\">\n",
       "      <th></th>\n",
       "      <th>Uniq Id</th>\n",
       "      <th>Price</th>\n",
       "      <th>Style</th>\n",
       "      <th>Sqr Ft</th>\n",
       "      <th>Longitude</th>\n",
       "      <th>Latitude</th>\n",
       "      <th>Beds</th>\n",
       "      <th>Bath</th>\n",
       "      <th>Year Built</th>\n",
       "      <th>Price Sqr Ft</th>\n",
       "      <th>Features</th>\n",
       "      <th>Last Sold Year</th>\n",
       "      <th>Last Sold For</th>\n",
       "      <th>Last Tax Assestment</th>\n",
       "      <th>Last Tax Year</th>\n",
       "      <th>City</th>\n",
       "      <th>State</th>\n",
       "      <th>Zipcode</th>\n",
       "      <th>Days On Trulia</th>\n",
       "      <th>Lot Size(sqft)</th>\n",
       "    </tr>\n",
       "  </thead>\n",
       "  <tbody>\n",
       "    <tr>\n",
       "      <th>0</th>\n",
       "      <td>d6521bac40600f17287f0a5a8b3efc8d</td>\n",
       "      <td>895900.0</td>\n",
       "      <td>4 Beds / 4.5 Baths</td>\n",
       "      <td>3447.0</td>\n",
       "      <td>-112.081985</td>\n",
       "      <td>33.560055</td>\n",
       "      <td>4.0</td>\n",
       "      <td>4.5</td>\n",
       "      <td>2019.0</td>\n",
       "      <td>$260/sqft</td>\n",
       "      <td>Single Family Home | $260/sqft | Lot Size: 7,8...</td>\n",
       "      <td>NaN</td>\n",
       "      <td>NaN</td>\n",
       "      <td>27645.0</td>\n",
       "      <td>2018.0</td>\n",
       "      <td>Phoenix</td>\n",
       "      <td>AZ</td>\n",
       "      <td>85021.0</td>\n",
       "      <td>110.0</td>\n",
       "      <td>7895.0</td>\n",
       "    </tr>\n",
       "    <tr>\n",
       "      <th>1</th>\n",
       "      <td>659d62537d940a76e3349bd39a72bd92</td>\n",
       "      <td>247000.0</td>\n",
       "      <td>3 Beds / 2 Baths</td>\n",
       "      <td>1767.0</td>\n",
       "      <td>-96.676250</td>\n",
       "      <td>32.829227</td>\n",
       "      <td>3.0</td>\n",
       "      <td>2.0</td>\n",
       "      <td>1954.0</td>\n",
       "      <td>$140/sqft</td>\n",
       "      <td>Single Family Home | $140/sqft | Lot Size: 7,8...</td>\n",
       "      <td>NaN</td>\n",
       "      <td>NaN</td>\n",
       "      <td>NaN</td>\n",
       "      <td>NaN</td>\n",
       "      <td>Dallas</td>\n",
       "      <td>TX</td>\n",
       "      <td>75228.0</td>\n",
       "      <td>126.0</td>\n",
       "      <td>7877.0</td>\n",
       "    </tr>\n",
       "    <tr>\n",
       "      <th>2</th>\n",
       "      <td>a003f7017e34b3c8486ffd54cecf9f0d</td>\n",
       "      <td>44900.0</td>\n",
       "      <td>3 Beds / 1 Bath</td>\n",
       "      <td>1232.0</td>\n",
       "      <td>-78.825190</td>\n",
       "      <td>42.913000</td>\n",
       "      <td>3.0</td>\n",
       "      <td>1.0</td>\n",
       "      <td>1900.0</td>\n",
       "      <td>$36/sqft</td>\n",
       "      <td>Single Family Home | $36/sqft | Lot Size: 3,51...</td>\n",
       "      <td>NaN</td>\n",
       "      <td>NaN</td>\n",
       "      <td>7000.0</td>\n",
       "      <td>2016.0</td>\n",
       "      <td>Buffalo</td>\n",
       "      <td>NY</td>\n",
       "      <td>14211.0</td>\n",
       "      <td>44.0</td>\n",
       "      <td>3510.0</td>\n",
       "    </tr>\n",
       "    <tr>\n",
       "      <th>3</th>\n",
       "      <td>bfee8b2ccc4ceaa91ebd92379b9ab73c</td>\n",
       "      <td>959000.0</td>\n",
       "      <td>3 Beds / 2 Baths</td>\n",
       "      <td>1417.0</td>\n",
       "      <td>-73.860170</td>\n",
       "      <td>40.722960</td>\n",
       "      <td>3.0</td>\n",
       "      <td>2.0</td>\n",
       "      <td>1939.0</td>\n",
       "      <td>$677/sqft</td>\n",
       "      <td>Single Family Home | $677/sqft | Lot Size: 2,5...</td>\n",
       "      <td>2009.0</td>\n",
       "      <td>532000.0</td>\n",
       "      <td>34951.0</td>\n",
       "      <td>2018.0</td>\n",
       "      <td>Flushing</td>\n",
       "      <td>NY</td>\n",
       "      <td>11374.0</td>\n",
       "      <td>2.0</td>\n",
       "      <td>2598.0</td>\n",
       "    </tr>\n",
       "    <tr>\n",
       "      <th>4</th>\n",
       "      <td>01078a918e94a5d7975c66f9f679727a</td>\n",
       "      <td>83500.0</td>\n",
       "      <td>Studio / 1 Bath</td>\n",
       "      <td>440.0</td>\n",
       "      <td>-80.206314</td>\n",
       "      <td>25.937965</td>\n",
       "      <td>NaN</td>\n",
       "      <td>1.0</td>\n",
       "      <td>1971.0</td>\n",
       "      <td>$190/sqft</td>\n",
       "      <td>Condo | $190/sqft | $140/monthly HOA | Built i...</td>\n",
       "      <td>2007.0</td>\n",
       "      <td>52000.0</td>\n",
       "      <td>53751.0</td>\n",
       "      <td>2018.0</td>\n",
       "      <td>Miami Gardens</td>\n",
       "      <td>FL</td>\n",
       "      <td>33169.0</td>\n",
       "      <td>NaN</td>\n",
       "      <td>NaN</td>\n",
       "    </tr>\n",
       "    <tr>\n",
       "      <th>...</th>\n",
       "      <td>...</td>\n",
       "      <td>...</td>\n",
       "      <td>...</td>\n",
       "      <td>...</td>\n",
       "      <td>...</td>\n",
       "      <td>...</td>\n",
       "      <td>...</td>\n",
       "      <td>...</td>\n",
       "      <td>...</td>\n",
       "      <td>...</td>\n",
       "      <td>...</td>\n",
       "      <td>...</td>\n",
       "      <td>...</td>\n",
       "      <td>...</td>\n",
       "      <td>...</td>\n",
       "      <td>...</td>\n",
       "      <td>...</td>\n",
       "      <td>...</td>\n",
       "      <td>...</td>\n",
       "      <td>...</td>\n",
       "    </tr>\n",
       "    <tr>\n",
       "      <th>30001</th>\n",
       "      <td>abea7de20e824a9060af2d724861d853</td>\n",
       "      <td>300000.0</td>\n",
       "      <td>1 Bed / 1 Bath</td>\n",
       "      <td>733.0</td>\n",
       "      <td>-80.187720</td>\n",
       "      <td>25.771372</td>\n",
       "      <td>1.0</td>\n",
       "      <td>1.0</td>\n",
       "      <td>2008.0</td>\n",
       "      <td>$409/sqft</td>\n",
       "      <td>Condo | $409/sqft | $604/monthly HOA | Built i...</td>\n",
       "      <td>2014.0</td>\n",
       "      <td>345000.0</td>\n",
       "      <td>231454.0</td>\n",
       "      <td>2018.0</td>\n",
       "      <td>Miami</td>\n",
       "      <td>FL</td>\n",
       "      <td>33131.0</td>\n",
       "      <td>90.0</td>\n",
       "      <td>NaN</td>\n",
       "    </tr>\n",
       "    <tr>\n",
       "      <th>30002</th>\n",
       "      <td>a530e0df4974dec23e72dd099c305b5a</td>\n",
       "      <td>119000.0</td>\n",
       "      <td>3 Beds / 2 Baths</td>\n",
       "      <td>1716.0</td>\n",
       "      <td>-121.031560</td>\n",
       "      <td>37.680702</td>\n",
       "      <td>3.0</td>\n",
       "      <td>2.0</td>\n",
       "      <td>1998.0</td>\n",
       "      <td>$69/sqft</td>\n",
       "      <td>Mobile Manufactured | $69/sqft | Lot Size: 18....</td>\n",
       "      <td>NaN</td>\n",
       "      <td>NaN</td>\n",
       "      <td>44900.0</td>\n",
       "      <td>2011.0</td>\n",
       "      <td>Modesto</td>\n",
       "      <td>CA</td>\n",
       "      <td>95350.0</td>\n",
       "      <td>NaN</td>\n",
       "      <td>820670.4</td>\n",
       "    </tr>\n",
       "    <tr>\n",
       "      <th>30003</th>\n",
       "      <td>52e118249e9adfc74ca5404c3014b4bb</td>\n",
       "      <td>210000.0</td>\n",
       "      <td>NaN</td>\n",
       "      <td>NaN</td>\n",
       "      <td>-91.137700</td>\n",
       "      <td>30.440481</td>\n",
       "      <td>NaN</td>\n",
       "      <td>NaN</td>\n",
       "      <td>NaN</td>\n",
       "      <td>NaN</td>\n",
       "      <td>Lot Land | Lot Size: 8276 sqft | 59 Days on Tr...</td>\n",
       "      <td>NaN</td>\n",
       "      <td>NaN</td>\n",
       "      <td>NaN</td>\n",
       "      <td>NaN</td>\n",
       "      <td>Baton Rouge</td>\n",
       "      <td>LA</td>\n",
       "      <td>70806.0</td>\n",
       "      <td>59.0</td>\n",
       "      <td>8276.0</td>\n",
       "    </tr>\n",
       "    <tr>\n",
       "      <th>30004</th>\n",
       "      <td>dc40db1cf828bcc683950b6e9b1a3849</td>\n",
       "      <td>329000.0</td>\n",
       "      <td>7 Beds / 3 Baths</td>\n",
       "      <td>NaN</td>\n",
       "      <td>-73.913930</td>\n",
       "      <td>40.699930</td>\n",
       "      <td>7.0</td>\n",
       "      <td>3.0</td>\n",
       "      <td>2007.0</td>\n",
       "      <td>NaN</td>\n",
       "      <td>Multi Family | Built in 2007 | 2 Days on Truli...</td>\n",
       "      <td>NaN</td>\n",
       "      <td>NaN</td>\n",
       "      <td>NaN</td>\n",
       "      <td>NaN</td>\n",
       "      <td>Brooklyn</td>\n",
       "      <td>NY</td>\n",
       "      <td>11237.0</td>\n",
       "      <td>2.0</td>\n",
       "      <td>NaN</td>\n",
       "    </tr>\n",
       "    <tr>\n",
       "      <th>30005</th>\n",
       "      <td>2e81f29eb2c5daf0a05a5597957288f2</td>\n",
       "      <td>4500000.0</td>\n",
       "      <td>4 Beds / 9 Baths</td>\n",
       "      <td>10149.0</td>\n",
       "      <td>-78.603240</td>\n",
       "      <td>35.934372</td>\n",
       "      <td>4.0</td>\n",
       "      <td>9.0</td>\n",
       "      <td>2004.0</td>\n",
       "      <td>$443/sqft</td>\n",
       "      <td>Single Family Home | $443/sqft | Lot Size: 5.2...</td>\n",
       "      <td>2018.0</td>\n",
       "      <td>5500000.0</td>\n",
       "      <td>3275328.0</td>\n",
       "      <td>2018.0</td>\n",
       "      <td>Raleigh</td>\n",
       "      <td>NC</td>\n",
       "      <td>27614.0</td>\n",
       "      <td>180.0</td>\n",
       "      <td>229996.8</td>\n",
       "    </tr>\n",
       "  </tbody>\n",
       "</table>\n",
       "<p>30006 rows × 20 columns</p>\n",
       "</div>"
      ],
      "text/plain": [
       "                                Uniq Id      Price               Style  \\\n",
       "0      d6521bac40600f17287f0a5a8b3efc8d   895900.0  4 Beds / 4.5 Baths   \n",
       "1      659d62537d940a76e3349bd39a72bd92   247000.0    3 Beds / 2 Baths   \n",
       "2      a003f7017e34b3c8486ffd54cecf9f0d    44900.0     3 Beds / 1 Bath   \n",
       "3      bfee8b2ccc4ceaa91ebd92379b9ab73c   959000.0    3 Beds / 2 Baths   \n",
       "4      01078a918e94a5d7975c66f9f679727a    83500.0     Studio / 1 Bath   \n",
       "...                                 ...        ...                 ...   \n",
       "30001  abea7de20e824a9060af2d724861d853   300000.0      1 Bed / 1 Bath   \n",
       "30002  a530e0df4974dec23e72dd099c305b5a   119000.0    3 Beds / 2 Baths   \n",
       "30003  52e118249e9adfc74ca5404c3014b4bb   210000.0                 NaN   \n",
       "30004  dc40db1cf828bcc683950b6e9b1a3849   329000.0    7 Beds / 3 Baths   \n",
       "30005  2e81f29eb2c5daf0a05a5597957288f2  4500000.0    4 Beds / 9 Baths   \n",
       "\n",
       "        Sqr Ft   Longitude   Latitude  Beds  Bath  Year Built Price Sqr Ft  \\\n",
       "0       3447.0 -112.081985  33.560055   4.0   4.5      2019.0    $260/sqft   \n",
       "1       1767.0  -96.676250  32.829227   3.0   2.0      1954.0    $140/sqft   \n",
       "2       1232.0  -78.825190  42.913000   3.0   1.0      1900.0     $36/sqft   \n",
       "3       1417.0  -73.860170  40.722960   3.0   2.0      1939.0    $677/sqft   \n",
       "4        440.0  -80.206314  25.937965   NaN   1.0      1971.0    $190/sqft   \n",
       "...        ...         ...        ...   ...   ...         ...          ...   \n",
       "30001    733.0  -80.187720  25.771372   1.0   1.0      2008.0    $409/sqft   \n",
       "30002   1716.0 -121.031560  37.680702   3.0   2.0      1998.0     $69/sqft   \n",
       "30003      NaN  -91.137700  30.440481   NaN   NaN         NaN          NaN   \n",
       "30004      NaN  -73.913930  40.699930   7.0   3.0      2007.0          NaN   \n",
       "30005  10149.0  -78.603240  35.934372   4.0   9.0      2004.0    $443/sqft   \n",
       "\n",
       "                                                Features  Last Sold Year  \\\n",
       "0      Single Family Home | $260/sqft | Lot Size: 7,8...             NaN   \n",
       "1      Single Family Home | $140/sqft | Lot Size: 7,8...             NaN   \n",
       "2      Single Family Home | $36/sqft | Lot Size: 3,51...             NaN   \n",
       "3      Single Family Home | $677/sqft | Lot Size: 2,5...          2009.0   \n",
       "4      Condo | $190/sqft | $140/monthly HOA | Built i...          2007.0   \n",
       "...                                                  ...             ...   \n",
       "30001  Condo | $409/sqft | $604/monthly HOA | Built i...          2014.0   \n",
       "30002  Mobile Manufactured | $69/sqft | Lot Size: 18....             NaN   \n",
       "30003  Lot Land | Lot Size: 8276 sqft | 59 Days on Tr...             NaN   \n",
       "30004  Multi Family | Built in 2007 | 2 Days on Truli...             NaN   \n",
       "30005  Single Family Home | $443/sqft | Lot Size: 5.2...          2018.0   \n",
       "\n",
       "       Last Sold For  Last Tax Assestment  Last Tax Year           City State  \\\n",
       "0                NaN              27645.0         2018.0        Phoenix    AZ   \n",
       "1                NaN                  NaN            NaN         Dallas    TX   \n",
       "2                NaN               7000.0         2016.0        Buffalo    NY   \n",
       "3           532000.0              34951.0         2018.0       Flushing    NY   \n",
       "4            52000.0              53751.0         2018.0  Miami Gardens    FL   \n",
       "...              ...                  ...            ...            ...   ...   \n",
       "30001       345000.0             231454.0         2018.0          Miami    FL   \n",
       "30002            NaN              44900.0         2011.0        Modesto    CA   \n",
       "30003            NaN                  NaN            NaN    Baton Rouge    LA   \n",
       "30004            NaN                  NaN            NaN       Brooklyn    NY   \n",
       "30005      5500000.0            3275328.0         2018.0        Raleigh    NC   \n",
       "\n",
       "       Zipcode  Days On Trulia  Lot Size(sqft)  \n",
       "0      85021.0           110.0          7895.0  \n",
       "1      75228.0           126.0          7877.0  \n",
       "2      14211.0            44.0          3510.0  \n",
       "3      11374.0             2.0          2598.0  \n",
       "4      33169.0             NaN             NaN  \n",
       "...        ...             ...             ...  \n",
       "30001  33131.0            90.0             NaN  \n",
       "30002  95350.0             NaN        820670.4  \n",
       "30003  70806.0            59.0          8276.0  \n",
       "30004  11237.0             2.0             NaN  \n",
       "30005  27614.0           180.0        229996.8  \n",
       "\n",
       "[30006 rows x 20 columns]"
      ]
     },
     "execution_count": 22,
     "metadata": {},
     "output_type": "execute_result"
    }
   ],
   "source": [
    "#drop unneeded columns\n",
    "df2.drop(\"Lot Size\", axis = 1, inplace=True)\n",
    "df2.drop(\"LotSizenumbers\", axis = 1, inplace=True)\n",
    "#define new data frame\n",
    "df3 = df2\n",
    "df3"
   ]
  },
  {
   "cell_type": "code",
   "execution_count": 23,
   "metadata": {},
   "outputs": [],
   "source": [
    "#drop \"style\" column -beds/baths already in another attribute\n",
    "df3.drop(\"Style\", axis = 1, inplace=True)"
   ]
  },
  {
   "cell_type": "code",
   "execution_count": 24,
   "metadata": {},
   "outputs": [
    {
     "data": {
      "text/html": [
       "<div>\n",
       "<style scoped>\n",
       "    .dataframe tbody tr th:only-of-type {\n",
       "        vertical-align: middle;\n",
       "    }\n",
       "\n",
       "    .dataframe tbody tr th {\n",
       "        vertical-align: top;\n",
       "    }\n",
       "\n",
       "    .dataframe thead th {\n",
       "        text-align: right;\n",
       "    }\n",
       "</style>\n",
       "<table border=\"1\" class=\"dataframe\">\n",
       "  <thead>\n",
       "    <tr style=\"text-align: right;\">\n",
       "      <th></th>\n",
       "      <th>Uniq Id</th>\n",
       "      <th>Price</th>\n",
       "      <th>Sqr Ft</th>\n",
       "      <th>Longitude</th>\n",
       "      <th>Latitude</th>\n",
       "      <th>Beds</th>\n",
       "      <th>Bath</th>\n",
       "      <th>Year Built</th>\n",
       "      <th>Price Sqr Ft</th>\n",
       "      <th>Features</th>\n",
       "      <th>Last Sold Year</th>\n",
       "      <th>Last Sold For</th>\n",
       "      <th>Last Tax Assestment</th>\n",
       "      <th>Last Tax Year</th>\n",
       "      <th>City</th>\n",
       "      <th>State</th>\n",
       "      <th>Zipcode</th>\n",
       "      <th>Days On Trulia</th>\n",
       "      <th>Lot Size(sqft)</th>\n",
       "    </tr>\n",
       "  </thead>\n",
       "  <tbody>\n",
       "    <tr>\n",
       "      <th>0</th>\n",
       "      <td>d6521bac40600f17287f0a5a8b3efc8d</td>\n",
       "      <td>895900.0</td>\n",
       "      <td>3447.0</td>\n",
       "      <td>-112.081985</td>\n",
       "      <td>33.560055</td>\n",
       "      <td>4.0</td>\n",
       "      <td>4.5</td>\n",
       "      <td>2019.0</td>\n",
       "      <td>$260/sqft</td>\n",
       "      <td>Single Family Home | $260/sqft | Lot Size: 7,8...</td>\n",
       "      <td>NaN</td>\n",
       "      <td>NaN</td>\n",
       "      <td>27645.0</td>\n",
       "      <td>2018.0</td>\n",
       "      <td>Phoenix</td>\n",
       "      <td>AZ</td>\n",
       "      <td>85021.0</td>\n",
       "      <td>110.0</td>\n",
       "      <td>7895.0</td>\n",
       "    </tr>\n",
       "    <tr>\n",
       "      <th>1</th>\n",
       "      <td>659d62537d940a76e3349bd39a72bd92</td>\n",
       "      <td>247000.0</td>\n",
       "      <td>1767.0</td>\n",
       "      <td>-96.676250</td>\n",
       "      <td>32.829227</td>\n",
       "      <td>3.0</td>\n",
       "      <td>2.0</td>\n",
       "      <td>1954.0</td>\n",
       "      <td>$140/sqft</td>\n",
       "      <td>Single Family Home | $140/sqft | Lot Size: 7,8...</td>\n",
       "      <td>NaN</td>\n",
       "      <td>NaN</td>\n",
       "      <td>NaN</td>\n",
       "      <td>NaN</td>\n",
       "      <td>Dallas</td>\n",
       "      <td>TX</td>\n",
       "      <td>75228.0</td>\n",
       "      <td>126.0</td>\n",
       "      <td>7877.0</td>\n",
       "    </tr>\n",
       "    <tr>\n",
       "      <th>2</th>\n",
       "      <td>a003f7017e34b3c8486ffd54cecf9f0d</td>\n",
       "      <td>44900.0</td>\n",
       "      <td>1232.0</td>\n",
       "      <td>-78.825190</td>\n",
       "      <td>42.913000</td>\n",
       "      <td>3.0</td>\n",
       "      <td>1.0</td>\n",
       "      <td>1900.0</td>\n",
       "      <td>$36/sqft</td>\n",
       "      <td>Single Family Home | $36/sqft | Lot Size: 3,51...</td>\n",
       "      <td>NaN</td>\n",
       "      <td>NaN</td>\n",
       "      <td>7000.0</td>\n",
       "      <td>2016.0</td>\n",
       "      <td>Buffalo</td>\n",
       "      <td>NY</td>\n",
       "      <td>14211.0</td>\n",
       "      <td>44.0</td>\n",
       "      <td>3510.0</td>\n",
       "    </tr>\n",
       "    <tr>\n",
       "      <th>3</th>\n",
       "      <td>bfee8b2ccc4ceaa91ebd92379b9ab73c</td>\n",
       "      <td>959000.0</td>\n",
       "      <td>1417.0</td>\n",
       "      <td>-73.860170</td>\n",
       "      <td>40.722960</td>\n",
       "      <td>3.0</td>\n",
       "      <td>2.0</td>\n",
       "      <td>1939.0</td>\n",
       "      <td>$677/sqft</td>\n",
       "      <td>Single Family Home | $677/sqft | Lot Size: 2,5...</td>\n",
       "      <td>2009.0</td>\n",
       "      <td>532000.0</td>\n",
       "      <td>34951.0</td>\n",
       "      <td>2018.0</td>\n",
       "      <td>Flushing</td>\n",
       "      <td>NY</td>\n",
       "      <td>11374.0</td>\n",
       "      <td>2.0</td>\n",
       "      <td>2598.0</td>\n",
       "    </tr>\n",
       "    <tr>\n",
       "      <th>4</th>\n",
       "      <td>01078a918e94a5d7975c66f9f679727a</td>\n",
       "      <td>83500.0</td>\n",
       "      <td>440.0</td>\n",
       "      <td>-80.206314</td>\n",
       "      <td>25.937965</td>\n",
       "      <td>NaN</td>\n",
       "      <td>1.0</td>\n",
       "      <td>1971.0</td>\n",
       "      <td>$190/sqft</td>\n",
       "      <td>Condo | $190/sqft | $140/monthly HOA | Built i...</td>\n",
       "      <td>2007.0</td>\n",
       "      <td>52000.0</td>\n",
       "      <td>53751.0</td>\n",
       "      <td>2018.0</td>\n",
       "      <td>Miami Gardens</td>\n",
       "      <td>FL</td>\n",
       "      <td>33169.0</td>\n",
       "      <td>NaN</td>\n",
       "      <td>NaN</td>\n",
       "    </tr>\n",
       "  </tbody>\n",
       "</table>\n",
       "</div>"
      ],
      "text/plain": [
       "                            Uniq Id     Price  Sqr Ft   Longitude   Latitude  \\\n",
       "0  d6521bac40600f17287f0a5a8b3efc8d  895900.0  3447.0 -112.081985  33.560055   \n",
       "1  659d62537d940a76e3349bd39a72bd92  247000.0  1767.0  -96.676250  32.829227   \n",
       "2  a003f7017e34b3c8486ffd54cecf9f0d   44900.0  1232.0  -78.825190  42.913000   \n",
       "3  bfee8b2ccc4ceaa91ebd92379b9ab73c  959000.0  1417.0  -73.860170  40.722960   \n",
       "4  01078a918e94a5d7975c66f9f679727a   83500.0   440.0  -80.206314  25.937965   \n",
       "\n",
       "   Beds  Bath  Year Built Price Sqr Ft  \\\n",
       "0   4.0   4.5      2019.0    $260/sqft   \n",
       "1   3.0   2.0      1954.0    $140/sqft   \n",
       "2   3.0   1.0      1900.0     $36/sqft   \n",
       "3   3.0   2.0      1939.0    $677/sqft   \n",
       "4   NaN   1.0      1971.0    $190/sqft   \n",
       "\n",
       "                                            Features  Last Sold Year  \\\n",
       "0  Single Family Home | $260/sqft | Lot Size: 7,8...             NaN   \n",
       "1  Single Family Home | $140/sqft | Lot Size: 7,8...             NaN   \n",
       "2  Single Family Home | $36/sqft | Lot Size: 3,51...             NaN   \n",
       "3  Single Family Home | $677/sqft | Lot Size: 2,5...          2009.0   \n",
       "4  Condo | $190/sqft | $140/monthly HOA | Built i...          2007.0   \n",
       "\n",
       "   Last Sold For  Last Tax Assestment  Last Tax Year           City State  \\\n",
       "0            NaN              27645.0         2018.0        Phoenix    AZ   \n",
       "1            NaN                  NaN            NaN         Dallas    TX   \n",
       "2            NaN               7000.0         2016.0        Buffalo    NY   \n",
       "3       532000.0              34951.0         2018.0       Flushing    NY   \n",
       "4        52000.0              53751.0         2018.0  Miami Gardens    FL   \n",
       "\n",
       "   Zipcode  Days On Trulia  Lot Size(sqft)  \n",
       "0  85021.0           110.0          7895.0  \n",
       "1  75228.0           126.0          7877.0  \n",
       "2  14211.0            44.0          3510.0  \n",
       "3  11374.0             2.0          2598.0  \n",
       "4  33169.0             NaN             NaN  "
      ]
     },
     "execution_count": 24,
     "metadata": {},
     "output_type": "execute_result"
    }
   ],
   "source": [
    "#Check data head\n",
    "df3.head()\n",
    "#Categorical Variables: longitude, latitude, Year built, features, last sold year, last tax year, city, state, zipcode\n",
    "#Quantitative Variables: Price, Sqr Ft, Beds, Bath, Last Sold For, Last tax assestment, days on Trulia, Lot Size, and Price per Sqr Ft"
   ]
  },
  {
   "cell_type": "markdown",
   "metadata": {},
   "source": [
    "## Deal with Missing Values"
   ]
  },
  {
   "cell_type": "code",
   "execution_count": 25,
   "metadata": {},
   "outputs": [
    {
     "data": {
      "text/plain": [
       "Uniq Id                    0\n",
       "Price                    227\n",
       "Sqr Ft                  2220\n",
       "Longitude                  0\n",
       "Latitude                   0\n",
       "Beds                    2586\n",
       "Bath                    2510\n",
       "Year Built              3748\n",
       "Price Sqr Ft            2735\n",
       "Features                   0\n",
       "Last Sold Year         15793\n",
       "Last Sold For          15793\n",
       "Last Tax Assestment    11761\n",
       "Last Tax Year          11838\n",
       "City                       0\n",
       "State                      0\n",
       "Zipcode                    3\n",
       "Days On Trulia          5162\n",
       "Lot Size(sqft)          4516\n",
       "dtype: int64"
      ]
     },
     "execution_count": 25,
     "metadata": {},
     "output_type": "execute_result"
    }
   ],
   "source": [
    "#check number of missing values for each attribute\n",
    "df3.isnull().sum()"
   ]
  },
  {
   "cell_type": "code",
   "execution_count": 26,
   "metadata": {},
   "outputs": [
    {
     "name": "stdout",
     "output_type": "stream",
     "text": [
      "529807.2961147117\n",
      "0         895900.0\n",
      "1         247000.0\n",
      "2          44900.0\n",
      "3         959000.0\n",
      "4          83500.0\n",
      "           ...    \n",
      "30001     300000.0\n",
      "30002     119000.0\n",
      "30003     210000.0\n",
      "30004     329000.0\n",
      "30005    4500000.0\n",
      "Name: Price, Length: 30006, dtype: float64\n"
     ]
    }
   ],
   "source": [
    "#replace missing values for price with the mean\n",
    "mean=df3[\"Price\"].mean()   #find mean\n",
    "\n",
    "df3[\"Price\"].fillna(mean, inplace=True)   #fill cells with no value with the mean\n",
    "\n",
    "print(mean)\n",
    "print(df3['Price'])"
   ]
  },
  {
   "cell_type": "code",
   "execution_count": 27,
   "metadata": {},
   "outputs": [
    {
     "name": "stdout",
     "output_type": "stream",
     "text": [
      "5082.979414093428\n",
      "0         3447.000000\n",
      "1         1767.000000\n",
      "2         1232.000000\n",
      "3         1417.000000\n",
      "4          440.000000\n",
      "             ...     \n",
      "30001      733.000000\n",
      "30002     1716.000000\n",
      "30003     5082.979414\n",
      "30004     5082.979414\n",
      "30005    10149.000000\n",
      "Name: Sqr Ft, Length: 30006, dtype: float64\n"
     ]
    }
   ],
   "source": [
    "#replace missing values for Sqr Ft with the mean\n",
    "mean=df3[\"Sqr Ft\"].mean()\n",
    "\n",
    "df3[\"Sqr Ft\"].fillna(mean, inplace=True)\n",
    "\n",
    "print(mean)\n",
    "print(df3['Sqr Ft'])"
   ]
  },
  {
   "cell_type": "code",
   "execution_count": 28,
   "metadata": {},
   "outputs": [
    {
     "name": "stdout",
     "output_type": "stream",
     "text": [
      "3.0\n",
      "0        4.0\n",
      "1        3.0\n",
      "2        3.0\n",
      "3        3.0\n",
      "4        3.0\n",
      "        ... \n",
      "30001    1.0\n",
      "30002    3.0\n",
      "30003    3.0\n",
      "30004    7.0\n",
      "30005    4.0\n",
      "Name: Beds, Length: 30006, dtype: float64\n"
     ]
    }
   ],
   "source": [
    "#replace missing values for Beds with the mode\n",
    "mode=df3[\"Beds\"].mode()[0]\n",
    "\n",
    "df3[\"Beds\"].fillna(mode, inplace=True)\n",
    "\n",
    "print(mode)\n",
    "print(df3['Beds'])"
   ]
  },
  {
   "cell_type": "code",
   "execution_count": 29,
   "metadata": {},
   "outputs": [
    {
     "name": "stdout",
     "output_type": "stream",
     "text": [
      "2.0\n",
      "0        4.5\n",
      "1        2.0\n",
      "2        1.0\n",
      "3        2.0\n",
      "4        1.0\n",
      "        ... \n",
      "30001    1.0\n",
      "30002    2.0\n",
      "30003    2.0\n",
      "30004    3.0\n",
      "30005    9.0\n",
      "Name: Bath, Length: 30006, dtype: float64\n"
     ]
    }
   ],
   "source": [
    "#replace missing values for Bath with the mode\n",
    "mode=df3[\"Bath\"].mode()[0]\n",
    "\n",
    "df3[\"Bath\"].fillna(mode, inplace=True)\n",
    "\n",
    "print(mode)\n",
    "print(df3['Bath'])"
   ]
  },
  {
   "cell_type": "code",
   "execution_count": 30,
   "metadata": {},
   "outputs": [
    {
     "name": "stdout",
     "output_type": "stream",
     "text": [
      "2.00     12776\n",
      "3.00      7018\n",
      "1.00      4280\n",
      "4.00      2732\n",
      "2.50       950\n",
      "5.00       834\n",
      "6.00       369\n",
      "3.50       347\n",
      "7.00       148\n",
      "4.50       115\n",
      "8.00        93\n",
      "1.50        90\n",
      "1.75        71\n",
      "9.00        42\n",
      "5.50        28\n",
      "10.00       22\n",
      "2.75        12\n",
      "11.00       11\n",
      "2.10        10\n",
      "12.00        9\n",
      "3.75         6\n",
      "13.00        5\n",
      "2.25         4\n",
      "1.10         4\n",
      "3.10         3\n",
      "3.25         3\n",
      "1.25         2\n",
      "17.00        2\n",
      "4.10         2\n",
      "6.50         2\n",
      "42.00        1\n",
      "14.00        1\n",
      "22.00        1\n",
      "7.50         1\n",
      "2.70         1\n",
      "35.00        1\n",
      "29.00        1\n",
      "28.00        1\n",
      "2.30         1\n",
      "98.00        1\n",
      "4.75         1\n",
      "16.00        1\n",
      "0.75         1\n",
      "24.00        1\n",
      "4.70         1\n",
      "36.00        1\n",
      "Name: Bath, dtype: int64\n"
     ]
    }
   ],
   "source": [
    "print(df3['Bath'].value_counts(ascending=False))"
   ]
  },
  {
   "cell_type": "code",
   "execution_count": 31,
   "metadata": {},
   "outputs": [
    {
     "name": "stdout",
     "output_type": "stream",
     "text": [
      "1973.1402239317542\n",
      "0    2019.0\n",
      "dtype: float64\n"
     ]
    }
   ],
   "source": [
    "## Should I replace missing values with mean or mode for the year built??\n",
    "#replace missing values for Year Built with the mean\n",
    "mean=df3[\"Year Built\"].mean()\n",
    "mode = df3[\"Year Built\"].mode()\n",
    "\n",
    "#df3[\"Year Built\"].fillna(mean, inplace=True)\n",
    "\n",
    "print(mean)\n",
    "print(mode)\n",
    "#print(df3['Year Built'])"
   ]
  },
  {
   "cell_type": "code",
   "execution_count": 32,
   "metadata": {},
   "outputs": [
    {
     "name": "stdout",
     "output_type": "stream",
     "text": [
      "2019.0    1547\n",
      "2006.0     615\n",
      "2005.0     553\n",
      "2007.0     536\n",
      "1920.0     534\n",
      "          ... \n",
      "1854.0       1\n",
      "1882.0       1\n",
      "1872.0       1\n",
      "1816.0       1\n",
      "1877.0       1\n",
      "Name: Year Built, Length: 166, dtype: int64\n"
     ]
    }
   ],
   "source": [
    "print(df3['Year Built'].value_counts(ascending=False))"
   ]
  },
  {
   "cell_type": "code",
   "execution_count": 33,
   "metadata": {},
   "outputs": [
    {
     "name": "stdout",
     "output_type": "stream",
     "text": [
      "68.0\n",
      "0        110.0\n",
      "1        126.0\n",
      "2         44.0\n",
      "3          2.0\n",
      "4         68.0\n",
      "         ...  \n",
      "30001     90.0\n",
      "30002     68.0\n",
      "30003     59.0\n",
      "30004      2.0\n",
      "30005    180.0\n",
      "Name: Days On Trulia, Length: 30006, dtype: float64\n"
     ]
    }
   ],
   "source": [
    "#replace missing values for Days On Trulia with the mean\n",
    "mean=df3[\"Days On Trulia\"].mean()\n",
    "mean=mean.round()\n",
    "df3[\"Days On Trulia\"].fillna(mean, inplace=True)\n",
    "\n",
    "print(mean)\n",
    "print(df3['Days On Trulia'])"
   ]
  },
  {
   "cell_type": "code",
   "execution_count": 34,
   "metadata": {},
   "outputs": [
    {
     "name": "stdout",
     "output_type": "stream",
     "text": [
      "92933.22244017261\n",
      "0          7895.00000\n",
      "1          7877.00000\n",
      "2          3510.00000\n",
      "3          2598.00000\n",
      "4         92933.22244\n",
      "             ...     \n",
      "30001     92933.22244\n",
      "30002    820670.40000\n",
      "30003      8276.00000\n",
      "30004     92933.22244\n",
      "30005    229996.80000\n",
      "Name: Lot Size(sqft), Length: 30006, dtype: float64\n"
     ]
    }
   ],
   "source": [
    "#replace missing values for Lot Size(sqft) with the mean\n",
    "mean=df3[\"Lot Size(sqft)\"].mean()\n",
    "\n",
    "df3[\"Lot Size(sqft)\"].fillna(mean, inplace=True)\n",
    "\n",
    "print(mean)\n",
    "print(df3['Lot Size(sqft)'])"
   ]
  },
  {
   "cell_type": "code",
   "execution_count": 35,
   "metadata": {},
   "outputs": [
    {
     "data": {
      "text/plain": [
       "(30003, 19)"
      ]
     },
     "execution_count": 35,
     "metadata": {},
     "output_type": "execute_result"
    }
   ],
   "source": [
    "#delete rows with missing values for zipcode since only 3 missing values\n",
    "df3 = df3.dropna(axis=0, subset=['Zipcode'])\n",
    "df3.shape"
   ]
  },
  {
   "cell_type": "code",
   "execution_count": 36,
   "metadata": {},
   "outputs": [
    {
     "name": "stderr",
     "output_type": "stream",
     "text": [
      "/opt/conda/envs/Python-3.7-main/lib/python3.7/site-packages/ipykernel/__main__.py:2: SettingWithCopyWarning: \n",
      "A value is trying to be set on a copy of a slice from a DataFrame.\n",
      "Try using .loc[row_indexer,col_indexer] = value instead\n",
      "\n",
      "See the caveats in the documentation: https://pandas.pydata.org/pandas-docs/stable/user_guide/indexing.html#returning-a-view-versus-a-copy\n",
      "  from ipykernel import kernelapp as app\n",
      "/opt/conda/envs/Python-3.7-main/lib/python3.7/site-packages/ipykernel/__main__.py:4: SettingWithCopyWarning: \n",
      "A value is trying to be set on a copy of a slice from a DataFrame.\n",
      "Try using .loc[row_indexer,col_indexer] = value instead\n",
      "\n",
      "See the caveats in the documentation: https://pandas.pydata.org/pandas-docs/stable/user_guide/indexing.html#returning-a-view-versus-a-copy\n"
     ]
    },
    {
     "data": {
      "text/plain": [
       "0        259.91\n",
       "1        139.78\n",
       "2         36.44\n",
       "3        676.78\n",
       "4        189.77\n",
       "          ...  \n",
       "30001    409.28\n",
       "30002     69.35\n",
       "30003     41.31\n",
       "30004     64.73\n",
       "30005    443.39\n",
       "Name: Price per Sqft, Length: 30003, dtype: float64"
      ]
     },
     "execution_count": 36,
     "metadata": {},
     "output_type": "execute_result"
    }
   ],
   "source": [
    "#create new column to calculate price per square foot instead of using the attribute provided\n",
    "df3['Price per Sqft'] = df3['Price'] / df3['Sqr Ft']\n",
    "#round to 2 decimals\n",
    "df3['Price per Sqft']= df3['Price per Sqft'].round(decimals = 2)\n",
    "\n",
    "df3['Price per Sqft']"
   ]
  },
  {
   "cell_type": "code",
   "execution_count": 37,
   "metadata": {},
   "outputs": [
    {
     "name": "stderr",
     "output_type": "stream",
     "text": [
      "/opt/conda/envs/Python-3.7-main/lib/python3.7/site-packages/pandas/core/frame.py:3997: SettingWithCopyWarning: \n",
      "A value is trying to be set on a copy of a slice from a DataFrame\n",
      "\n",
      "See the caveats in the documentation: https://pandas.pydata.org/pandas-docs/stable/user_guide/indexing.html#returning-a-view-versus-a-copy\n",
      "  errors=errors,\n"
     ]
    }
   ],
   "source": [
    "#drop original price sqr ft column\n",
    "df3.drop(\"Price Sqr Ft\", axis = 1, inplace=True)"
   ]
  },
  {
   "cell_type": "code",
   "execution_count": 38,
   "metadata": {},
   "outputs": [
    {
     "data": {
      "text/plain": [
       "Uniq Id                    0\n",
       "Price                      0\n",
       "Sqr Ft                     0\n",
       "Longitude                  0\n",
       "Latitude                   0\n",
       "Beds                       0\n",
       "Bath                       0\n",
       "Year Built              3745\n",
       "Features                   0\n",
       "Last Sold Year         15790\n",
       "Last Sold For          15790\n",
       "Last Tax Assestment    11758\n",
       "Last Tax Year          11835\n",
       "City                       0\n",
       "State                      0\n",
       "Zipcode                    0\n",
       "Days On Trulia             0\n",
       "Lot Size(sqft)             0\n",
       "Price per Sqft             0\n",
       "dtype: int64"
      ]
     },
     "execution_count": 38,
     "metadata": {},
     "output_type": "execute_result"
    }
   ],
   "source": [
    "#Check missing value counts\n",
    "df3.isnull().sum()"
   ]
  },
  {
   "cell_type": "code",
   "execution_count": 39,
   "metadata": {},
   "outputs": [],
   "source": [
    "#What to do with missing values for these? Lots are missing\n",
    "#Last Sold Year         15793\n",
    "#Last Sold For          15793\n",
    "#Last Tax Assestment    11761\n",
    "#Last Tax Year          11838"
   ]
  },
  {
   "cell_type": "code",
   "execution_count": 40,
   "metadata": {},
   "outputs": [],
   "source": [
    "#What to do with year built missing values"
   ]
  },
  {
   "cell_type": "code",
   "execution_count": null,
   "metadata": {},
   "outputs": [],
   "source": [
    "# Come back to missing values later"
   ]
  },
  {
   "cell_type": "code",
   "execution_count": null,
   "metadata": {},
   "outputs": [],
   "source": []
  },
  {
   "cell_type": "markdown",
   "metadata": {},
   "source": [
    "# Visualizations"
   ]
  },
  {
   "cell_type": "code",
   "execution_count": 46,
   "metadata": {},
   "outputs": [],
   "source": [
    "## Categorical Attributes ##"
   ]
  },
  {
   "cell_type": "code",
   "execution_count": 41,
   "metadata": {},
   "outputs": [
    {
     "name": "stdout",
     "output_type": "stream",
     "text": [
      "2019.0    1547\n",
      "2006.0     615\n",
      "2005.0     553\n",
      "2007.0     536\n",
      "1920.0     534\n",
      "          ... \n",
      "1854.0       1\n",
      "1882.0       1\n",
      "1872.0       1\n",
      "1816.0       1\n",
      "1877.0       1\n",
      "Name: Year Built, Length: 166, dtype: int64\n"
     ]
    }
   ],
   "source": [
    "#How many of each year?\n",
    "print(df3['Year Built'].value_counts())\n",
    "#Years range from 1877 to 2019\n",
    "#Many are built in 2019"
   ]
  },
  {
   "cell_type": "code",
   "execution_count": 42,
   "metadata": {},
   "outputs": [
    {
     "data": {
      "text/plain": [
       "(array([  0,   1,   2,   3,   4,   5,   6,   7,   8,   9,  10,  11,  12,\n",
       "         13,  14,  15,  16,  17,  18,  19,  20,  21,  22,  23,  24,  25,\n",
       "         26,  27,  28,  29,  30,  31,  32,  33,  34,  35,  36,  37,  38,\n",
       "         39,  40,  41,  42,  43,  44,  45,  46,  47,  48,  49,  50,  51,\n",
       "         52,  53,  54,  55,  56,  57,  58,  59,  60,  61,  62,  63,  64,\n",
       "         65,  66,  67,  68,  69,  70,  71,  72,  73,  74,  75,  76,  77,\n",
       "         78,  79,  80,  81,  82,  83,  84,  85,  86,  87,  88,  89,  90,\n",
       "         91,  92,  93,  94,  95,  96,  97,  98,  99, 100, 101, 102, 103,\n",
       "        104, 105, 106, 107, 108, 109, 110, 111, 112, 113, 114, 115, 116,\n",
       "        117, 118, 119, 120, 121, 122, 123, 124, 125, 126, 127, 128, 129,\n",
       "        130, 131, 132, 133, 134, 135, 136, 137, 138, 139, 140, 141, 142,\n",
       "        143, 144, 145, 146, 147, 148, 149, 150, 151, 152, 153, 154, 155,\n",
       "        156, 157, 158, 159, 160, 161, 162, 163, 164, 165]),\n",
       " <a list of 166 Text major ticklabel objects>)"
      ]
     },
     "execution_count": 42,
     "metadata": {},
     "output_type": "execute_result"
    },
    {
     "data": {
      "image/png": "[encoded data removed]",
      "text/plain": [
       "<Figure size 1224x432 with 1 Axes>"
      ]
     },
     "metadata": {
      "needs_background": "light"
     },
     "output_type": "display_data"
    }
   ],
   "source": [
    "#Count plot of Year Built\n",
    "plt.figure(figsize=(17,6))\n",
    "sb.countplot(x='Year Built', data=df3, palette='rainbow')\n",
    "plt.xticks(rotation=90)"
   ]
  },
  {
   "cell_type": "code",
   "execution_count": 43,
   "metadata": {},
   "outputs": [
    {
     "name": "stdout",
     "output_type": "stream",
     "text": [
      "Houston             1077\n",
      "Chicago              985\n",
      "San Antonio          951\n",
      "Las Vegas            944\n",
      "Miami                821\n",
      "                    ... \n",
      "Del Valle              1\n",
      "Barbourmeade           1\n",
      "White Settlement       1\n",
      "Mattapan               1\n",
      "Red Oak                1\n",
      "Name: City, Length: 675, dtype: int64\n"
     ]
    }
   ],
   "source": [
    "#Which cities are most prevalent in the data?\n",
    "print(df3['City'].value_counts())"
   ]
  },
  {
   "cell_type": "code",
   "execution_count": 44,
   "metadata": {},
   "outputs": [
    {
     "name": "stdout",
     "output_type": "stream",
     "text": [
      "TX    4899\n",
      "FL    2721\n",
      "CA    2718\n",
      "AZ    1940\n",
      "NV    1507\n",
      "OH    1403\n",
      "NY    1194\n",
      "CO    1033\n",
      "NC    1012\n",
      "PA    1007\n",
      "IL     986\n",
      "GA     861\n",
      "MN     781\n",
      "VA     670\n",
      "MD     659\n",
      "TN     629\n",
      "IN     567\n",
      "WA     524\n",
      "OK     521\n",
      "LA     515\n",
      "KY     469\n",
      "MI     468\n",
      "OR     432\n",
      "WI     405\n",
      "NE     388\n",
      "NM     307\n",
      "DC     227\n",
      "MA     225\n",
      "AL     199\n",
      "AK     178\n",
      "KS     168\n",
      "ID     164\n",
      "IA     163\n",
      "NJ      63\n",
      "Name: State, dtype: int64\n"
     ]
    }
   ],
   "source": [
    "#Which states are most prevalet in the data?\n",
    "state_counts = df3['State'].value_counts()\n",
    "print(state_counts)\n",
    "#Highest number of houses from Texas"
   ]
  },
  {
   "cell_type": "code",
   "execution_count": 45,
   "metadata": {},
   "outputs": [
    {
     "data": {
      "text/plain": [
       "<matplotlib.axes._subplots.AxesSubplot at 0x7f01d8337dd0>"
      ]
     },
     "execution_count": 45,
     "metadata": {},
     "output_type": "execute_result"
    },
    {
     "data": {
      "image/png": "[encoded data removed]",
      "text/plain": [
       "<Figure size 864x432 with 1 Axes>"
      ]
     },
     "metadata": {
      "needs_background": "light"
     },
     "output_type": "display_data"
    }
   ],
   "source": [
    "#Count plot of State\n",
    "plt.figure(figsize=(12,6))\n",
    "sb.countplot(x='State', data=df3, palette='rainbow', order=state_counts.index)"
   ]
  },
  {
   "cell_type": "code",
   "execution_count": 46,
   "metadata": {},
   "outputs": [
    {
     "name": "stdout",
     "output_type": "stream",
     "text": [
      "3.0     13512\n",
      "4.0      6975\n",
      "2.0      4990\n",
      "5.0      2213\n",
      "1.0      1329\n",
      "6.0       624\n",
      "7.0       143\n",
      "8.0       104\n",
      "9.0        42\n",
      "10.0       23\n",
      "12.0       15\n",
      "11.0       10\n",
      "20.0        3\n",
      "14.0        3\n",
      "44.0        2\n",
      "18.0        2\n",
      "15.0        2\n",
      "16.0        2\n",
      "64.0        2\n",
      "13.0        1\n",
      "35.0        1\n",
      "27.0        1\n",
      "24.0        1\n",
      "65.0        1\n",
      "36.0        1\n",
      "23.0        1\n",
      "Name: Beds, dtype: int64\n"
     ]
    }
   ],
   "source": [
    "#Count of bedrooms\n",
    "beds_counts = df3['Beds'].value_counts()\n",
    "print(beds_counts)\n",
    "\n",
    "#most common is 3 bedrooms"
   ]
  },
  {
   "cell_type": "code",
   "execution_count": 47,
   "metadata": {},
   "outputs": [
    {
     "data": {
      "text/plain": [
       "<matplotlib.axes._subplots.AxesSubplot at 0x7f01d046ca90>"
      ]
     },
     "execution_count": 47,
     "metadata": {},
     "output_type": "execute_result"
    },
    {
     "data": {
      "image/png": "[encoded data removed]",
      "text/plain": [
       "<Figure size 1080x432 with 1 Axes>"
      ]
     },
     "metadata": {
      "needs_background": "light"
     },
     "output_type": "display_data"
    }
   ],
   "source": [
    "#Count plot of Beds\n",
    "plt.figure(figsize=(15,6))\n",
    "sb.countplot(x='Beds', data=df3, palette='rainbow')\n",
    "\n",
    "# Most common is 3 bedrooms"
   ]
  },
  {
   "cell_type": "code",
   "execution_count": 48,
   "metadata": {},
   "outputs": [
    {
     "name": "stdout",
     "output_type": "stream",
     "text": [
      "2.00     12773\n",
      "3.00      7018\n",
      "1.00      4280\n",
      "4.00      2732\n",
      "2.50       950\n",
      "5.00       834\n",
      "6.00       369\n",
      "3.50       347\n",
      "7.00       148\n",
      "4.50       115\n",
      "8.00        93\n",
      "1.50        90\n",
      "1.75        71\n",
      "9.00        42\n",
      "5.50        28\n",
      "10.00       22\n",
      "2.75        12\n",
      "11.00       11\n",
      "2.10        10\n",
      "12.00        9\n",
      "3.75         6\n",
      "13.00        5\n",
      "2.25         4\n",
      "1.10         4\n",
      "3.10         3\n",
      "3.25         3\n",
      "1.25         2\n",
      "17.00        2\n",
      "4.10         2\n",
      "6.50         2\n",
      "42.00        1\n",
      "14.00        1\n",
      "22.00        1\n",
      "7.50         1\n",
      "2.70         1\n",
      "35.00        1\n",
      "29.00        1\n",
      "28.00        1\n",
      "2.30         1\n",
      "98.00        1\n",
      "4.75         1\n",
      "16.00        1\n",
      "0.75         1\n",
      "24.00        1\n",
      "4.70         1\n",
      "36.00        1\n",
      "Name: Bath, dtype: int64\n"
     ]
    }
   ],
   "source": [
    "#Count of bathrooms\n",
    "bath_counts = df3['Bath'].value_counts()\n",
    "print(bath_counts)\n",
    "\n",
    "#most common is 2 bathrooms, then 3,1,4"
   ]
  },
  {
   "cell_type": "code",
   "execution_count": 49,
   "metadata": {},
   "outputs": [
    {
     "data": {
      "text/plain": [
       "(array([ 0,  1,  2,  3,  4,  5,  6,  7,  8,  9, 10, 11, 12, 13, 14, 15, 16,\n",
       "        17, 18, 19, 20, 21, 22, 23, 24, 25, 26, 27, 28, 29, 30, 31, 32, 33,\n",
       "        34, 35, 36, 37, 38, 39, 40, 41, 42, 43, 44, 45]),\n",
       " <a list of 46 Text major ticklabel objects>)"
      ]
     },
     "execution_count": 49,
     "metadata": {},
     "output_type": "execute_result"
    },
    {
     "data": {
      "image/png": "[encoded data removed]",
      "text/plain": [
       "<Figure size 1152x432 with 1 Axes>"
      ]
     },
     "metadata": {
      "needs_background": "light"
     },
     "output_type": "display_data"
    }
   ],
   "source": [
    "#Count plot of Bath\n",
    "plt.figure(figsize=(16,6))\n",
    "sb.countplot(x='Bath', data=df3)\n",
    "plt.xticks(rotation=90)"
   ]
  },
  {
   "cell_type": "code",
   "execution_count": 56,
   "metadata": {},
   "outputs": [],
   "source": [
    "## Quantitative Attributes ##"
   ]
  },
  {
   "cell_type": "code",
   "execution_count": 54,
   "metadata": {},
   "outputs": [
    {
     "data": {
      "image/png": "[encoded data removed]",
      "text/plain": [
       "<Figure size 648x432 with 1 Axes>"
      ]
     },
     "metadata": {},
     "output_type": "display_data"
    }
   ],
   "source": [
    "\"\"\"\n",
    "Plot the distribution of the target variable, Price. We will use the distplot \n",
    "function from the seaborn library.\n",
    "\"\"\"\n",
    "sb.set(rc={'figure.figsize':(9,6)})\n",
    "sb.distplot(df3['Price'], bins=10)\n",
    "plt.show()\n",
    "\n",
    "# The plot shows that the price distributions is skewed right with most of the data in the lower end. A log transformation of\n",
    "# the price variable will help fix this."
   ]
  },
  {
   "cell_type": "code",
   "execution_count": 57,
   "metadata": {},
   "outputs": [],
   "source": [
    "# Look for outliers"
   ]
  },
  {
   "cell_type": "code",
   "execution_count": 58,
   "metadata": {},
   "outputs": [
    {
     "data": {
      "text/plain": [
       "<matplotlib.axes._subplots.AxesSubplot at 0x7fbf382271d0>"
      ]
     },
     "execution_count": 58,
     "metadata": {},
     "output_type": "execute_result"
    },
    {
     "data": {
      "image/png": "[encoded data removed]",
      "text/plain": [
       "<Figure size 1080x360 with 1 Axes>"
      ]
     },
     "metadata": {
      "needs_background": "light"
     },
     "output_type": "display_data"
    }
   ],
   "source": [
    "#Price of house\n",
    "\n",
    "#boxplot of price\n",
    "plt.figure(figsize=(15,5))\n",
    "sb.boxplot(x=df3['Price'])\n",
    "#lots of upper outliers -- skewed right"
   ]
  },
  {
   "cell_type": "code",
   "execution_count": 59,
   "metadata": {},
   "outputs": [
    {
     "data": {
      "text/plain": [
       "(array([2.9543e+04, 3.1900e+02, 7.3000e+01, 1.3000e+01, 2.5000e+01,\n",
       "        9.0000e+00, 6.0000e+00, 2.0000e+00, 3.0000e+00, 4.0000e+00,\n",
       "        2.0000e+00, 2.0000e+00, 1.0000e+00, 0.0000e+00, 0.0000e+00,\n",
       "        0.0000e+00, 0.0000e+00, 0.0000e+00, 0.0000e+00, 1.0000e+00]),\n",
       " array([1.00000000e+00, 3.00000095e+06, 6.00000090e+06, 9.00000085e+06,\n",
       "        1.20000008e+07, 1.50000008e+07, 1.80000007e+07, 2.10000007e+07,\n",
       "        2.40000006e+07, 2.70000006e+07, 3.00000005e+07, 3.30000005e+07,\n",
       "        3.60000004e+07, 3.90000004e+07, 4.20000003e+07, 4.50000002e+07,\n",
       "        4.80000002e+07, 5.10000002e+07, 5.40000001e+07, 5.70000001e+07,\n",
       "        6.00000000e+07]),\n",
       " <a list of 20 Patch objects>)"
      ]
     },
     "execution_count": 59,
     "metadata": {},
     "output_type": "execute_result"
    },
    {
     "data": {
      "image/png": "[encoded data removed]",
      "text/plain": [
       "<Figure size 576x288 with 1 Axes>"
      ]
     },
     "metadata": {
      "needs_background": "light"
     },
     "output_type": "display_data"
    }
   ],
   "source": [
    "#histogram of price\n",
    "plt.figure(figsize=(8,4))\n",
    "plt.hist(x=df3['Price'], bins = 20 )"
   ]
  },
  {
   "cell_type": "code",
   "execution_count": 60,
   "metadata": {},
   "outputs": [
    {
     "data": {
      "text/plain": [
       "<matplotlib.axes._subplots.AxesSubplot at 0x7fbf38224c50>"
      ]
     },
     "execution_count": 60,
     "metadata": {},
     "output_type": "execute_result"
    },
    {
     "data": {
      "image/png": "[encoded data removed]",
      "text/plain": [
       "<Figure size 1080x432 with 1 Axes>"
      ]
     },
     "metadata": {
      "needs_background": "light"
     },
     "output_type": "display_data"
    }
   ],
   "source": [
    "# Size of house (Sqr Ft)\n",
    "\n",
    "#boxplot of Sqr Ft\n",
    "plt.figure(figsize=(15,6))\n",
    "sb.boxplot(x=df3['Sqr Ft'])"
   ]
  },
  {
   "cell_type": "code",
   "execution_count": 61,
   "metadata": {},
   "outputs": [
    {
     "data": {
      "text/plain": [
       "<matplotlib.axes._subplots.AxesSubplot at 0x7fbf38066310>"
      ]
     },
     "execution_count": 61,
     "metadata": {},
     "output_type": "execute_result"
    },
    {
     "data": {
      "image/png": "[encoded data removed]",
      "text/plain": [
       "<Figure size 1080x432 with 1 Axes>"
      ]
     },
     "metadata": {
      "needs_background": "light"
     },
     "output_type": "display_data"
    }
   ],
   "source": [
    "# Lot size\n",
    "\n",
    "#boxplot of lot size(sqft)\n",
    "plt.figure(figsize=(15,6))\n",
    "sb.boxplot(x=df3['Lot Size(sqft)'])\n",
    "\n",
    "#get rid of upper outliers"
   ]
  },
  {
   "cell_type": "code",
   "execution_count": 62,
   "metadata": {},
   "outputs": [
    {
     "data": {
      "text/plain": [
       "<matplotlib.axes._subplots.AxesSubplot at 0x7fbf37fd7bd0>"
      ]
     },
     "execution_count": 62,
     "metadata": {},
     "output_type": "execute_result"
    },
    {
     "data": {
      "image/png": "[encoded data removed]",
      "text/plain": [
       "<Figure size 576x360 with 1 Axes>"
      ]
     },
     "metadata": {
      "needs_background": "light"
     },
     "output_type": "display_data"
    }
   ],
   "source": [
    "#boxplot of days on trulia\n",
    "plt.figure(figsize=(8,5))\n",
    "sb.boxplot(x=df3['Days On Trulia'])\n",
    "# no outliers"
   ]
  },
  {
   "cell_type": "code",
   "execution_count": 63,
   "metadata": {},
   "outputs": [
    {
     "data": {
      "text/plain": [
       "(array([8764., 2747., 2140., 7051., 1184., 1293.,  902.,  909.,  685.,\n",
       "        4328.]),\n",
       " array([  2. ,  19.8,  37.6,  55.4,  73.2,  91. , 108.8, 126.6, 144.4,\n",
       "        162.2, 180. ]),\n",
       " <a list of 10 Patch objects>)"
      ]
     },
     "execution_count": 63,
     "metadata": {},
     "output_type": "execute_result"
    },
    {
     "data": {
      "image/png": "[encoded data removed]",
      "text/plain": [
       "<Figure size 648x360 with 1 Axes>"
      ]
     },
     "metadata": {
      "needs_background": "light"
     },
     "output_type": "display_data"
    }
   ],
   "source": [
    "#histogram of Days On Trulia\n",
    "plt.figure(figsize=(9,5))\n",
    "plt.hist(x=df3['Days On Trulia'])"
   ]
  },
  {
   "cell_type": "code",
   "execution_count": 64,
   "metadata": {},
   "outputs": [],
   "source": [
    "## Compare variables to price"
   ]
  },
  {
   "cell_type": "code",
   "execution_count": 65,
   "metadata": {},
   "outputs": [
    {
     "data": {
      "text/plain": [
       "<matplotlib.axes._subplots.AxesSubplot at 0x7fbf37f0a910>"
      ]
     },
     "execution_count": 65,
     "metadata": {},
     "output_type": "execute_result"
    },
    {
     "data": {
      "image/png": "[encoded data removed]",
      "text/plain": [
       "<Figure size 864x432 with 1 Axes>"
      ]
     },
     "metadata": {
      "needs_background": "light"
     },
     "output_type": "display_data"
    }
   ],
   "source": [
    "#bar graph of price vs state\n",
    "\n",
    "plt.figure(figsize=(12,6))\n",
    "\n",
    "sb.barplot(data=df3, x=\"State\", y=\"Price\", ci=None)\n",
    "\n",
    "# New York, Massachusetts, California, and DC"
   ]
  },
  {
   "cell_type": "code",
   "execution_count": 66,
   "metadata": {},
   "outputs": [
    {
     "data": {
      "text/plain": [
       "<matplotlib.axes._subplots.AxesSubplot at 0x7fbf2f5a9f50>"
      ]
     },
     "execution_count": 66,
     "metadata": {},
     "output_type": "execute_result"
    },
    {
     "data": {
      "image/png": "[encoded data removed]",
      "text/plain": [
       "<Figure size 864x432 with 1 Axes>"
      ]
     },
     "metadata": {
      "needs_background": "light"
     },
     "output_type": "display_data"
    }
   ],
   "source": [
    "#bar graph of Price vs Number of Beds\n",
    "plt.figure(figsize=(12,6))\n",
    "sb.barplot(x='Beds',y='Price',data=df3, palette=\"Blues_d\", ci=None)\n",
    "\n",
    "#36 bedrooms has the highest price by far "
   ]
  },
  {
   "cell_type": "code",
   "execution_count": 67,
   "metadata": {},
   "outputs": [
    {
     "data": {
      "text/plain": [
       "(array([ 0,  1,  2,  3,  4,  5,  6,  7,  8,  9, 10, 11, 12, 13, 14, 15, 16,\n",
       "        17, 18, 19, 20, 21, 22, 23, 24, 25, 26, 27, 28, 29, 30, 31, 32, 33,\n",
       "        34, 35, 36, 37, 38, 39, 40, 41, 42, 43, 44, 45]),\n",
       " <a list of 46 Text major ticklabel objects>)"
      ]
     },
     "execution_count": 67,
     "metadata": {},
     "output_type": "execute_result"
    },
    {
     "data": {
      "image/png": "[encoded data removed]",
      "text/plain": [
       "<Figure size 1152x432 with 1 Axes>"
      ]
     },
     "metadata": {
      "needs_background": "light"
     },
     "output_type": "display_data"
    }
   ],
   "source": [
    "#bar graph of Price vs Number of Bathrooms\n",
    "plt.figure(figsize=(16,6))\n",
    "sb.barplot(x='Bath',y='Price',data=df3,palette='Reds_d',ci=None)\n",
    "plt.xticks(rotation=90)\n",
    "\n",
    "#There is a peak in price at 7.5 bathrooms and at 29 bathrooms"
   ]
  },
  {
   "cell_type": "code",
   "execution_count": 68,
   "metadata": {},
   "outputs": [
    {
     "data": {
      "text/plain": [
       "<matplotlib.axes._subplots.AxesSubplot at 0x7fbf3856ead0>"
      ]
     },
     "execution_count": 68,
     "metadata": {},
     "output_type": "execute_result"
    },
    {
     "data": {
      "image/png": "[encoded data removed]",
      "text/plain": [
       "<Figure size 1080x432 with 1 Axes>"
      ]
     },
     "metadata": {
      "needs_background": "light"
     },
     "output_type": "display_data"
    }
   ],
   "source": [
    "#scatter plot of Price vs Sqr Ft\n",
    "plt.figure(figsize=(15,6))\n",
    "sb.scatterplot(data=df3,x='Sqr Ft',y='Price')\n",
    "\n",
    "#There are a couple outliers that have a high square footage"
   ]
  },
  {
   "cell_type": "code",
   "execution_count": 69,
   "metadata": {},
   "outputs": [
    {
     "data": {
      "text/plain": [
       "<matplotlib.axes._subplots.AxesSubplot at 0x7fbf38286910>"
      ]
     },
     "execution_count": 69,
     "metadata": {},
     "output_type": "execute_result"
    },
    {
     "data": {
      "image/png": "[encoded data removed]",
      "text/plain": [
       "<Figure size 1080x432 with 1 Axes>"
      ]
     },
     "metadata": {
      "needs_background": "light"
     },
     "output_type": "display_data"
    }
   ],
   "source": [
    "#scatter plot of Price vs Lot Size\n",
    "plt.figure(figsize=(15,6))\n",
    "sb.scatterplot(data=df3,x='Lot Size(sqft)',y='Price')"
   ]
  },
  {
   "cell_type": "code",
   "execution_count": 70,
   "metadata": {},
   "outputs": [
    {
     "data": {
      "text/plain": [
       "<matplotlib.axes._subplots.AxesSubplot at 0x7fbf2f2b0290>"
      ]
     },
     "execution_count": 70,
     "metadata": {},
     "output_type": "execute_result"
    },
    {
     "data": {
      "image/png": "[encoded data removed]",
      "text/plain": [
       "<Figure size 864x360 with 1 Axes>"
      ]
     },
     "metadata": {
      "needs_background": "light"
     },
     "output_type": "display_data"
    }
   ],
   "source": [
    "#scatter plot of Days On Trulia\n",
    "plt.figure(figsize=(12,5))\n",
    "sb.scatterplot(data=df3,x='Days On Trulia',y='Price', color='y')\n",
    "\n",
    "#There is not much of a trend shown here"
   ]
  },
  {
   "cell_type": "code",
   "execution_count": 71,
   "metadata": {},
   "outputs": [
    {
     "data": {
      "image/png": "[encoded data removed]",
      "text/plain": [
       "<Figure size 432x288 with 1 Axes>"
      ]
     },
     "metadata": {
      "needs_background": "light"
     },
     "output_type": "display_data"
    }
   ],
   "source": [
    "#wordcloud for features column\n",
    "text = df3.Features[1]\n",
    "\n",
    "# Create and generate a word cloud image:\n",
    "wordcloud = WordCloud(background_color=\"white\").generate(text)\n",
    "\n",
    "# Display the generated image:\n",
    "plt.imshow(wordcloud, interpolation='bilinear')\n",
    "plt.axis(\"off\")\n",
    "plt.show()\n",
    "\n",
    "#System, Sqft, Heating, and Air are mentioned the most"
   ]
  },
  {
   "cell_type": "code",
   "execution_count": 72,
   "metadata": {},
   "outputs": [],
   "source": [
    "#Regression Plots"
   ]
  },
  {
   "cell_type": "code",
   "execution_count": 73,
   "metadata": {},
   "outputs": [
    {
     "data": {
      "text/plain": [
       "<matplotlib.axes._subplots.AxesSubplot at 0x7fbf2f2021d0>"
      ]
     },
     "execution_count": 73,
     "metadata": {},
     "output_type": "execute_result"
    },
    {
     "data": {
      "image/png": "[encoded data removed]",
      "text/plain": [
       "<Figure size 864x360 with 1 Axes>"
      ]
     },
     "metadata": {
      "needs_background": "light"
     },
     "output_type": "display_data"
    }
   ],
   "source": [
    "#regression for price vs year built\n",
    "plt.figure(figsize=(12,5))\n",
    "sb.regplot(x=\"Year Built\", y=\"Price\", data=df3)"
   ]
  },
  {
   "cell_type": "code",
   "execution_count": 74,
   "metadata": {},
   "outputs": [
    {
     "data": {
      "text/plain": [
       "<matplotlib.axes._subplots.AxesSubplot at 0x7fbf2f170dd0>"
      ]
     },
     "execution_count": 74,
     "metadata": {},
     "output_type": "execute_result"
    },
    {
     "data": {
      "image/png": "[encoded data removed]",
      "text/plain": [
       "<Figure size 720x504 with 1 Axes>"
      ]
     },
     "metadata": {
      "needs_background": "light"
     },
     "output_type": "display_data"
    }
   ],
   "source": [
    "#regression for price vs number of bedrooms\n",
    "plt.figure(figsize=(10,7))\n",
    "sb.regplot(x=\"Beds\", y=\"Price\", data=df3, color='g')\n",
    "\n",
    "#There is a positive linear relationship"
   ]
  },
  {
   "cell_type": "code",
   "execution_count": 75,
   "metadata": {},
   "outputs": [
    {
     "data": {
      "text/plain": [
       "<matplotlib.axes._subplots.AxesSubplot at 0x7fbf2d042350>"
      ]
     },
     "execution_count": 75,
     "metadata": {},
     "output_type": "execute_result"
    },
    {
     "data": {
      "image/png": "[encoded data removed]",
      "text/plain": [
       "<Figure size 1008x504 with 1 Axes>"
      ]
     },
     "metadata": {
      "needs_background": "light"
     },
     "output_type": "display_data"
    }
   ],
   "source": [
    "#regression for price vs number of bathrooms\n",
    "plt.figure(figsize=(14,7))\n",
    "sb.regplot(x=\"Bath\", y=\"Price\", data=df3, color='r')\n",
    "\n",
    "#There is a positive linear relationship"
   ]
  },
  {
   "cell_type": "code",
   "execution_count": null,
   "metadata": {},
   "outputs": [],
   "source": []
  },
  {
   "cell_type": "code",
   "execution_count": 76,
   "metadata": {},
   "outputs": [],
   "source": [
    "##get rid of outliers...use z-score"
   ]
  },
  {
   "cell_type": "code",
   "execution_count": 77,
   "metadata": {},
   "outputs": [],
   "source": [
    "#Keep \"features\" column? -most things in this column are already in a different attribute \n",
    "# column except for type of house (single family, condo)"
   ]
  },
  {
   "cell_type": "markdown",
   "metadata": {},
   "source": [
    "### Add Crime Data"
   ]
  },
  {
   "cell_type": "code",
   "execution_count": 3,
   "metadata": {},
   "outputs": [],
   "source": [
    "#Add crime data -2019\n",
    "#Housing data was scraped from FBI Uniform Crime Reporting Program in 2019 (Sep. 1 - Oct. 31)"
   ]
  },
  {
   "cell_type": "code",
   "execution_count": 55,
   "metadata": {},
   "outputs": [
    {
     "data": {
      "text/html": [
       "<div>\n",
       "<style scoped>\n",
       "    .dataframe tbody tr th:only-of-type {\n",
       "        vertical-align: middle;\n",
       "    }\n",
       "\n",
       "    .dataframe tbody tr th {\n",
       "        vertical-align: top;\n",
       "    }\n",
       "\n",
       "    .dataframe thead th {\n",
       "        text-align: right;\n",
       "    }\n",
       "</style>\n",
       "<table border=\"1\" class=\"dataframe\">\n",
       "  <thead>\n",
       "    <tr style=\"text-align: right;\">\n",
       "      <th></th>\n",
       "      <th>State</th>\n",
       "      <th>City</th>\n",
       "      <th>Population</th>\n",
       "      <th>Violent Crime</th>\n",
       "      <th>Property Crime</th>\n",
       "    </tr>\n",
       "  </thead>\n",
       "  <tbody>\n",
       "    <tr>\n",
       "      <th>0</th>\n",
       "      <td>AL</td>\n",
       "      <td>Hoover</td>\n",
       "      <td>85670</td>\n",
       "      <td>114.0</td>\n",
       "      <td>1922.0</td>\n",
       "    </tr>\n",
       "    <tr>\n",
       "      <th>1</th>\n",
       "      <td>AK</td>\n",
       "      <td>Anchorage</td>\n",
       "      <td>287731</td>\n",
       "      <td>3581.0</td>\n",
       "      <td>12261.0</td>\n",
       "    </tr>\n",
       "    <tr>\n",
       "      <th>2</th>\n",
       "      <td>AK</td>\n",
       "      <td>Bethel</td>\n",
       "      <td>6544</td>\n",
       "      <td>130.0</td>\n",
       "      <td>132.0</td>\n",
       "    </tr>\n",
       "    <tr>\n",
       "      <th>3</th>\n",
       "      <td>AK</td>\n",
       "      <td>Bristol Bay Borough</td>\n",
       "      <td>852</td>\n",
       "      <td>2.0</td>\n",
       "      <td>20.0</td>\n",
       "    </tr>\n",
       "    <tr>\n",
       "      <th>4</th>\n",
       "      <td>AK</td>\n",
       "      <td>Cordova</td>\n",
       "      <td>2150</td>\n",
       "      <td>0.0</td>\n",
       "      <td>7.0</td>\n",
       "    </tr>\n",
       "  </tbody>\n",
       "</table>\n",
       "</div>"
      ],
      "text/plain": [
       "  State                 City  Population  Violent Crime  Property Crime\n",
       "0    AL               Hoover       85670          114.0          1922.0\n",
       "1    AK            Anchorage      287731         3581.0         12261.0\n",
       "2    AK               Bethel        6544          130.0           132.0\n",
       "3    AK  Bristol Bay Borough         852            2.0            20.0\n",
       "4    AK              Cordova        2150            0.0             7.0"
      ]
     },
     "execution_count": 55,
     "metadata": {},
     "output_type": "execute_result"
    }
   ],
   "source": [
    "#insert crime 2019 data -numner of violent crimes and number of property crimes\n",
    "body = client_5a7f0d32e3f74da881228669190705da.get_object(Bucket='seniorproject-donotdelete-pr-6dm4jsyzpqluep',Key='2019_US_Crime_Data.csv')['Body']\n",
    "# add missing __iter__ method, so pandas accepts body as file-like object\n",
    "if not hasattr(body, \"__iter__\"): body.__iter__ = types.MethodType( __iter__, body )\n",
    "\n",
    "dfcrime = pd.read_csv(body)\n",
    "dfcrime.head()\n"
   ]
  },
  {
   "cell_type": "code",
   "execution_count": 56,
   "metadata": {},
   "outputs": [
    {
     "data": {
      "text/plain": [
       "(8104, 5)"
      ]
     },
     "execution_count": 56,
     "metadata": {},
     "output_type": "execute_result"
    }
   ],
   "source": [
    "#Shape of data\n",
    "dfcrime.shape\n",
    "#8,104 rows, 5 columns/attributes"
   ]
  },
  {
   "cell_type": "code",
   "execution_count": 57,
   "metadata": {},
   "outputs": [
    {
     "data": {
      "text/plain": [
       "State              object\n",
       "City               object\n",
       "Population          int64\n",
       "Violent Crime     float64\n",
       "Property Crime    float64\n",
       "dtype: object"
      ]
     },
     "execution_count": 57,
     "metadata": {},
     "output_type": "execute_result"
    }
   ],
   "source": [
    "#check data types\n",
    "dfcrime.dtypes"
   ]
  },
  {
   "cell_type": "code",
   "execution_count": 58,
   "metadata": {},
   "outputs": [
    {
     "data": {
      "text/plain": [
       "State              1\n",
       "City               0\n",
       "Population         0\n",
       "Violent Crime     21\n",
       "Property Crime    23\n",
       "dtype: int64"
      ]
     },
     "execution_count": 58,
     "metadata": {},
     "output_type": "execute_result"
    }
   ],
   "source": [
    "#check for missing values\n",
    "dfcrime.isnull().sum()"
   ]
  },
  {
   "cell_type": "code",
   "execution_count": 59,
   "metadata": {},
   "outputs": [
    {
     "name": "stdout",
     "output_type": "stream",
     "text": [
      "0                    Hoover\n",
      "1                 Anchorage\n",
      "2                    Bethel\n",
      "3       Bristol Bay Borough\n",
      "4                   Cordova\n",
      "               ...         \n",
      "8099               Sheridan\n",
      "8100            Thermopolis\n",
      "8101             Torrington\n",
      "8102              Wheatland\n",
      "8103                Worland\n",
      "Name: City, Length: 8104, dtype: object\n"
     ]
    }
   ],
   "source": [
    "# Print cities\n",
    "print(dfcrime['City'])"
   ]
  },
  {
   "cell_type": "code",
   "execution_count": 60,
   "metadata": {},
   "outputs": [
    {
     "name": "stdout",
     "output_type": "stream",
     "text": [
      "IL    536\n",
      "TX    534\n",
      "NJ    488\n",
      "CA    457\n",
      "MI    424\n",
      "NY    354\n",
      "OH    334\n",
      "WI    323\n",
      "FL    289\n",
      "MA    281\n",
      "OK    278\n",
      "PA    271\n",
      "MN    258\n",
      "MO    249\n",
      "TN    246\n",
      "KY    217\n",
      "AR    177\n",
      "NC    176\n",
      "NH    163\n",
      "WA    150\n",
      "VA    141\n",
      "SC    139\n",
      "KS    133\n",
      "CO    119\n",
      "ME    109\n",
      "IA     98\n",
      "CT     94\n",
      "OR     86\n",
      "LA     83\n",
      "GA     77\n",
      "MD     75\n",
      "UT     70\n",
      "AZ     66\n",
      "IN     63\n",
      "ID     57\n",
      "NM     56\n",
      "VT     52\n",
      "NE     51\n",
      "SD     51\n",
      "ND     45\n",
      "RI     38\n",
      "MT     35\n",
      "DE     33\n",
      "MS     33\n",
      "WY     32\n",
      "AK     27\n",
      "WV     21\n",
      "NV     12\n",
      "AL      1\n",
      "HI      1\n",
      "Name: State, dtype: int64\n"
     ]
    }
   ],
   "source": [
    "#how many cities in each state?\n",
    "print(dfcrime['State'].value_counts(ascending=False))"
   ]
  },
  {
   "cell_type": "code",
   "execution_count": 61,
   "metadata": {},
   "outputs": [],
   "source": [
    "#Merge housing price data and crime data\n",
    "\n",
    "#Merge on both city and state columns\n",
    "mergeddf = pd.merge(df3, dfcrime, on=['City', 'State'], how='inner')"
   ]
  },
  {
   "cell_type": "code",
   "execution_count": 86,
   "metadata": {},
   "outputs": [
    {
     "data": {
      "text/html": [
       "<div>\n",
       "<style scoped>\n",
       "    .dataframe tbody tr th:only-of-type {\n",
       "        vertical-align: middle;\n",
       "    }\n",
       "\n",
       "    .dataframe tbody tr th {\n",
       "        vertical-align: top;\n",
       "    }\n",
       "\n",
       "    .dataframe thead th {\n",
       "        text-align: right;\n",
       "    }\n",
       "</style>\n",
       "<table border=\"1\" class=\"dataframe\">\n",
       "  <thead>\n",
       "    <tr style=\"text-align: right;\">\n",
       "      <th></th>\n",
       "      <th>Uniq Id</th>\n",
       "      <th>Price</th>\n",
       "      <th>Sqr Ft</th>\n",
       "      <th>Longitude</th>\n",
       "      <th>Latitude</th>\n",
       "      <th>Beds</th>\n",
       "      <th>Bath</th>\n",
       "      <th>Year Built</th>\n",
       "      <th>Features</th>\n",
       "      <th>Last Sold Year</th>\n",
       "      <th>...</th>\n",
       "      <th>Last Tax Year</th>\n",
       "      <th>City</th>\n",
       "      <th>State</th>\n",
       "      <th>Zipcode</th>\n",
       "      <th>Days On Trulia</th>\n",
       "      <th>Lot Size(sqft)</th>\n",
       "      <th>Price per Sqft</th>\n",
       "      <th>Population</th>\n",
       "      <th>Violent Crime</th>\n",
       "      <th>Property Crime</th>\n",
       "    </tr>\n",
       "  </thead>\n",
       "  <tbody>\n",
       "    <tr>\n",
       "      <th>0</th>\n",
       "      <td>d6521bac40600f17287f0a5a8b3efc8d</td>\n",
       "      <td>895900.0</td>\n",
       "      <td>3447.0</td>\n",
       "      <td>-112.081985</td>\n",
       "      <td>33.560055</td>\n",
       "      <td>4.0</td>\n",
       "      <td>4.50</td>\n",
       "      <td>2019.0</td>\n",
       "      <td>Single Family Home | $260/sqft | Lot Size: 7,8...</td>\n",
       "      <td>NaN</td>\n",
       "      <td>...</td>\n",
       "      <td>2018.0</td>\n",
       "      <td>Phoenix</td>\n",
       "      <td>AZ</td>\n",
       "      <td>85021.0</td>\n",
       "      <td>110.0</td>\n",
       "      <td>7895.00000</td>\n",
       "      <td>259.91</td>\n",
       "      <td>1688722</td>\n",
       "      <td>11803.0</td>\n",
       "      <td>55974.0</td>\n",
       "    </tr>\n",
       "    <tr>\n",
       "      <th>1</th>\n",
       "      <td>c0b021f845c16f7ae098a5e105ac9217</td>\n",
       "      <td>300825.0</td>\n",
       "      <td>2537.0</td>\n",
       "      <td>-112.109130</td>\n",
       "      <td>33.772396</td>\n",
       "      <td>3.0</td>\n",
       "      <td>4.00</td>\n",
       "      <td>2005.0</td>\n",
       "      <td>Single Family Home | $119/sqft | Lot Size: 5,4...</td>\n",
       "      <td>2018.0</td>\n",
       "      <td>...</td>\n",
       "      <td>2018.0</td>\n",
       "      <td>Phoenix</td>\n",
       "      <td>AZ</td>\n",
       "      <td>85085.0</td>\n",
       "      <td>126.0</td>\n",
       "      <td>5400.00000</td>\n",
       "      <td>118.58</td>\n",
       "      <td>1688722</td>\n",
       "      <td>11803.0</td>\n",
       "      <td>55974.0</td>\n",
       "    </tr>\n",
       "    <tr>\n",
       "      <th>2</th>\n",
       "      <td>b49804a33efa41bba44312df9d2ec280</td>\n",
       "      <td>1050000.0</td>\n",
       "      <td>2443.0</td>\n",
       "      <td>-111.969080</td>\n",
       "      <td>33.492996</td>\n",
       "      <td>4.0</td>\n",
       "      <td>2.00</td>\n",
       "      <td>1962.0</td>\n",
       "      <td>Single Family Home | $430/sqft | Lot Size: 0.3...</td>\n",
       "      <td>2011.0</td>\n",
       "      <td>...</td>\n",
       "      <td>2018.0</td>\n",
       "      <td>Phoenix</td>\n",
       "      <td>AZ</td>\n",
       "      <td>85018.0</td>\n",
       "      <td>3.0</td>\n",
       "      <td>14810.40000</td>\n",
       "      <td>429.80</td>\n",
       "      <td>1688722</td>\n",
       "      <td>11803.0</td>\n",
       "      <td>55974.0</td>\n",
       "    </tr>\n",
       "    <tr>\n",
       "      <th>3</th>\n",
       "      <td>32b631b5d0834e3bf8983b889f1eb285</td>\n",
       "      <td>490990.0</td>\n",
       "      <td>2005.0</td>\n",
       "      <td>-112.018580</td>\n",
       "      <td>33.689830</td>\n",
       "      <td>2.0</td>\n",
       "      <td>2.50</td>\n",
       "      <td>NaN</td>\n",
       "      <td>Single Family Home | $245/sqft | 180+ Days on ...</td>\n",
       "      <td>NaN</td>\n",
       "      <td>...</td>\n",
       "      <td>NaN</td>\n",
       "      <td>Phoenix</td>\n",
       "      <td>AZ</td>\n",
       "      <td>85050.0</td>\n",
       "      <td>180.0</td>\n",
       "      <td>92933.22244</td>\n",
       "      <td>244.88</td>\n",
       "      <td>1688722</td>\n",
       "      <td>11803.0</td>\n",
       "      <td>55974.0</td>\n",
       "    </tr>\n",
       "    <tr>\n",
       "      <th>4</th>\n",
       "      <td>81d00428d77b64bf48e90472376403c5</td>\n",
       "      <td>190000.0</td>\n",
       "      <td>1732.0</td>\n",
       "      <td>-112.215470</td>\n",
       "      <td>33.484085</td>\n",
       "      <td>4.0</td>\n",
       "      <td>2.00</td>\n",
       "      <td>1983.0</td>\n",
       "      <td>Single Family Home | $110/sqft | Lot Size: 9,1...</td>\n",
       "      <td>2009.0</td>\n",
       "      <td>...</td>\n",
       "      <td>2018.0</td>\n",
       "      <td>Phoenix</td>\n",
       "      <td>AZ</td>\n",
       "      <td>85033.0</td>\n",
       "      <td>29.0</td>\n",
       "      <td>9165.00000</td>\n",
       "      <td>109.70</td>\n",
       "      <td>1688722</td>\n",
       "      <td>11803.0</td>\n",
       "      <td>55974.0</td>\n",
       "    </tr>\n",
       "    <tr>\n",
       "      <th>5</th>\n",
       "      <td>55ff0fa7116d26b0e04c642f9097b4c1</td>\n",
       "      <td>239999.0</td>\n",
       "      <td>2423.0</td>\n",
       "      <td>-112.216415</td>\n",
       "      <td>33.500114</td>\n",
       "      <td>4.0</td>\n",
       "      <td>2.00</td>\n",
       "      <td>1969.0</td>\n",
       "      <td>Single Family Home | $99/sqft | Lot Size: 6,74...</td>\n",
       "      <td>2017.0</td>\n",
       "      <td>...</td>\n",
       "      <td>2018.0</td>\n",
       "      <td>Phoenix</td>\n",
       "      <td>AZ</td>\n",
       "      <td>85033.0</td>\n",
       "      <td>65.0</td>\n",
       "      <td>6747.00000</td>\n",
       "      <td>99.05</td>\n",
       "      <td>1688722</td>\n",
       "      <td>11803.0</td>\n",
       "      <td>55974.0</td>\n",
       "    </tr>\n",
       "    <tr>\n",
       "      <th>6</th>\n",
       "      <td>fb7ea2f708c39123adf16fb4dcce79d7</td>\n",
       "      <td>256000.0</td>\n",
       "      <td>2712.0</td>\n",
       "      <td>-112.217896</td>\n",
       "      <td>33.410103</td>\n",
       "      <td>5.0</td>\n",
       "      <td>4.00</td>\n",
       "      <td>2007.0</td>\n",
       "      <td>Single Family Home | $94/sqft | Lot Size: 7,58...</td>\n",
       "      <td>2019.0</td>\n",
       "      <td>...</td>\n",
       "      <td>2018.0</td>\n",
       "      <td>Phoenix</td>\n",
       "      <td>AZ</td>\n",
       "      <td>85043.0</td>\n",
       "      <td>180.0</td>\n",
       "      <td>7584.00000</td>\n",
       "      <td>94.40</td>\n",
       "      <td>1688722</td>\n",
       "      <td>11803.0</td>\n",
       "      <td>55974.0</td>\n",
       "    </tr>\n",
       "    <tr>\n",
       "      <th>7</th>\n",
       "      <td>d28ef94ddd0b3d5e6798f3af6581dd9f</td>\n",
       "      <td>279900.0</td>\n",
       "      <td>1698.0</td>\n",
       "      <td>-112.082000</td>\n",
       "      <td>33.663956</td>\n",
       "      <td>4.0</td>\n",
       "      <td>2.00</td>\n",
       "      <td>1979.0</td>\n",
       "      <td>Single Family Home | $165/sqft | Lot Size: 7,2...</td>\n",
       "      <td>NaN</td>\n",
       "      <td>...</td>\n",
       "      <td>2018.0</td>\n",
       "      <td>Phoenix</td>\n",
       "      <td>AZ</td>\n",
       "      <td>85027.0</td>\n",
       "      <td>15.0</td>\n",
       "      <td>7278.00000</td>\n",
       "      <td>164.84</td>\n",
       "      <td>1688722</td>\n",
       "      <td>11803.0</td>\n",
       "      <td>55974.0</td>\n",
       "    </tr>\n",
       "    <tr>\n",
       "      <th>8</th>\n",
       "      <td>60d6c27df48b36af270ab1e3b5a800d0</td>\n",
       "      <td>160000.0</td>\n",
       "      <td>1260.0</td>\n",
       "      <td>-112.103920</td>\n",
       "      <td>33.507244</td>\n",
       "      <td>3.0</td>\n",
       "      <td>2.00</td>\n",
       "      <td>1970.0</td>\n",
       "      <td>Townhouse | $127/sqft | Lot Size: 2,622 sqft |...</td>\n",
       "      <td>2004.0</td>\n",
       "      <td>...</td>\n",
       "      <td>2018.0</td>\n",
       "      <td>Phoenix</td>\n",
       "      <td>AZ</td>\n",
       "      <td>85015.0</td>\n",
       "      <td>68.0</td>\n",
       "      <td>2622.00000</td>\n",
       "      <td>126.98</td>\n",
       "      <td>1688722</td>\n",
       "      <td>11803.0</td>\n",
       "      <td>55974.0</td>\n",
       "    </tr>\n",
       "    <tr>\n",
       "      <th>9</th>\n",
       "      <td>8c330e4f4778115f43f465daddaaa8f8</td>\n",
       "      <td>267900.0</td>\n",
       "      <td>1311.0</td>\n",
       "      <td>-112.080050</td>\n",
       "      <td>33.572117</td>\n",
       "      <td>3.0</td>\n",
       "      <td>1.50</td>\n",
       "      <td>1948.0</td>\n",
       "      <td>Single Family Home | $204/sqft | Lot Size: 6,3...</td>\n",
       "      <td>2018.0</td>\n",
       "      <td>...</td>\n",
       "      <td>2018.0</td>\n",
       "      <td>Phoenix</td>\n",
       "      <td>AZ</td>\n",
       "      <td>85021.0</td>\n",
       "      <td>3.0</td>\n",
       "      <td>6320.00000</td>\n",
       "      <td>204.35</td>\n",
       "      <td>1688722</td>\n",
       "      <td>11803.0</td>\n",
       "      <td>55974.0</td>\n",
       "    </tr>\n",
       "    <tr>\n",
       "      <th>10</th>\n",
       "      <td>6db15697fb7eff47edf366ff36fdbda2</td>\n",
       "      <td>460000.0</td>\n",
       "      <td>2431.0</td>\n",
       "      <td>-112.066270</td>\n",
       "      <td>33.847630</td>\n",
       "      <td>4.0</td>\n",
       "      <td>2.00</td>\n",
       "      <td>2003.0</td>\n",
       "      <td>Single Family Home | $189/sqft | Lot Size: 1.1...</td>\n",
       "      <td>NaN</td>\n",
       "      <td>...</td>\n",
       "      <td>2018.0</td>\n",
       "      <td>Phoenix</td>\n",
       "      <td>AZ</td>\n",
       "      <td>85086.0</td>\n",
       "      <td>2.0</td>\n",
       "      <td>51836.40000</td>\n",
       "      <td>189.22</td>\n",
       "      <td>1688722</td>\n",
       "      <td>11803.0</td>\n",
       "      <td>55974.0</td>\n",
       "    </tr>\n",
       "    <tr>\n",
       "      <th>11</th>\n",
       "      <td>9dfef3e5d70c188974da6932fefc2a56</td>\n",
       "      <td>184950.0</td>\n",
       "      <td>995.0</td>\n",
       "      <td>-111.964900</td>\n",
       "      <td>33.450546</td>\n",
       "      <td>2.0</td>\n",
       "      <td>2.00</td>\n",
       "      <td>1999.0</td>\n",
       "      <td>Condo | $186/sqft | Lot Size: 1,022 sqft | $19...</td>\n",
       "      <td>2010.0</td>\n",
       "      <td>...</td>\n",
       "      <td>2018.0</td>\n",
       "      <td>Phoenix</td>\n",
       "      <td>AZ</td>\n",
       "      <td>85008.0</td>\n",
       "      <td>180.0</td>\n",
       "      <td>1022.00000</td>\n",
       "      <td>185.88</td>\n",
       "      <td>1688722</td>\n",
       "      <td>11803.0</td>\n",
       "      <td>55974.0</td>\n",
       "    </tr>\n",
       "    <tr>\n",
       "      <th>12</th>\n",
       "      <td>0a6c9ee4824fe5b88635295152eed531</td>\n",
       "      <td>425000.0</td>\n",
       "      <td>2986.0</td>\n",
       "      <td>-112.126210</td>\n",
       "      <td>33.866734</td>\n",
       "      <td>3.0</td>\n",
       "      <td>2.50</td>\n",
       "      <td>1999.0</td>\n",
       "      <td>Single Family Home | $142/sqft | Lot Size: 9,7...</td>\n",
       "      <td>2000.0</td>\n",
       "      <td>...</td>\n",
       "      <td>2019.0</td>\n",
       "      <td>Phoenix</td>\n",
       "      <td>AZ</td>\n",
       "      <td>85086.0</td>\n",
       "      <td>121.0</td>\n",
       "      <td>9775.00000</td>\n",
       "      <td>142.33</td>\n",
       "      <td>1688722</td>\n",
       "      <td>11803.0</td>\n",
       "      <td>55974.0</td>\n",
       "    </tr>\n",
       "    <tr>\n",
       "      <th>13</th>\n",
       "      <td>f19e2cbe2630146591409a2907fc61df</td>\n",
       "      <td>379000.0</td>\n",
       "      <td>2039.0</td>\n",
       "      <td>-112.053566</td>\n",
       "      <td>33.295530</td>\n",
       "      <td>3.0</td>\n",
       "      <td>3.00</td>\n",
       "      <td>1990.0</td>\n",
       "      <td>Single Family Home | $186/sqft | Lot Size: 6,0...</td>\n",
       "      <td>2019.0</td>\n",
       "      <td>...</td>\n",
       "      <td>2018.0</td>\n",
       "      <td>Phoenix</td>\n",
       "      <td>AZ</td>\n",
       "      <td>85048.0</td>\n",
       "      <td>2.0</td>\n",
       "      <td>6011.00000</td>\n",
       "      <td>185.88</td>\n",
       "      <td>1688722</td>\n",
       "      <td>11803.0</td>\n",
       "      <td>55974.0</td>\n",
       "    </tr>\n",
       "    <tr>\n",
       "      <th>14</th>\n",
       "      <td>3dd6c889b717c471e2d97dcfd329c645</td>\n",
       "      <td>995000.0</td>\n",
       "      <td>3040.0</td>\n",
       "      <td>-111.996330</td>\n",
       "      <td>33.491590</td>\n",
       "      <td>4.0</td>\n",
       "      <td>4.00</td>\n",
       "      <td>1954.0</td>\n",
       "      <td>Single Family Home | $327/sqft | Lot Size: 8,3...</td>\n",
       "      <td>2018.0</td>\n",
       "      <td>...</td>\n",
       "      <td>2018.0</td>\n",
       "      <td>Phoenix</td>\n",
       "      <td>AZ</td>\n",
       "      <td>85018.0</td>\n",
       "      <td>38.0</td>\n",
       "      <td>8333.00000</td>\n",
       "      <td>327.30</td>\n",
       "      <td>1688722</td>\n",
       "      <td>11803.0</td>\n",
       "      <td>55974.0</td>\n",
       "    </tr>\n",
       "    <tr>\n",
       "      <th>15</th>\n",
       "      <td>0dc8e27547ed27540d3ba08583194dd1</td>\n",
       "      <td>200000.0</td>\n",
       "      <td>1440.0</td>\n",
       "      <td>-112.093300</td>\n",
       "      <td>33.438380</td>\n",
       "      <td>3.0</td>\n",
       "      <td>2.00</td>\n",
       "      <td>1963.0</td>\n",
       "      <td>Multi Family | $139/sqft | Lot Size: 4,175 sqf...</td>\n",
       "      <td>2016.0</td>\n",
       "      <td>...</td>\n",
       "      <td>2019.0</td>\n",
       "      <td>Phoenix</td>\n",
       "      <td>AZ</td>\n",
       "      <td>85007.0</td>\n",
       "      <td>5.0</td>\n",
       "      <td>4175.00000</td>\n",
       "      <td>138.89</td>\n",
       "      <td>1688722</td>\n",
       "      <td>11803.0</td>\n",
       "      <td>55974.0</td>\n",
       "    </tr>\n",
       "    <tr>\n",
       "      <th>16</th>\n",
       "      <td>c9433ccba3af05f2cb415bcca49d27cc</td>\n",
       "      <td>290000.0</td>\n",
       "      <td>1861.0</td>\n",
       "      <td>-112.120660</td>\n",
       "      <td>33.635350</td>\n",
       "      <td>4.0</td>\n",
       "      <td>1.75</td>\n",
       "      <td>1979.0</td>\n",
       "      <td>Single Family Home | $156/sqft | Lot Size: 9,9...</td>\n",
       "      <td>2013.0</td>\n",
       "      <td>...</td>\n",
       "      <td>2019.0</td>\n",
       "      <td>Phoenix</td>\n",
       "      <td>AZ</td>\n",
       "      <td>85053.0</td>\n",
       "      <td>2.0</td>\n",
       "      <td>9908.00000</td>\n",
       "      <td>155.83</td>\n",
       "      <td>1688722</td>\n",
       "      <td>11803.0</td>\n",
       "      <td>55974.0</td>\n",
       "    </tr>\n",
       "    <tr>\n",
       "      <th>17</th>\n",
       "      <td>5eeaefaf1d196d2f75e239fb43e495a8</td>\n",
       "      <td>309000.0</td>\n",
       "      <td>1900.0</td>\n",
       "      <td>-112.050550</td>\n",
       "      <td>33.372837</td>\n",
       "      <td>3.0</td>\n",
       "      <td>2.00</td>\n",
       "      <td>2005.0</td>\n",
       "      <td>Single Family Home | $163/sqft | Lot Size: 9,1...</td>\n",
       "      <td>2019.0</td>\n",
       "      <td>...</td>\n",
       "      <td>2018.0</td>\n",
       "      <td>Phoenix</td>\n",
       "      <td>AZ</td>\n",
       "      <td>85042.0</td>\n",
       "      <td>135.0</td>\n",
       "      <td>9167.00000</td>\n",
       "      <td>162.63</td>\n",
       "      <td>1688722</td>\n",
       "      <td>11803.0</td>\n",
       "      <td>55974.0</td>\n",
       "    </tr>\n",
       "    <tr>\n",
       "      <th>18</th>\n",
       "      <td>19bdeb3cddbe26a061762cf28c542b4c</td>\n",
       "      <td>95000.0</td>\n",
       "      <td>2251.0</td>\n",
       "      <td>-112.016594</td>\n",
       "      <td>33.663315</td>\n",
       "      <td>2.0</td>\n",
       "      <td>2.00</td>\n",
       "      <td>1983.0</td>\n",
       "      <td>Mobile Manufactured | $42/sqft | Lot Size: 10....</td>\n",
       "      <td>NaN</td>\n",
       "      <td>...</td>\n",
       "      <td>NaN</td>\n",
       "      <td>Phoenix</td>\n",
       "      <td>AZ</td>\n",
       "      <td>85050.0</td>\n",
       "      <td>68.0</td>\n",
       "      <td>462171.60000</td>\n",
       "      <td>42.20</td>\n",
       "      <td>1688722</td>\n",
       "      <td>11803.0</td>\n",
       "      <td>55974.0</td>\n",
       "    </tr>\n",
       "    <tr>\n",
       "      <th>19</th>\n",
       "      <td>3c4bcf932d4d40a63e3e0a34efa75a5e</td>\n",
       "      <td>499900.0</td>\n",
       "      <td>3536.0</td>\n",
       "      <td>-112.114890</td>\n",
       "      <td>33.768130</td>\n",
       "      <td>5.0</td>\n",
       "      <td>3.50</td>\n",
       "      <td>2014.0</td>\n",
       "      <td>Single Family Home | $141/sqft | Lot Size: 7,6...</td>\n",
       "      <td>2014.0</td>\n",
       "      <td>...</td>\n",
       "      <td>2018.0</td>\n",
       "      <td>Phoenix</td>\n",
       "      <td>AZ</td>\n",
       "      <td>85085.0</td>\n",
       "      <td>91.0</td>\n",
       "      <td>7646.00000</td>\n",
       "      <td>141.37</td>\n",
       "      <td>1688722</td>\n",
       "      <td>11803.0</td>\n",
       "      <td>55974.0</td>\n",
       "    </tr>\n",
       "  </tbody>\n",
       "</table>\n",
       "<p>20 rows × 22 columns</p>\n",
       "</div>"
      ],
      "text/plain": [
       "                             Uniq Id      Price  Sqr Ft   Longitude  \\\n",
       "0   d6521bac40600f17287f0a5a8b3efc8d   895900.0  3447.0 -112.081985   \n",
       "1   c0b021f845c16f7ae098a5e105ac9217   300825.0  2537.0 -112.109130   \n",
       "2   b49804a33efa41bba44312df9d2ec280  1050000.0  2443.0 -111.969080   \n",
       "3   32b631b5d0834e3bf8983b889f1eb285   490990.0  2005.0 -112.018580   \n",
       "4   81d00428d77b64bf48e90472376403c5   190000.0  1732.0 -112.215470   \n",
       "5   55ff0fa7116d26b0e04c642f9097b4c1   239999.0  2423.0 -112.216415   \n",
       "6   fb7ea2f708c39123adf16fb4dcce79d7   256000.0  2712.0 -112.217896   \n",
       "7   d28ef94ddd0b3d5e6798f3af6581dd9f   279900.0  1698.0 -112.082000   \n",
       "8   60d6c27df48b36af270ab1e3b5a800d0   160000.0  1260.0 -112.103920   \n",
       "9   8c330e4f4778115f43f465daddaaa8f8   267900.0  1311.0 -112.080050   \n",
       "10  6db15697fb7eff47edf366ff36fdbda2   460000.0  2431.0 -112.066270   \n",
       "11  9dfef3e5d70c188974da6932fefc2a56   184950.0   995.0 -111.964900   \n",
       "12  0a6c9ee4824fe5b88635295152eed531   425000.0  2986.0 -112.126210   \n",
       "13  f19e2cbe2630146591409a2907fc61df   379000.0  2039.0 -112.053566   \n",
       "14  3dd6c889b717c471e2d97dcfd329c645   995000.0  3040.0 -111.996330   \n",
       "15  0dc8e27547ed27540d3ba08583194dd1   200000.0  1440.0 -112.093300   \n",
       "16  c9433ccba3af05f2cb415bcca49d27cc   290000.0  1861.0 -112.120660   \n",
       "17  5eeaefaf1d196d2f75e239fb43e495a8   309000.0  1900.0 -112.050550   \n",
       "18  19bdeb3cddbe26a061762cf28c542b4c    95000.0  2251.0 -112.016594   \n",
       "19  3c4bcf932d4d40a63e3e0a34efa75a5e   499900.0  3536.0 -112.114890   \n",
       "\n",
       "     Latitude  Beds  Bath  Year Built  \\\n",
       "0   33.560055   4.0  4.50      2019.0   \n",
       "1   33.772396   3.0  4.00      2005.0   \n",
       "2   33.492996   4.0  2.00      1962.0   \n",
       "3   33.689830   2.0  2.50         NaN   \n",
       "4   33.484085   4.0  2.00      1983.0   \n",
       "5   33.500114   4.0  2.00      1969.0   \n",
       "6   33.410103   5.0  4.00      2007.0   \n",
       "7   33.663956   4.0  2.00      1979.0   \n",
       "8   33.507244   3.0  2.00      1970.0   \n",
       "9   33.572117   3.0  1.50      1948.0   \n",
       "10  33.847630   4.0  2.00      2003.0   \n",
       "11  33.450546   2.0  2.00      1999.0   \n",
       "12  33.866734   3.0  2.50      1999.0   \n",
       "13  33.295530   3.0  3.00      1990.0   \n",
       "14  33.491590   4.0  4.00      1954.0   \n",
       "15  33.438380   3.0  2.00      1963.0   \n",
       "16  33.635350   4.0  1.75      1979.0   \n",
       "17  33.372837   3.0  2.00      2005.0   \n",
       "18  33.663315   2.0  2.00      1983.0   \n",
       "19  33.768130   5.0  3.50      2014.0   \n",
       "\n",
       "                                             Features  Last Sold Year  ...  \\\n",
       "0   Single Family Home | $260/sqft | Lot Size: 7,8...             NaN  ...   \n",
       "1   Single Family Home | $119/sqft | Lot Size: 5,4...          2018.0  ...   \n",
       "2   Single Family Home | $430/sqft | Lot Size: 0.3...          2011.0  ...   \n",
       "3   Single Family Home | $245/sqft | 180+ Days on ...             NaN  ...   \n",
       "4   Single Family Home | $110/sqft | Lot Size: 9,1...          2009.0  ...   \n",
       "5   Single Family Home | $99/sqft | Lot Size: 6,74...          2017.0  ...   \n",
       "6   Single Family Home | $94/sqft | Lot Size: 7,58...          2019.0  ...   \n",
       "7   Single Family Home | $165/sqft | Lot Size: 7,2...             NaN  ...   \n",
       "8   Townhouse | $127/sqft | Lot Size: 2,622 sqft |...          2004.0  ...   \n",
       "9   Single Family Home | $204/sqft | Lot Size: 6,3...          2018.0  ...   \n",
       "10  Single Family Home | $189/sqft | Lot Size: 1.1...             NaN  ...   \n",
       "11  Condo | $186/sqft | Lot Size: 1,022 sqft | $19...          2010.0  ...   \n",
       "12  Single Family Home | $142/sqft | Lot Size: 9,7...          2000.0  ...   \n",
       "13  Single Family Home | $186/sqft | Lot Size: 6,0...          2019.0  ...   \n",
       "14  Single Family Home | $327/sqft | Lot Size: 8,3...          2018.0  ...   \n",
       "15  Multi Family | $139/sqft | Lot Size: 4,175 sqf...          2016.0  ...   \n",
       "16  Single Family Home | $156/sqft | Lot Size: 9,9...          2013.0  ...   \n",
       "17  Single Family Home | $163/sqft | Lot Size: 9,1...          2019.0  ...   \n",
       "18  Mobile Manufactured | $42/sqft | Lot Size: 10....             NaN  ...   \n",
       "19  Single Family Home | $141/sqft | Lot Size: 7,6...          2014.0  ...   \n",
       "\n",
       "    Last Tax Year     City  State  Zipcode Days On Trulia  Lot Size(sqft)  \\\n",
       "0          2018.0  Phoenix     AZ  85021.0          110.0      7895.00000   \n",
       "1          2018.0  Phoenix     AZ  85085.0          126.0      5400.00000   \n",
       "2          2018.0  Phoenix     AZ  85018.0            3.0     14810.40000   \n",
       "3             NaN  Phoenix     AZ  85050.0          180.0     92933.22244   \n",
       "4          2018.0  Phoenix     AZ  85033.0           29.0      9165.00000   \n",
       "5          2018.0  Phoenix     AZ  85033.0           65.0      6747.00000   \n",
       "6          2018.0  Phoenix     AZ  85043.0          180.0      7584.00000   \n",
       "7          2018.0  Phoenix     AZ  85027.0           15.0      7278.00000   \n",
       "8          2018.0  Phoenix     AZ  85015.0           68.0      2622.00000   \n",
       "9          2018.0  Phoenix     AZ  85021.0            3.0      6320.00000   \n",
       "10         2018.0  Phoenix     AZ  85086.0            2.0     51836.40000   \n",
       "11         2018.0  Phoenix     AZ  85008.0          180.0      1022.00000   \n",
       "12         2019.0  Phoenix     AZ  85086.0          121.0      9775.00000   \n",
       "13         2018.0  Phoenix     AZ  85048.0            2.0      6011.00000   \n",
       "14         2018.0  Phoenix     AZ  85018.0           38.0      8333.00000   \n",
       "15         2019.0  Phoenix     AZ  85007.0            5.0      4175.00000   \n",
       "16         2019.0  Phoenix     AZ  85053.0            2.0      9908.00000   \n",
       "17         2018.0  Phoenix     AZ  85042.0          135.0      9167.00000   \n",
       "18            NaN  Phoenix     AZ  85050.0           68.0    462171.60000   \n",
       "19         2018.0  Phoenix     AZ  85085.0           91.0      7646.00000   \n",
       "\n",
       "    Price per Sqft  Population  Violent Crime  Property Crime  \n",
       "0           259.91     1688722        11803.0         55974.0  \n",
       "1           118.58     1688722        11803.0         55974.0  \n",
       "2           429.80     1688722        11803.0         55974.0  \n",
       "3           244.88     1688722        11803.0         55974.0  \n",
       "4           109.70     1688722        11803.0         55974.0  \n",
       "5            99.05     1688722        11803.0         55974.0  \n",
       "6            94.40     1688722        11803.0         55974.0  \n",
       "7           164.84     1688722        11803.0         55974.0  \n",
       "8           126.98     1688722        11803.0         55974.0  \n",
       "9           204.35     1688722        11803.0         55974.0  \n",
       "10          189.22     1688722        11803.0         55974.0  \n",
       "11          185.88     1688722        11803.0         55974.0  \n",
       "12          142.33     1688722        11803.0         55974.0  \n",
       "13          185.88     1688722        11803.0         55974.0  \n",
       "14          327.30     1688722        11803.0         55974.0  \n",
       "15          138.89     1688722        11803.0         55974.0  \n",
       "16          155.83     1688722        11803.0         55974.0  \n",
       "17          162.63     1688722        11803.0         55974.0  \n",
       "18           42.20     1688722        11803.0         55974.0  \n",
       "19          141.37     1688722        11803.0         55974.0  \n",
       "\n",
       "[20 rows x 22 columns]"
      ]
     },
     "execution_count": 86,
     "metadata": {},
     "output_type": "execute_result"
    }
   ],
   "source": [
    "# Check new dataframe head\n",
    "mergeddf.head(20)"
   ]
  },
  {
   "cell_type": "code",
   "execution_count": 62,
   "metadata": {},
   "outputs": [
    {
     "name": "stdout",
     "output_type": "stream",
     "text": [
      "(30003, 19)\n",
      "(22427, 22)\n"
     ]
    }
   ],
   "source": [
    "#Shape of data before and after mergining the data\n",
    "print(df3.shape)\n",
    "print(mergeddf.shape)\n",
    "#lost some rows after merging becuase not all the cities in the housing data were in the crime data"
   ]
  },
  {
   "cell_type": "code",
   "execution_count": 63,
   "metadata": {},
   "outputs": [
    {
     "data": {
      "text/html": [
       "<div>\n",
       "<style scoped>\n",
       "    .dataframe tbody tr th:only-of-type {\n",
       "        vertical-align: middle;\n",
       "    }\n",
       "\n",
       "    .dataframe tbody tr th {\n",
       "        vertical-align: top;\n",
       "    }\n",
       "\n",
       "    .dataframe thead th {\n",
       "        text-align: right;\n",
       "    }\n",
       "</style>\n",
       "<table border=\"1\" class=\"dataframe\">\n",
       "  <thead>\n",
       "    <tr style=\"text-align: right;\">\n",
       "      <th></th>\n",
       "      <th>Uniq Id</th>\n",
       "      <th>Price</th>\n",
       "      <th>Sqr Ft</th>\n",
       "      <th>Longitude</th>\n",
       "      <th>Latitude</th>\n",
       "      <th>Beds</th>\n",
       "      <th>Bath</th>\n",
       "      <th>Year Built</th>\n",
       "      <th>Features</th>\n",
       "      <th>Last Sold Year</th>\n",
       "      <th>...</th>\n",
       "      <th>State</th>\n",
       "      <th>Zipcode</th>\n",
       "      <th>Days On Trulia</th>\n",
       "      <th>Lot Size(sqft)</th>\n",
       "      <th>Price per Sqft</th>\n",
       "      <th>Population</th>\n",
       "      <th>Violent Crime</th>\n",
       "      <th>Property Crime</th>\n",
       "      <th>Violent Crime Rate</th>\n",
       "      <th>Property Crime Rate</th>\n",
       "    </tr>\n",
       "  </thead>\n",
       "  <tbody>\n",
       "    <tr>\n",
       "      <th>0</th>\n",
       "      <td>d6521bac40600f17287f0a5a8b3efc8d</td>\n",
       "      <td>895900.0</td>\n",
       "      <td>3447.0</td>\n",
       "      <td>-112.081985</td>\n",
       "      <td>33.560055</td>\n",
       "      <td>4.0</td>\n",
       "      <td>4.5</td>\n",
       "      <td>2019.0</td>\n",
       "      <td>Single Family Home | $260/sqft | Lot Size: 7,8...</td>\n",
       "      <td>NaN</td>\n",
       "      <td>...</td>\n",
       "      <td>AZ</td>\n",
       "      <td>85021.0</td>\n",
       "      <td>110.0</td>\n",
       "      <td>7895.00000</td>\n",
       "      <td>259.91</td>\n",
       "      <td>1688722</td>\n",
       "      <td>11803.0</td>\n",
       "      <td>55974.0</td>\n",
       "      <td>0.006989</td>\n",
       "      <td>0.033146</td>\n",
       "    </tr>\n",
       "    <tr>\n",
       "      <th>1</th>\n",
       "      <td>c0b021f845c16f7ae098a5e105ac9217</td>\n",
       "      <td>300825.0</td>\n",
       "      <td>2537.0</td>\n",
       "      <td>-112.109130</td>\n",
       "      <td>33.772396</td>\n",
       "      <td>3.0</td>\n",
       "      <td>4.0</td>\n",
       "      <td>2005.0</td>\n",
       "      <td>Single Family Home | $119/sqft | Lot Size: 5,4...</td>\n",
       "      <td>2018.0</td>\n",
       "      <td>...</td>\n",
       "      <td>AZ</td>\n",
       "      <td>85085.0</td>\n",
       "      <td>126.0</td>\n",
       "      <td>5400.00000</td>\n",
       "      <td>118.58</td>\n",
       "      <td>1688722</td>\n",
       "      <td>11803.0</td>\n",
       "      <td>55974.0</td>\n",
       "      <td>0.006989</td>\n",
       "      <td>0.033146</td>\n",
       "    </tr>\n",
       "    <tr>\n",
       "      <th>2</th>\n",
       "      <td>b49804a33efa41bba44312df9d2ec280</td>\n",
       "      <td>1050000.0</td>\n",
       "      <td>2443.0</td>\n",
       "      <td>-111.969080</td>\n",
       "      <td>33.492996</td>\n",
       "      <td>4.0</td>\n",
       "      <td>2.0</td>\n",
       "      <td>1962.0</td>\n",
       "      <td>Single Family Home | $430/sqft | Lot Size: 0.3...</td>\n",
       "      <td>2011.0</td>\n",
       "      <td>...</td>\n",
       "      <td>AZ</td>\n",
       "      <td>85018.0</td>\n",
       "      <td>3.0</td>\n",
       "      <td>14810.40000</td>\n",
       "      <td>429.80</td>\n",
       "      <td>1688722</td>\n",
       "      <td>11803.0</td>\n",
       "      <td>55974.0</td>\n",
       "      <td>0.006989</td>\n",
       "      <td>0.033146</td>\n",
       "    </tr>\n",
       "    <tr>\n",
       "      <th>3</th>\n",
       "      <td>32b631b5d0834e3bf8983b889f1eb285</td>\n",
       "      <td>490990.0</td>\n",
       "      <td>2005.0</td>\n",
       "      <td>-112.018580</td>\n",
       "      <td>33.689830</td>\n",
       "      <td>2.0</td>\n",
       "      <td>2.5</td>\n",
       "      <td>NaN</td>\n",
       "      <td>Single Family Home | $245/sqft | 180+ Days on ...</td>\n",
       "      <td>NaN</td>\n",
       "      <td>...</td>\n",
       "      <td>AZ</td>\n",
       "      <td>85050.0</td>\n",
       "      <td>180.0</td>\n",
       "      <td>92933.22244</td>\n",
       "      <td>244.88</td>\n",
       "      <td>1688722</td>\n",
       "      <td>11803.0</td>\n",
       "      <td>55974.0</td>\n",
       "      <td>0.006989</td>\n",
       "      <td>0.033146</td>\n",
       "    </tr>\n",
       "    <tr>\n",
       "      <th>4</th>\n",
       "      <td>81d00428d77b64bf48e90472376403c5</td>\n",
       "      <td>190000.0</td>\n",
       "      <td>1732.0</td>\n",
       "      <td>-112.215470</td>\n",
       "      <td>33.484085</td>\n",
       "      <td>4.0</td>\n",
       "      <td>2.0</td>\n",
       "      <td>1983.0</td>\n",
       "      <td>Single Family Home | $110/sqft | Lot Size: 9,1...</td>\n",
       "      <td>2009.0</td>\n",
       "      <td>...</td>\n",
       "      <td>AZ</td>\n",
       "      <td>85033.0</td>\n",
       "      <td>29.0</td>\n",
       "      <td>9165.00000</td>\n",
       "      <td>109.70</td>\n",
       "      <td>1688722</td>\n",
       "      <td>11803.0</td>\n",
       "      <td>55974.0</td>\n",
       "      <td>0.006989</td>\n",
       "      <td>0.033146</td>\n",
       "    </tr>\n",
       "    <tr>\n",
       "      <th>...</th>\n",
       "      <td>...</td>\n",
       "      <td>...</td>\n",
       "      <td>...</td>\n",
       "      <td>...</td>\n",
       "      <td>...</td>\n",
       "      <td>...</td>\n",
       "      <td>...</td>\n",
       "      <td>...</td>\n",
       "      <td>...</td>\n",
       "      <td>...</td>\n",
       "      <td>...</td>\n",
       "      <td>...</td>\n",
       "      <td>...</td>\n",
       "      <td>...</td>\n",
       "      <td>...</td>\n",
       "      <td>...</td>\n",
       "      <td>...</td>\n",
       "      <td>...</td>\n",
       "      <td>...</td>\n",
       "      <td>...</td>\n",
       "      <td>...</td>\n",
       "    </tr>\n",
       "    <tr>\n",
       "      <th>22422</th>\n",
       "      <td>145fbc9b268c57ceb40cfbc6ed073f56</td>\n",
       "      <td>405959.0</td>\n",
       "      <td>2853.0</td>\n",
       "      <td>-96.105660</td>\n",
       "      <td>41.156590</td>\n",
       "      <td>4.0</td>\n",
       "      <td>3.0</td>\n",
       "      <td>NaN</td>\n",
       "      <td>Single Family Home | $142/sqft | Lot Size: 0.2...</td>\n",
       "      <td>NaN</td>\n",
       "      <td>...</td>\n",
       "      <td>NE</td>\n",
       "      <td>68046.0</td>\n",
       "      <td>3.0</td>\n",
       "      <td>10890.00000</td>\n",
       "      <td>142.29</td>\n",
       "      <td>20580</td>\n",
       "      <td>40.0</td>\n",
       "      <td>433.0</td>\n",
       "      <td>0.001944</td>\n",
       "      <td>0.021040</td>\n",
       "    </tr>\n",
       "    <tr>\n",
       "      <th>22423</th>\n",
       "      <td>27783db682ab9488ddde30714ff1f293</td>\n",
       "      <td>439900.0</td>\n",
       "      <td>2455.0</td>\n",
       "      <td>-80.270070</td>\n",
       "      <td>25.812885</td>\n",
       "      <td>3.0</td>\n",
       "      <td>3.0</td>\n",
       "      <td>1955.0</td>\n",
       "      <td>Single Family Home | $179/sqft | Lot Size: 10,...</td>\n",
       "      <td>NaN</td>\n",
       "      <td>...</td>\n",
       "      <td>FL</td>\n",
       "      <td>33166.0</td>\n",
       "      <td>128.0</td>\n",
       "      <td>10125.00000</td>\n",
       "      <td>179.19</td>\n",
       "      <td>14374</td>\n",
       "      <td>36.0</td>\n",
       "      <td>381.0</td>\n",
       "      <td>0.002505</td>\n",
       "      <td>0.026506</td>\n",
       "    </tr>\n",
       "    <tr>\n",
       "      <th>22424</th>\n",
       "      <td>1d19ef5df394811a7e14c370f7d2111c</td>\n",
       "      <td>82650.0</td>\n",
       "      <td>1100.0</td>\n",
       "      <td>-91.128570</td>\n",
       "      <td>30.558620</td>\n",
       "      <td>3.0</td>\n",
       "      <td>2.0</td>\n",
       "      <td>NaN</td>\n",
       "      <td>Single Family Home | $75/sqft | Lot Size: 1 ac...</td>\n",
       "      <td>NaN</td>\n",
       "      <td>...</td>\n",
       "      <td>LA</td>\n",
       "      <td>70714.0</td>\n",
       "      <td>136.0</td>\n",
       "      <td>1.00000</td>\n",
       "      <td>75.14</td>\n",
       "      <td>13240</td>\n",
       "      <td>51.0</td>\n",
       "      <td>326.0</td>\n",
       "      <td>0.003852</td>\n",
       "      <td>0.024622</td>\n",
       "    </tr>\n",
       "    <tr>\n",
       "      <th>22425</th>\n",
       "      <td>25c7af665574de143d2722fd66b4067e</td>\n",
       "      <td>149500.0</td>\n",
       "      <td>1056.0</td>\n",
       "      <td>-83.066795</td>\n",
       "      <td>40.119820</td>\n",
       "      <td>2.0</td>\n",
       "      <td>2.0</td>\n",
       "      <td>1981.0</td>\n",
       "      <td>Condo | $142/sqft | $216/monthly HOA | Built i...</td>\n",
       "      <td>2007.0</td>\n",
       "      <td>...</td>\n",
       "      <td>OH</td>\n",
       "      <td>43065.0</td>\n",
       "      <td>68.0</td>\n",
       "      <td>92933.22244</td>\n",
       "      <td>141.57</td>\n",
       "      <td>13545</td>\n",
       "      <td>2.0</td>\n",
       "      <td>84.0</td>\n",
       "      <td>0.000148</td>\n",
       "      <td>0.006202</td>\n",
       "    </tr>\n",
       "    <tr>\n",
       "      <th>22426</th>\n",
       "      <td>7c41852728c9c20b2969901d96803b0c</td>\n",
       "      <td>299000.0</td>\n",
       "      <td>2392.0</td>\n",
       "      <td>-97.237465</td>\n",
       "      <td>35.605045</td>\n",
       "      <td>4.0</td>\n",
       "      <td>3.0</td>\n",
       "      <td>2010.0</td>\n",
       "      <td>Single Family Home | $125/sqft | Lot Size: 8.7...</td>\n",
       "      <td>2009.0</td>\n",
       "      <td>...</td>\n",
       "      <td>OK</td>\n",
       "      <td>73054.0</td>\n",
       "      <td>2.0</td>\n",
       "      <td>382892.40000</td>\n",
       "      <td>125.00</td>\n",
       "      <td>1834</td>\n",
       "      <td>4.0</td>\n",
       "      <td>10.0</td>\n",
       "      <td>0.002181</td>\n",
       "      <td>0.005453</td>\n",
       "    </tr>\n",
       "  </tbody>\n",
       "</table>\n",
       "<p>22427 rows × 24 columns</p>\n",
       "</div>"
      ],
      "text/plain": [
       "                                Uniq Id      Price  Sqr Ft   Longitude  \\\n",
       "0      d6521bac40600f17287f0a5a8b3efc8d   895900.0  3447.0 -112.081985   \n",
       "1      c0b021f845c16f7ae098a5e105ac9217   300825.0  2537.0 -112.109130   \n",
       "2      b49804a33efa41bba44312df9d2ec280  1050000.0  2443.0 -111.969080   \n",
       "3      32b631b5d0834e3bf8983b889f1eb285   490990.0  2005.0 -112.018580   \n",
       "4      81d00428d77b64bf48e90472376403c5   190000.0  1732.0 -112.215470   \n",
       "...                                 ...        ...     ...         ...   \n",
       "22422  145fbc9b268c57ceb40cfbc6ed073f56   405959.0  2853.0  -96.105660   \n",
       "22423  27783db682ab9488ddde30714ff1f293   439900.0  2455.0  -80.270070   \n",
       "22424  1d19ef5df394811a7e14c370f7d2111c    82650.0  1100.0  -91.128570   \n",
       "22425  25c7af665574de143d2722fd66b4067e   149500.0  1056.0  -83.066795   \n",
       "22426  7c41852728c9c20b2969901d96803b0c   299000.0  2392.0  -97.237465   \n",
       "\n",
       "        Latitude  Beds  Bath  Year Built  \\\n",
       "0      33.560055   4.0   4.5      2019.0   \n",
       "1      33.772396   3.0   4.0      2005.0   \n",
       "2      33.492996   4.0   2.0      1962.0   \n",
       "3      33.689830   2.0   2.5         NaN   \n",
       "4      33.484085   4.0   2.0      1983.0   \n",
       "...          ...   ...   ...         ...   \n",
       "22422  41.156590   4.0   3.0         NaN   \n",
       "22423  25.812885   3.0   3.0      1955.0   \n",
       "22424  30.558620   3.0   2.0         NaN   \n",
       "22425  40.119820   2.0   2.0      1981.0   \n",
       "22426  35.605045   4.0   3.0      2010.0   \n",
       "\n",
       "                                                Features  Last Sold Year  ...  \\\n",
       "0      Single Family Home | $260/sqft | Lot Size: 7,8...             NaN  ...   \n",
       "1      Single Family Home | $119/sqft | Lot Size: 5,4...          2018.0  ...   \n",
       "2      Single Family Home | $430/sqft | Lot Size: 0.3...          2011.0  ...   \n",
       "3      Single Family Home | $245/sqft | 180+ Days on ...             NaN  ...   \n",
       "4      Single Family Home | $110/sqft | Lot Size: 9,1...          2009.0  ...   \n",
       "...                                                  ...             ...  ...   \n",
       "22422  Single Family Home | $142/sqft | Lot Size: 0.2...             NaN  ...   \n",
       "22423  Single Family Home | $179/sqft | Lot Size: 10,...             NaN  ...   \n",
       "22424  Single Family Home | $75/sqft | Lot Size: 1 ac...             NaN  ...   \n",
       "22425  Condo | $142/sqft | $216/monthly HOA | Built i...          2007.0  ...   \n",
       "22426  Single Family Home | $125/sqft | Lot Size: 8.7...          2009.0  ...   \n",
       "\n",
       "       State  Zipcode  Days On Trulia Lot Size(sqft) Price per Sqft  \\\n",
       "0         AZ  85021.0           110.0     7895.00000         259.91   \n",
       "1         AZ  85085.0           126.0     5400.00000         118.58   \n",
       "2         AZ  85018.0             3.0    14810.40000         429.80   \n",
       "3         AZ  85050.0           180.0    92933.22244         244.88   \n",
       "4         AZ  85033.0            29.0     9165.00000         109.70   \n",
       "...      ...      ...             ...            ...            ...   \n",
       "22422     NE  68046.0             3.0    10890.00000         142.29   \n",
       "22423     FL  33166.0           128.0    10125.00000         179.19   \n",
       "22424     LA  70714.0           136.0        1.00000          75.14   \n",
       "22425     OH  43065.0            68.0    92933.22244         141.57   \n",
       "22426     OK  73054.0             2.0   382892.40000         125.00   \n",
       "\n",
       "       Population  Violent Crime  Property Crime  Violent Crime Rate  \\\n",
       "0         1688722        11803.0         55974.0            0.006989   \n",
       "1         1688722        11803.0         55974.0            0.006989   \n",
       "2         1688722        11803.0         55974.0            0.006989   \n",
       "3         1688722        11803.0         55974.0            0.006989   \n",
       "4         1688722        11803.0         55974.0            0.006989   \n",
       "...           ...            ...             ...                 ...   \n",
       "22422       20580           40.0           433.0            0.001944   \n",
       "22423       14374           36.0           381.0            0.002505   \n",
       "22424       13240           51.0           326.0            0.003852   \n",
       "22425       13545            2.0            84.0            0.000148   \n",
       "22426        1834            4.0            10.0            0.002181   \n",
       "\n",
       "       Property Crime Rate  \n",
       "0                 0.033146  \n",
       "1                 0.033146  \n",
       "2                 0.033146  \n",
       "3                 0.033146  \n",
       "4                 0.033146  \n",
       "...                    ...  \n",
       "22422             0.021040  \n",
       "22423             0.026506  \n",
       "22424             0.024622  \n",
       "22425             0.006202  \n",
       "22426             0.005453  \n",
       "\n",
       "[22427 rows x 24 columns]"
      ]
     },
     "execution_count": 63,
     "metadata": {},
     "output_type": "execute_result"
    }
   ],
   "source": [
    "#calculate violent crime rate and property crime rate -- number of crimes/population  (add columns)\n",
    "# number of crimes / population\n",
    "mergeddf['Violent Crime Rate'] = mergeddf['Violent Crime'] / mergeddf['Population']\n",
    "mergeddf['Property Crime Rate'] = mergeddf['Property Crime'] / mergeddf['Population']\n",
    "mergeddf"
   ]
  },
  {
   "cell_type": "code",
   "execution_count": 64,
   "metadata": {},
   "outputs": [
    {
     "data": {
      "text/html": [
       "<div>\n",
       "<style scoped>\n",
       "    .dataframe tbody tr th:only-of-type {\n",
       "        vertical-align: middle;\n",
       "    }\n",
       "\n",
       "    .dataframe tbody tr th {\n",
       "        vertical-align: top;\n",
       "    }\n",
       "\n",
       "    .dataframe thead th {\n",
       "        text-align: right;\n",
       "    }\n",
       "</style>\n",
       "<table border=\"1\" class=\"dataframe\">\n",
       "  <thead>\n",
       "    <tr style=\"text-align: right;\">\n",
       "      <th></th>\n",
       "      <th>Uniq Id</th>\n",
       "      <th>Price</th>\n",
       "      <th>Sqr Ft</th>\n",
       "      <th>Longitude</th>\n",
       "      <th>Latitude</th>\n",
       "      <th>Beds</th>\n",
       "      <th>Bath</th>\n",
       "      <th>Year Built</th>\n",
       "      <th>Features</th>\n",
       "      <th>Last Sold Year</th>\n",
       "      <th>...</th>\n",
       "      <th>Last Tax Year</th>\n",
       "      <th>City</th>\n",
       "      <th>State</th>\n",
       "      <th>Zipcode</th>\n",
       "      <th>Days On Trulia</th>\n",
       "      <th>Lot Size(sqft)</th>\n",
       "      <th>Price per Sqft</th>\n",
       "      <th>Population</th>\n",
       "      <th>Violent Crime Rate</th>\n",
       "      <th>Property Crime Rate</th>\n",
       "    </tr>\n",
       "  </thead>\n",
       "  <tbody>\n",
       "    <tr>\n",
       "      <th>0</th>\n",
       "      <td>d6521bac40600f17287f0a5a8b3efc8d</td>\n",
       "      <td>895900.0</td>\n",
       "      <td>3447.0</td>\n",
       "      <td>-112.081985</td>\n",
       "      <td>33.560055</td>\n",
       "      <td>4.0</td>\n",
       "      <td>4.5</td>\n",
       "      <td>2019.0</td>\n",
       "      <td>Single Family Home | $260/sqft | Lot Size: 7,8...</td>\n",
       "      <td>NaN</td>\n",
       "      <td>...</td>\n",
       "      <td>2018.0</td>\n",
       "      <td>Phoenix</td>\n",
       "      <td>AZ</td>\n",
       "      <td>85021.0</td>\n",
       "      <td>110.0</td>\n",
       "      <td>7895.00000</td>\n",
       "      <td>259.91</td>\n",
       "      <td>1688722</td>\n",
       "      <td>0.006989</td>\n",
       "      <td>0.033146</td>\n",
       "    </tr>\n",
       "    <tr>\n",
       "      <th>1</th>\n",
       "      <td>c0b021f845c16f7ae098a5e105ac9217</td>\n",
       "      <td>300825.0</td>\n",
       "      <td>2537.0</td>\n",
       "      <td>-112.109130</td>\n",
       "      <td>33.772396</td>\n",
       "      <td>3.0</td>\n",
       "      <td>4.0</td>\n",
       "      <td>2005.0</td>\n",
       "      <td>Single Family Home | $119/sqft | Lot Size: 5,4...</td>\n",
       "      <td>2018.0</td>\n",
       "      <td>...</td>\n",
       "      <td>2018.0</td>\n",
       "      <td>Phoenix</td>\n",
       "      <td>AZ</td>\n",
       "      <td>85085.0</td>\n",
       "      <td>126.0</td>\n",
       "      <td>5400.00000</td>\n",
       "      <td>118.58</td>\n",
       "      <td>1688722</td>\n",
       "      <td>0.006989</td>\n",
       "      <td>0.033146</td>\n",
       "    </tr>\n",
       "    <tr>\n",
       "      <th>2</th>\n",
       "      <td>b49804a33efa41bba44312df9d2ec280</td>\n",
       "      <td>1050000.0</td>\n",
       "      <td>2443.0</td>\n",
       "      <td>-111.969080</td>\n",
       "      <td>33.492996</td>\n",
       "      <td>4.0</td>\n",
       "      <td>2.0</td>\n",
       "      <td>1962.0</td>\n",
       "      <td>Single Family Home | $430/sqft | Lot Size: 0.3...</td>\n",
       "      <td>2011.0</td>\n",
       "      <td>...</td>\n",
       "      <td>2018.0</td>\n",
       "      <td>Phoenix</td>\n",
       "      <td>AZ</td>\n",
       "      <td>85018.0</td>\n",
       "      <td>3.0</td>\n",
       "      <td>14810.40000</td>\n",
       "      <td>429.80</td>\n",
       "      <td>1688722</td>\n",
       "      <td>0.006989</td>\n",
       "      <td>0.033146</td>\n",
       "    </tr>\n",
       "    <tr>\n",
       "      <th>3</th>\n",
       "      <td>32b631b5d0834e3bf8983b889f1eb285</td>\n",
       "      <td>490990.0</td>\n",
       "      <td>2005.0</td>\n",
       "      <td>-112.018580</td>\n",
       "      <td>33.689830</td>\n",
       "      <td>2.0</td>\n",
       "      <td>2.5</td>\n",
       "      <td>NaN</td>\n",
       "      <td>Single Family Home | $245/sqft | 180+ Days on ...</td>\n",
       "      <td>NaN</td>\n",
       "      <td>...</td>\n",
       "      <td>NaN</td>\n",
       "      <td>Phoenix</td>\n",
       "      <td>AZ</td>\n",
       "      <td>85050.0</td>\n",
       "      <td>180.0</td>\n",
       "      <td>92933.22244</td>\n",
       "      <td>244.88</td>\n",
       "      <td>1688722</td>\n",
       "      <td>0.006989</td>\n",
       "      <td>0.033146</td>\n",
       "    </tr>\n",
       "    <tr>\n",
       "      <th>4</th>\n",
       "      <td>81d00428d77b64bf48e90472376403c5</td>\n",
       "      <td>190000.0</td>\n",
       "      <td>1732.0</td>\n",
       "      <td>-112.215470</td>\n",
       "      <td>33.484085</td>\n",
       "      <td>4.0</td>\n",
       "      <td>2.0</td>\n",
       "      <td>1983.0</td>\n",
       "      <td>Single Family Home | $110/sqft | Lot Size: 9,1...</td>\n",
       "      <td>2009.0</td>\n",
       "      <td>...</td>\n",
       "      <td>2018.0</td>\n",
       "      <td>Phoenix</td>\n",
       "      <td>AZ</td>\n",
       "      <td>85033.0</td>\n",
       "      <td>29.0</td>\n",
       "      <td>9165.00000</td>\n",
       "      <td>109.70</td>\n",
       "      <td>1688722</td>\n",
       "      <td>0.006989</td>\n",
       "      <td>0.033146</td>\n",
       "    </tr>\n",
       "  </tbody>\n",
       "</table>\n",
       "<p>5 rows × 22 columns</p>\n",
       "</div>"
      ],
      "text/plain": [
       "                            Uniq Id      Price  Sqr Ft   Longitude   Latitude  \\\n",
       "0  d6521bac40600f17287f0a5a8b3efc8d   895900.0  3447.0 -112.081985  33.560055   \n",
       "1  c0b021f845c16f7ae098a5e105ac9217   300825.0  2537.0 -112.109130  33.772396   \n",
       "2  b49804a33efa41bba44312df9d2ec280  1050000.0  2443.0 -111.969080  33.492996   \n",
       "3  32b631b5d0834e3bf8983b889f1eb285   490990.0  2005.0 -112.018580  33.689830   \n",
       "4  81d00428d77b64bf48e90472376403c5   190000.0  1732.0 -112.215470  33.484085   \n",
       "\n",
       "   Beds  Bath  Year Built                                           Features  \\\n",
       "0   4.0   4.5      2019.0  Single Family Home | $260/sqft | Lot Size: 7,8...   \n",
       "1   3.0   4.0      2005.0  Single Family Home | $119/sqft | Lot Size: 5,4...   \n",
       "2   4.0   2.0      1962.0  Single Family Home | $430/sqft | Lot Size: 0.3...   \n",
       "3   2.0   2.5         NaN  Single Family Home | $245/sqft | 180+ Days on ...   \n",
       "4   4.0   2.0      1983.0  Single Family Home | $110/sqft | Lot Size: 9,1...   \n",
       "\n",
       "   Last Sold Year  ...  Last Tax Year     City  State  Zipcode Days On Trulia  \\\n",
       "0             NaN  ...         2018.0  Phoenix     AZ  85021.0          110.0   \n",
       "1          2018.0  ...         2018.0  Phoenix     AZ  85085.0          126.0   \n",
       "2          2011.0  ...         2018.0  Phoenix     AZ  85018.0            3.0   \n",
       "3             NaN  ...            NaN  Phoenix     AZ  85050.0          180.0   \n",
       "4          2009.0  ...         2018.0  Phoenix     AZ  85033.0           29.0   \n",
       "\n",
       "   Lot Size(sqft)  Price per Sqft  Population  Violent Crime Rate  \\\n",
       "0      7895.00000          259.91     1688722            0.006989   \n",
       "1      5400.00000          118.58     1688722            0.006989   \n",
       "2     14810.40000          429.80     1688722            0.006989   \n",
       "3     92933.22244          244.88     1688722            0.006989   \n",
       "4      9165.00000          109.70     1688722            0.006989   \n",
       "\n",
       "   Property Crime Rate  \n",
       "0             0.033146  \n",
       "1             0.033146  \n",
       "2             0.033146  \n",
       "3             0.033146  \n",
       "4             0.033146  \n",
       "\n",
       "[5 rows x 22 columns]"
      ]
     },
     "execution_count": 64,
     "metadata": {},
     "output_type": "execute_result"
    }
   ],
   "source": [
    "#drop number of violent crimes and property crimes columns\n",
    "mergeddf.drop(\"Violent Crime\", axis = 1, inplace=True)\n",
    "mergeddf.drop(\"Property Crime\", axis = 1, inplace=True)\n",
    "mergeddf.head()"
   ]
  },
  {
   "cell_type": "code",
   "execution_count": 65,
   "metadata": {},
   "outputs": [
    {
     "data": {
      "text/plain": [
       "<matplotlib.axes._subplots.AxesSubplot at 0x7f01cfef2590>"
      ]
     },
     "execution_count": 65,
     "metadata": {},
     "output_type": "execute_result"
    },
    {
     "data": {
      "image/png": "[encoded data removed]",
      "text/plain": [
       "<Figure size 1008x504 with 1 Axes>"
      ]
     },
     "metadata": {},
     "output_type": "display_data"
    }
   ],
   "source": [
    "#regression for price vs violent crime rate\n",
    "plt.figure(figsize=(14,7))\n",
    "sb.regplot(x=\"Violent Crime Rate\", y=\"Price\", data=mergeddf, color='r')"
   ]
  },
  {
   "cell_type": "code",
   "execution_count": 66,
   "metadata": {},
   "outputs": [
    {
     "data": {
      "text/plain": [
       "<matplotlib.axes._subplots.AxesSubplot at 0x7f01cff6cb10>"
      ]
     },
     "execution_count": 66,
     "metadata": {},
     "output_type": "execute_result"
    },
    {
     "data": {
      "image/png": "[encoded data removed]",
      "text/plain": [
       "<Figure size 1008x504 with 1 Axes>"
      ]
     },
     "metadata": {},
     "output_type": "display_data"
    }
   ],
   "source": [
    "#regression for price vs property crime rate\n",
    "plt.figure(figsize=(14,7))\n",
    "sb.regplot(x=\"Property Crime Rate\", y=\"Price\", data=mergeddf, color='g')"
   ]
  },
  {
   "cell_type": "code",
   "execution_count": 92,
   "metadata": {},
   "outputs": [],
   "source": [
    "#some upper outliers"
   ]
  },
  {
   "cell_type": "code",
   "execution_count": 67,
   "metadata": {},
   "outputs": [
    {
     "data": {
      "text/plain": [
       "<matplotlib.axes._subplots.AxesSubplot at 0x7f01d004a490>"
      ]
     },
     "execution_count": 67,
     "metadata": {},
     "output_type": "execute_result"
    },
    {
     "data": {
      "image/png": "[encoded data removed]",
      "text/plain": [
       "<Figure size 1080x432 with 1 Axes>"
      ]
     },
     "metadata": {},
     "output_type": "display_data"
    }
   ],
   "source": [
    "#regression for price vs population\n",
    "plt.figure(figsize=(15,6))\n",
    "sb.regplot(x=\"Population\", y=\"Price\", data=mergeddf, color='b')"
   ]
  },
  {
   "cell_type": "code",
   "execution_count": 68,
   "metadata": {},
   "outputs": [
    {
     "data": {
      "text/plain": [
       "<bound method DataFrame.max of                 City  Population\n",
       "0            Phoenix     1688722\n",
       "1            Phoenix     1688722\n",
       "2            Phoenix     1688722\n",
       "3            Phoenix     1688722\n",
       "4            Phoenix     1688722\n",
       "...              ...         ...\n",
       "22422      Papillion       20580\n",
       "22423  Miami Springs       14374\n",
       "22424          Baker       13240\n",
       "22425         Powell       13545\n",
       "22426         Luther        1834\n",
       "\n",
       "[22427 rows x 2 columns]>"
      ]
     },
     "execution_count": 68,
     "metadata": {},
     "output_type": "execute_result"
    }
   ],
   "source": [
    "#Phoenix has largest population\n",
    "mergeddf[['City','Population']].max"
   ]
  },
  {
   "cell_type": "code",
   "execution_count": 69,
   "metadata": {},
   "outputs": [
    {
     "data": {
      "text/html": [
       "<div>\n",
       "<style scoped>\n",
       "    .dataframe tbody tr th:only-of-type {\n",
       "        vertical-align: middle;\n",
       "    }\n",
       "\n",
       "    .dataframe tbody tr th {\n",
       "        vertical-align: top;\n",
       "    }\n",
       "\n",
       "    .dataframe thead th {\n",
       "        text-align: right;\n",
       "    }\n",
       "</style>\n",
       "<table border=\"1\" class=\"dataframe\">\n",
       "  <thead>\n",
       "    <tr style=\"text-align: right;\">\n",
       "      <th></th>\n",
       "      <th>City</th>\n",
       "      <th>State</th>\n",
       "      <th>Violent Crime Rate</th>\n",
       "    </tr>\n",
       "  </thead>\n",
       "  <tbody>\n",
       "    <tr>\n",
       "      <th>20956</th>\n",
       "      <td>Highland Park</td>\n",
       "      <td>MI</td>\n",
       "      <td>0.020648</td>\n",
       "    </tr>\n",
       "    <tr>\n",
       "      <th>20968</th>\n",
       "      <td>Highland Park</td>\n",
       "      <td>MI</td>\n",
       "      <td>0.020648</td>\n",
       "    </tr>\n",
       "    <tr>\n",
       "      <th>20957</th>\n",
       "      <td>Highland Park</td>\n",
       "      <td>MI</td>\n",
       "      <td>0.020648</td>\n",
       "    </tr>\n",
       "    <tr>\n",
       "      <th>20958</th>\n",
       "      <td>Highland Park</td>\n",
       "      <td>MI</td>\n",
       "      <td>0.020648</td>\n",
       "    </tr>\n",
       "    <tr>\n",
       "      <th>20959</th>\n",
       "      <td>Highland Park</td>\n",
       "      <td>MI</td>\n",
       "      <td>0.020648</td>\n",
       "    </tr>\n",
       "    <tr>\n",
       "      <th>...</th>\n",
       "      <td>...</td>\n",
       "      <td>...</td>\n",
       "      <td>...</td>\n",
       "    </tr>\n",
       "    <tr>\n",
       "      <th>22355</th>\n",
       "      <td>Garden Ridge</td>\n",
       "      <td>TX</td>\n",
       "      <td>0.000000</td>\n",
       "    </tr>\n",
       "    <tr>\n",
       "      <th>21322</th>\n",
       "      <td>Indian Hills</td>\n",
       "      <td>KY</td>\n",
       "      <td>0.000000</td>\n",
       "    </tr>\n",
       "    <tr>\n",
       "      <th>21323</th>\n",
       "      <td>Indian Hills</td>\n",
       "      <td>KY</td>\n",
       "      <td>0.000000</td>\n",
       "    </tr>\n",
       "    <tr>\n",
       "      <th>22072</th>\n",
       "      <td>Northfield</td>\n",
       "      <td>KY</td>\n",
       "      <td>0.000000</td>\n",
       "    </tr>\n",
       "    <tr>\n",
       "      <th>21290</th>\n",
       "      <td>Ottawa Hills</td>\n",
       "      <td>OH</td>\n",
       "      <td>0.000000</td>\n",
       "    </tr>\n",
       "  </tbody>\n",
       "</table>\n",
       "<p>22427 rows × 3 columns</p>\n",
       "</div>"
      ],
      "text/plain": [
       "                City State  Violent Crime Rate\n",
       "20956  Highland Park    MI            0.020648\n",
       "20968  Highland Park    MI            0.020648\n",
       "20957  Highland Park    MI            0.020648\n",
       "20958  Highland Park    MI            0.020648\n",
       "20959  Highland Park    MI            0.020648\n",
       "...              ...   ...                 ...\n",
       "22355   Garden Ridge    TX            0.000000\n",
       "21322   Indian Hills    KY            0.000000\n",
       "21323   Indian Hills    KY            0.000000\n",
       "22072     Northfield    KY            0.000000\n",
       "21290   Ottawa Hills    OH            0.000000\n",
       "\n",
       "[22427 rows x 3 columns]"
      ]
     },
     "execution_count": 69,
     "metadata": {},
     "output_type": "execute_result"
    }
   ],
   "source": [
    "#Which city has the highest violent crime rate?\n",
    "mergeddf[['City','State','Violent Crime Rate']].sort_values(by=['Violent Crime Rate'],ascending=False)"
   ]
  },
  {
   "cell_type": "code",
   "execution_count": 70,
   "metadata": {},
   "outputs": [
    {
     "data": {
      "text/html": [
       "<div>\n",
       "<style scoped>\n",
       "    .dataframe tbody tr th:only-of-type {\n",
       "        vertical-align: middle;\n",
       "    }\n",
       "\n",
       "    .dataframe tbody tr th {\n",
       "        vertical-align: top;\n",
       "    }\n",
       "\n",
       "    .dataframe thead th {\n",
       "        text-align: right;\n",
       "    }\n",
       "</style>\n",
       "<table border=\"1\" class=\"dataframe\">\n",
       "  <thead>\n",
       "    <tr style=\"text-align: right;\">\n",
       "      <th></th>\n",
       "      <th>City</th>\n",
       "      <th>State</th>\n",
       "      <th>Property Crime Rate</th>\n",
       "    </tr>\n",
       "  </thead>\n",
       "  <tbody>\n",
       "    <tr>\n",
       "      <th>22401</th>\n",
       "      <td>Emeryville</td>\n",
       "      <td>CA</td>\n",
       "      <td>0.211874</td>\n",
       "    </tr>\n",
       "    <tr>\n",
       "      <th>22065</th>\n",
       "      <td>Medley</td>\n",
       "      <td>FL</td>\n",
       "      <td>0.199777</td>\n",
       "    </tr>\n",
       "    <tr>\n",
       "      <th>22066</th>\n",
       "      <td>Medley</td>\n",
       "      <td>FL</td>\n",
       "      <td>0.199777</td>\n",
       "    </tr>\n",
       "    <tr>\n",
       "      <th>22067</th>\n",
       "      <td>Medley</td>\n",
       "      <td>FL</td>\n",
       "      <td>0.199777</td>\n",
       "    </tr>\n",
       "    <tr>\n",
       "      <th>22073</th>\n",
       "      <td>Tukwila</td>\n",
       "      <td>WA</td>\n",
       "      <td>0.163902</td>\n",
       "    </tr>\n",
       "    <tr>\n",
       "      <th>...</th>\n",
       "      <td>...</td>\n",
       "      <td>...</td>\n",
       "      <td>...</td>\n",
       "    </tr>\n",
       "    <tr>\n",
       "      <th>20282</th>\n",
       "      <td>Albuquerque</td>\n",
       "      <td>NM</td>\n",
       "      <td>NaN</td>\n",
       "    </tr>\n",
       "    <tr>\n",
       "      <th>20283</th>\n",
       "      <td>Albuquerque</td>\n",
       "      <td>NM</td>\n",
       "      <td>NaN</td>\n",
       "    </tr>\n",
       "    <tr>\n",
       "      <th>20284</th>\n",
       "      <td>Albuquerque</td>\n",
       "      <td>NM</td>\n",
       "      <td>NaN</td>\n",
       "    </tr>\n",
       "    <tr>\n",
       "      <th>20285</th>\n",
       "      <td>Albuquerque</td>\n",
       "      <td>NM</td>\n",
       "      <td>NaN</td>\n",
       "    </tr>\n",
       "    <tr>\n",
       "      <th>22400</th>\n",
       "      <td>Derby</td>\n",
       "      <td>KS</td>\n",
       "      <td>NaN</td>\n",
       "    </tr>\n",
       "  </tbody>\n",
       "</table>\n",
       "<p>22427 rows × 3 columns</p>\n",
       "</div>"
      ],
      "text/plain": [
       "              City State  Property Crime Rate\n",
       "22401   Emeryville    CA             0.211874\n",
       "22065       Medley    FL             0.199777\n",
       "22066       Medley    FL             0.199777\n",
       "22067       Medley    FL             0.199777\n",
       "22073      Tukwila    WA             0.163902\n",
       "...            ...   ...                  ...\n",
       "20282  Albuquerque    NM                  NaN\n",
       "20283  Albuquerque    NM                  NaN\n",
       "20284  Albuquerque    NM                  NaN\n",
       "20285  Albuquerque    NM                  NaN\n",
       "22400        Derby    KS                  NaN\n",
       "\n",
       "[22427 rows x 3 columns]"
      ]
     },
     "execution_count": 70,
     "metadata": {},
     "output_type": "execute_result"
    }
   ],
   "source": [
    "#Which city has the highest property crime rate?\n",
    "mergeddf[['City','State','Property Crime Rate']].sort_values(by=['Property Crime Rate'],ascending=False)"
   ]
  },
  {
   "cell_type": "code",
   "execution_count": 97,
   "metadata": {},
   "outputs": [],
   "source": [
    "#deal with missing values in crime data"
   ]
  },
  {
   "cell_type": "code",
   "execution_count": 71,
   "metadata": {},
   "outputs": [
    {
     "data": {
      "text/plain": [
       "Uniq Id                    0\n",
       "Price                      0\n",
       "Sqr Ft                     0\n",
       "Longitude                  0\n",
       "Latitude                   0\n",
       "Beds                       0\n",
       "Bath                       0\n",
       "Year Built              2859\n",
       "Features                   0\n",
       "Last Sold Year         12340\n",
       "Last Sold For          12340\n",
       "Last Tax Assestment     9520\n",
       "Last Tax Year           9557\n",
       "City                       0\n",
       "State                      0\n",
       "Zipcode                    0\n",
       "Days On Trulia             0\n",
       "Lot Size(sqft)             0\n",
       "Price per Sqft             0\n",
       "Population                 0\n",
       "Violent Crime Rate         0\n",
       "Property Crime Rate      251\n",
       "dtype: int64"
      ]
     },
     "execution_count": 71,
     "metadata": {},
     "output_type": "execute_result"
    }
   ],
   "source": [
    "#check for missing values\n",
    "mergeddf.isnull().sum()"
   ]
  },
  {
   "cell_type": "code",
   "execution_count": 72,
   "metadata": {},
   "outputs": [
    {
     "name": "stdout",
     "output_type": "stream",
     "text": [
      "0.033387507754866395\n",
      "       Property Crime Rate\n",
      "0                 0.033146\n",
      "1                 0.033146\n",
      "2                 0.033146\n",
      "3                 0.033146\n",
      "4                 0.033146\n",
      "...                    ...\n",
      "22422             0.021040\n",
      "22423             0.026506\n",
      "22424             0.024622\n",
      "22425             0.006202\n",
      "22426             0.005453\n",
      "\n",
      "[22427 rows x 1 columns]\n"
     ]
    }
   ],
   "source": [
    "#replace missing values for Property Crime Rate with the mean\n",
    "mean=mergeddf[\"Property Crime Rate\"].mean()\n",
    "mergeddf[\"Property Crime Rate\"].fillna(mean, inplace=True)\n",
    "\n",
    "print(mean)\n",
    "print(mergeddf[['Property Crime Rate']])"
   ]
  },
  {
   "cell_type": "code",
   "execution_count": 73,
   "metadata": {},
   "outputs": [
    {
     "name": "stdout",
     "output_type": "stream",
     "text": [
      "1975.0\n",
      "0    2019.0\n",
      "dtype: float64\n",
      "       Year Built\n",
      "0          2019.0\n",
      "1          2005.0\n",
      "2          1962.0\n",
      "3          1975.0\n",
      "4          1983.0\n",
      "...           ...\n",
      "22422      1975.0\n",
      "22423      1955.0\n",
      "22424      1975.0\n",
      "22425      1981.0\n",
      "22426      2010.0\n",
      "\n",
      "[22427 rows x 1 columns]\n"
     ]
    }
   ],
   "source": [
    "#replace missing values for Property Crime Rate with the mean\n",
    "mean=mergeddf[\"Year Built\"].mean()\n",
    "mean=mean.round()\n",
    "mergeddf[\"Year Built\"].fillna(mean, inplace=True)\n",
    "\n",
    "print(mean)\n",
    "print(mode)\n",
    "print(mergeddf[['Year Built']])"
   ]
  },
  {
   "cell_type": "code",
   "execution_count": 74,
   "metadata": {},
   "outputs": [
    {
     "data": {
      "text/plain": [
       "Uniq Id                 object\n",
       "Price                  float64\n",
       "Sqr Ft                 float64\n",
       "Longitude              float64\n",
       "Latitude               float64\n",
       "Beds                   float64\n",
       "Bath                   float64\n",
       "Year Built             float64\n",
       "Features                object\n",
       "Last Sold Year         float64\n",
       "Last Sold For          float64\n",
       "Last Tax Assestment    float64\n",
       "Last Tax Year          float64\n",
       "City                    object\n",
       "State                   object\n",
       "Zipcode                float64\n",
       "Days On Trulia         float64\n",
       "Lot Size(sqft)         float64\n",
       "Price per Sqft         float64\n",
       "Population               int64\n",
       "Violent Crime Rate     float64\n",
       "Property Crime Rate    float64\n",
       "dtype: object"
      ]
     },
     "execution_count": 74,
     "metadata": {},
     "output_type": "execute_result"
    }
   ],
   "source": [
    "#Check data types\n",
    "mergeddf.dtypes"
   ]
  },
  {
   "cell_type": "code",
   "execution_count": 75,
   "metadata": {},
   "outputs": [],
   "source": [
    "#define file to be exported\n",
    "exportdf = pd.DataFrame(mergeddf, columns= ['Uniq Id', 'Price','Sqr Ft','Beds','Bath','Year Built','Features','City',\n",
    "            'State','Days On Trulia','Lot Size(sqft)','Price per Sqft','Population','Violent Crime Rate','Property Crime Rate'])\n"
   ]
  },
  {
   "cell_type": "code",
   "execution_count": 103,
   "metadata": {},
   "outputs": [
    {
     "data": {
      "text/plain": [
       "{'file_name': 'housing_crime_merged.csv',\n",
       " 'message': 'File saved to project storage.',\n",
       " 'bucket_name': 'seniorproject-donotdelete-pr-6dm4jsyzpqluep',\n",
       " 'asset_id': 'de582f01-c9c7-4cd6-aeb9-c4a5c4972b7e'}"
      ]
     },
     "execution_count": 103,
     "metadata": {},
     "output_type": "execute_result"
    }
   ],
   "source": [
    "# Export mergeddf as a csv file to project assets\n",
    "\n",
    "#@hidden_cell\n",
    "# The project token is an authorization token that is used to access project resources like data sources, connections, and used by platform APIs.\n",
    "from project_lib import Project\n",
    "project = Project(project_id='e5b5564f-3061-4776-af66-2ba2d1874948', project_access_token='p-afce1f171120edb3c4d766e0d3b5a708f5fbf7d5')\n",
    "pc = project.project_context\n",
    "\n",
    "# save in your object storage as a csv file\n",
    "project.save_data(\"housing_crime_merged.csv\", exportdf.to_csv(index=False),overwrite = True)\n"
   ]
  },
  {
   "cell_type": "markdown",
   "metadata": {},
   "source": [
    "#### Correlation Matrix"
   ]
  },
  {
   "cell_type": "code",
   "execution_count": 77,
   "metadata": {},
   "outputs": [
    {
     "data": {
      "text/plain": [
       "<matplotlib.axes._subplots.AxesSubplot at 0x7f01c69ea1d0>"
      ]
     },
     "execution_count": 77,
     "metadata": {},
     "output_type": "execute_result"
    },
    {
     "data": {
      "image/png": "[encoded data removed]",
      "text/plain": [
       "<Figure size 648x432 with 2 Axes>"
      ]
     },
     "metadata": {},
     "output_type": "display_data"
    }
   ],
   "source": [
    "# Through a correlation matrix figure out which attributes are best to predict target\n",
    "\"\"\"\n",
    "Next, we create a correlation matrix that measures the linear relationships between the \n",
    "variables. The correlation matrix can be formed by using the corr function from the pandas \n",
    "dataframe library. We will use the heatmap function from the seaborn library to plot the \n",
    "correlation matrix.\n",
    "\"\"\"\n",
    "correlation_matrix = exportdf.corr().round(2)\n",
    "# annot = True to print the values inside the square\n",
    "sb.heatmap(data=correlation_matrix, annot=True)"
   ]
  },
  {
   "cell_type": "code",
   "execution_count": 79,
   "metadata": {},
   "outputs": [
    {
     "data": {
      "text/plain": [
       "'\\nFrom the heat map correlation matrix above, we can see that the number of bedrooms (0.23), the number of bathrooms (0.39), \\nand population (0.22) are the variables that are most correlated with the response variable, price.\\n\\nWe also need to look at correlations between the predictor variables. High correlation with other predictor variables\\ncould cause the issue of multi-colinearity. If there are variables that are very correlated with eachother, we\\nshould only include one of them. Here are some worth noting:\\n\\n-The number of bedrooms and number of bathrooms are highly correlated with eachother (0.52).\\n-The number of bathrooms and the year built are correlated (0.22).\\n-Violent crime rate and property crime rate are very highly correlated (0.6).\\n-Population and violent crime rate are positively correlated (0.15).\\n-Violent crime rate and year built are very negatively correlated (-0.29).\\n-Population and year built are negatively correlated (-0.15).\\n\\n'"
      ]
     },
     "execution_count": 79,
     "metadata": {},
     "output_type": "execute_result"
    }
   ],
   "source": [
    "'''\n",
    "From the heat map correlation matrix above, we can see that the number of bedrooms (0.23), the number of bathrooms (0.39), \n",
    "and population (0.22) are the variables that are most correlated with the response variable, price.\n",
    "\n",
    "We also need to look at correlations between the predictor variables. High correlation with other predictor variables\n",
    "could cause the issue of multi-colinearity. If there are variables that are very correlated with eachother, we\n",
    "should only include one of them. Here are some worth noting:\n",
    "\n",
    "-The number of bedrooms and number of bathrooms are highly correlated with eachother (0.52).\n",
    "-The number of bathrooms and the year built are correlated (0.22).\n",
    "-Violent crime rate and property crime rate are very highly correlated (0.6).\n",
    "-Population and violent crime rate are positively correlated (0.15).\n",
    "-Violent crime rate and year built are very negatively correlated (-0.29).\n",
    "-Population and year built are negatively correlated (-0.15).\n",
    "\n",
    "'''"
   ]
  },
  {
   "cell_type": "code",
   "execution_count": 84,
   "metadata": {},
   "outputs": [
    {
     "data": {
      "image/png": "[encoded data removed]",
      "text/plain": [
       "<Figure size 1440x360 with 4 Axes>"
      ]
     },
     "metadata": {},
     "output_type": "display_data"
    }
   ],
   "source": [
    "\"\"\"\n",
    "Using a scatter plot, let’s see how these features vary with price.\n",
    "\"\"\"\n",
    "plt.figure(figsize=(20, 5))\n",
    "\n",
    "features = ['Beds', 'Bath', 'Population', 'Violent Crime Rate']\n",
    "target = exportdf['Price']\n",
    "\n",
    "for i, col in enumerate(features):\n",
    "    plt.subplot(1, len(features) , i+1)\n",
    "    x = exportdf[col]\n",
    "    y = target\n",
    "    plt.scatter(x, y, marker='o')\n",
    "    plt.title(col)\n",
    "    plt.xlabel(col)\n",
    "    plt.ylabel('Price')"
   ]
  },
  {
   "cell_type": "code",
   "execution_count": 85,
   "metadata": {},
   "outputs": [],
   "source": [
    "# It is hard to tell from the scatterplots if these variables have a linear relationship due to some outliers."
   ]
  },
  {
   "cell_type": "code",
   "execution_count": 4,
   "metadata": {},
   "outputs": [],
   "source": [
    "# Continued in Senior Project (Part 2) Notebook"
   ]
  }
 ],
 "metadata": {
  "kernelspec": {
   "display_name": "Python 3",
   "language": "python",
   "name": "python3"
  },
  "language_info": {
   "codemirror_mode": {
    "name": "ipython",
    "version": 3
   },
   "file_extension": ".py",
   "mimetype": "text/x-python",
   "name": "python",
   "nbconvert_exporter": "python",
   "pygments_lexer": "ipython3",
   "version": "3.8.5"
  }
 },
 "nbformat": 4,
 "nbformat_minor": 1
}
